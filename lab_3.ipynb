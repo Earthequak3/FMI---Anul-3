{
 "cells": [
  {
   "cell_type": "code",
   "execution_count": null,
   "id": "YB7ghb9BzWMu",
   "metadata": {
    "colab": {
     "base_uri": "https://localhost:8080/"
    },
    "executionInfo": {
     "elapsed": 62994,
     "status": "ok",
     "timestamp": 1678277510953,
     "user": {
      "displayName": "MIRUNA-ANDREEA ZAVELCA",
      "userId": "12692883064275182332"
     },
     "user_tz": -120
    },
    "id": "YB7ghb9BzWMu",
    "outputId": "6f23f47b-61cc-4fd6-a806-78ce6157ff90"
   },
   "outputs": [
    {
     "name": "stdout",
     "output_type": "stream",
     "text": [
      "Mounted at /content/drive/\n"
     ]
    }
   ],
   "source": [
    "from google.colab import drive\n",
    "drive.mount('/content/drive/')"
   ]
  },
  {
   "cell_type": "code",
   "execution_count": null,
   "id": "tiIX__CP5OE1",
   "metadata": {
    "id": "tiIX__CP5OE1"
   },
   "outputs": [],
   "source": [
    "import os\n",
    "os.chdir(\"/content/drive/MyDrive/NLP/lab_3\")"
   ]
  },
  {
   "cell_type": "markdown",
   "id": "4fc86a84",
   "metadata": {
    "id": "4fc86a84"
   },
   "source": [
    "## Lab 3. Clasificarea textelor utilizând vectorizarea Bag-of-Words"
   ]
  },
  {
   "cell_type": "code",
   "execution_count": 50,
   "id": "58ea606b",
   "metadata": {
    "id": "58ea606b"
   },
   "outputs": [],
   "source": [
    "import matplotlib.pyplot as plt\n",
    "import numpy as np\n",
    "import seaborn as sns\n",
    "from sklearn import preprocessing, metrics\n",
    "from sklearn.datasets import make_classification\n",
    "from sklearn.feature_extraction.text import CountVectorizer, TfidfVectorizer\n",
    "from sklearn.model_selection import train_test_split\n",
    "from sklearn.tree import DecisionTreeClassifier"
   ]
  },
  {
   "cell_type": "markdown",
   "id": "8db25202",
   "metadata": {
    "id": "8db25202"
   },
   "source": [
    "### 1. Bag-of-Words"
   ]
  },
  {
   "cell_type": "markdown",
   "id": "ee75112f",
   "metadata": {
    "id": "ee75112f"
   },
   "source": [
    "Am văzut în laboratorul trecut cum putem folosi diverse tehnici pentru a reduce un text la o listă de cuvinte (tokens). Am văzut cum putem elimina cuvintele care au o încărcătura semantică redusă (stopwords) și cum putem normaliza tokenii, aducandu-i la o forma unica pentru inlfexiuni diferite ale acestora (lematizare, stemming).\n",
    "\n",
    "Pentru a antrena un model de Machine Learning avem nevoie să mai facem cațiva pași. Aceste reprezentari determinate anterior (liste de tokens) trebuie traduse în reprezentări numerice vectoriale (fiecarui text îi vom asocia un vector, iar toți vectorii corespunzători textelor vor avea aceeași dimensiune)."
   ]
  },
  {
   "cell_type": "markdown",
   "id": "a3168a61",
   "metadata": {
    "id": "a3168a61"
   },
   "source": [
    "O astfel de metoda este reprezentarea textelor folosind tehnica Bag-of-Words. Aceasta metodă pornește de la un vocabular de cuvinte, un șir $[w_1, w_2, \\ldots, w_n]$, unde $w_i$ reprezintă un cuvânt din vocabular. Vocabularul poate fi stabilit de la început sau determinat pe baza listelor preprocesate de tokeni (putem defini vocabularul ca cei mai frecventi $n$ tokens din aceste liste).\n",
    "\n",
    "Un text (lista de tokens) poate fi acum transformat intr-un vector de dimensiune $n$: $(a_1, \\ldots, a_n)$ unde $a_i=1$ daca cuvântul $w_i$ apare cel pușin o dată în text, respectiv $a_i=0$ altfel. Aceasta reprezentare o mai numim și Bag-of-Words binar.\n",
    "\n",
    "O altfel de reprezentare asemanatoare poate fi bazata pe frecvente, unde $a_i$ reprezintă numărul de apariții ale cuvantului $w_i$ în text."
   ]
  },
  {
   "cell_type": "code",
   "execution_count": null,
   "id": "ae68493f",
   "metadata": {
    "id": "ae68493f"
   },
   "outputs": [],
   "source": [
    "# exemplu texte (procesate ca liste de tokens)\n",
    "texts = [\n",
    "    [\"love\", \"fun\", \"fun\", \"play\", \"happy\", \"sad\"],\n",
    "    [\"love\", \"happy\", \"love\", \"love\", \"tears\"],\n",
    "    [\"sad\", \"tears\", \"tears\"],\n",
    "]\n",
    "\n",
    "# exemplu vocabular\n",
    "vocab = [\"love\", \"fun\", \"tears\", \"sad\", \"happy\"]"
   ]
  },
  {
   "cell_type": "code",
   "execution_count": null,
   "id": "26baa2df",
   "metadata": {
    "id": "26baa2df"
   },
   "outputs": [],
   "source": [
    "# reprezentare BoW binar\n",
    "repr_bin = [\n",
    "    [1, 1, 0, 1, 1],\n",
    "    [1, 0, 1, 0, 1],\n",
    "    [0, 0, 1, 1, 0],\n",
    "]"
   ]
  },
  {
   "cell_type": "code",
   "execution_count": null,
   "id": "49ed4c0d",
   "metadata": {
    "id": "49ed4c0d"
   },
   "outputs": [],
   "source": [
    "# reprezentare BoW pe baza de frecvente\n",
    "repr_fr = [\n",
    "    [1, 2, 0, 1, 1],\n",
    "    [3, 0, 1, 0, 1],\n",
    "    [0, 0, 2, 1, 0],\n",
    "]"
   ]
  },
  {
   "cell_type": "markdown",
   "id": "8ffb1a37",
   "metadata": {
    "id": "8ffb1a37"
   },
   "source": [
    "Această logică poate fi implementată ușor, dar aceasta poate fi regasită (împreună cu alte detalii interesante) în clasa [CountVectorizer](https://scikit-learn.org/stable/modules/generated/sklearn.feature_extraction.text.CountVectorizer.html) din scikit-learn.\n",
    "\n",
    "Într-un obiect de acest tip putem încorpora și logica de preprocesare + tokenizare a textelor."
   ]
  },
  {
   "cell_type": "code",
   "execution_count": null,
   "id": "8985a53b",
   "metadata": {
    "id": "8985a53b"
   },
   "outputs": [],
   "source": [
    "texts = [\n",
    "    \"Love fun fun Play Happy sad\",\n",
    "    \"love happy Love love tears\",\n",
    "    \"sad Tears tears\",\n",
    "]"
   ]
  },
  {
   "cell_type": "markdown",
   "id": "3371bc70",
   "metadata": {
    "id": "3371bc70"
   },
   "source": [
    "Implementăm o preprocesare rudimentară a acestor texte, transformăm toate majusculele în litere mici, iar pentru tokenizare dăm split dupa spațiu. În cazul în care lucrați cu texte mai complexe, în acești pași puteți include ce am discutat în laboratorul anterior (eliminare de punctuatie, tokenizare, eliminare de stopwords, lematizare, stemming etc.)."
   ]
  },
  {
   "cell_type": "code",
   "execution_count": null,
   "id": "761b3404",
   "metadata": {
    "colab": {
     "base_uri": "https://localhost:8080/"
    },
    "id": "761b3404",
    "outputId": "ff77c1b8-8180-4852-8cc7-647dee358d77"
   },
   "outputs": [
    {
     "name": "stdout",
     "output_type": "stream",
     "text": [
      "['love', 'fun', 'fun', 'play', 'happy', 'sad']\n"
     ]
    }
   ],
   "source": [
    "def dummy_preprocess(text):\n",
    "    return text.lower()\n",
    "\n",
    "def dummy_tokenize(text):\n",
    "    return text.split(\" \")\n",
    "\n",
    "test_preprocess = dummy_preprocess(texts[0])\n",
    "test_tokens = dummy_tokenize(test_preprocess)\n",
    "print(test_tokens)"
   ]
  },
  {
   "cell_type": "code",
   "execution_count": null,
   "id": "72a62d4f",
   "metadata": {
    "colab": {
     "base_uri": "https://localhost:8080/"
    },
    "id": "72a62d4f",
    "outputId": "77176ca5-87db-43b9-effd-43c339e1b84c"
   },
   "outputs": [
    {
     "name": "stdout",
     "output_type": "stream",
     "text": [
      "['fun', 'happy', 'love', 'sad', 'tears']\n",
      "(3, 5)\n",
      "<class 'scipy.sparse._csr.csr_matrix'>\n",
      "[[1 1 1 1 0]\n",
      " [0 1 1 0 1]\n",
      " [0 0 0 1 1]]\n"
     ]
    }
   ],
   "source": [
    "cv = CountVectorizer(\n",
    "    preprocessor=dummy_preprocess,  # metoda de preprocesare a textelor\n",
    "    tokenizer=dummy_tokenize,       # metoda de tokenizare\n",
    "    token_pattern=None,             # nu avem nevoie de acest argument intrucat avem propria metoda de tokenizare\n",
    "    max_features=5,                 # dimensiunea maximă a vocabularului care va fi determinat\n",
    "    binary=True,                    # BoW binar\n",
    ")\n",
    "\n",
    "# metoda `fit` este folosita in acest caz pentru a determina vocabularul\n",
    "# (pastrand cei mai frecventi `max_features` tokens din textele procesate)\n",
    "cv.fit(texts)\n",
    "\n",
    "print(sorted(list(cv.vocabulary_.keys())))\n",
    "\n",
    "# calculeaza reprezentarile textelor (feature vectors)\n",
    "features = cv.transform(texts)\n",
    "print(features.shape)\n",
    "print(type(features))\n",
    "print(features.toarray())  # convertim la numpy array"
   ]
  },
  {
   "cell_type": "code",
   "execution_count": null,
   "id": "84022c67",
   "metadata": {
    "colab": {
     "base_uri": "https://localhost:8080/"
    },
    "id": "84022c67",
    "outputId": "8d390068-fb69-442c-a72c-895631b3adab"
   },
   "outputs": [
    {
     "name": "stdout",
     "output_type": "stream",
     "text": [
      "['fun', 'happy', 'love', 'sad', 'tears']\n",
      "(3, 5)\n",
      "<class 'scipy.sparse._csr.csr_matrix'>\n",
      "[[2 1 1 1 0]\n",
      " [0 1 3 0 1]\n",
      " [0 0 0 1 2]]\n"
     ]
    }
   ],
   "source": [
    "cv = CountVectorizer(\n",
    "    preprocessor=dummy_preprocess, \n",
    "    tokenizer=dummy_tokenize,       \n",
    "    token_pattern=None,             \n",
    "    max_features=5,                 \n",
    "    binary=False,                   # BoW bazat pe frecvente\n",
    ")\n",
    "\n",
    "cv.fit(texts)\n",
    "\n",
    "print(sorted(list(cv.vocabulary_.keys())))\n",
    "\n",
    "# calculeaza reprezentarile textelor (feature vectors)\n",
    "features = cv.transform(texts)\n",
    "print(features.shape)\n",
    "print(type(features))\n",
    "print(features.toarray())  # convertim la numpy array"
   ]
  },
  {
   "cell_type": "markdown",
   "id": "af3e5de5",
   "metadata": {
    "id": "af3e5de5"
   },
   "source": [
    "O alternativă a acestor reprezentări este numărarea n-gramelor.\n",
    "\n",
    "Sa luam spre exemplu fraza \"I am not happy\". Metoda de mai devreme ne reda reprezentarea acestei fraza ca o multime de cuvinte (indiferent de ordinea lor). Astfel, această reprezentare indica prezența cuvantului \"happy\", ceea ce ar face un model să interpreteze textul într-un cadru pozitiv. Dar vedem clar că nu este aceasta situația. Dacă în loc de tokeni simpli (unigrame) am număra secvențe de cțte 2 tokeni consecutivi (bigrame), am putea identifica prezența bigramei (\"not\", \"happy\") care intuim că nu ar avea ce căuta într-un text cu sentiment pozitiv."
   ]
  },
  {
   "cell_type": "code",
   "execution_count": null,
   "id": "1fe4c428",
   "metadata": {
    "colab": {
     "base_uri": "https://localhost:8080/"
    },
    "id": "1fe4c428",
    "outputId": "18d40d64-dd4e-4931-dfd7-2fe7d5d4911a"
   },
   "outputs": [
    {
     "name": "stdout",
     "output_type": "stream",
     "text": [
      "['fun fun', 'fun play', 'happy love', 'happy sad', 'love fun']\n",
      "(3, 5)\n",
      "<class 'scipy.sparse._csr.csr_matrix'>\n",
      "[[1 1 0 1 1]\n",
      " [0 0 1 0 0]\n",
      " [0 0 0 0 0]]\n"
     ]
    }
   ],
   "source": [
    "cv = CountVectorizer(\n",
    "    preprocessor=dummy_preprocess, \n",
    "    tokenizer=dummy_tokenize,       \n",
    "    token_pattern=None,             \n",
    "    max_features=5,                 \n",
    "    ngram_range=(2, 2),                   # construim un vocabular de bigrame\n",
    ")\n",
    "\n",
    "cv.fit(texts)\n",
    "\n",
    "print(sorted(list(cv.vocabulary_.keys())))\n",
    "\n",
    "# calculeaza reprezentarile textelor (feature vectors)\n",
    "features = cv.transform(texts)\n",
    "print(features.shape)\n",
    "print(type(features))\n",
    "print(features.toarray())  # convertim la numpy array"
   ]
  },
  {
   "cell_type": "markdown",
   "id": "d83fd48c",
   "metadata": {
    "id": "d83fd48c"
   },
   "source": [
    "### 2. Feature Scaling (normalizarea datelor)"
   ]
  },
  {
   "cell_type": "markdown",
   "id": "134e5179",
   "metadata": {
    "id": "134e5179"
   },
   "source": [
    "#### Standard Scaling\n",
    "\n",
    "Având determinați vectorii de features se pune urmatoarea problemă: știind că un feature reprezintă frecventa unui cuvânt din vocabular în texte (în vectorizarea BoW), iar pentru anumite cuvinte în mod natural această frecvență este mai mare, faptul că anumite feature-uri au valoare absolută mai mare decât alta poate influența diverși algoritmi de ML să trateze acele feature-uri cu mai multa importanță (ceea ce de multe ori nu este corect).\n",
    "\n",
    "Prin Standard Scaling presupunem că fiecare feature corespunde câte unei variabile aleatoare distribuita normal. Putem deci estima pentru fiecare astfel de variabilă media si deviatia standard, apoi prin procesul de standardizare putem reduce valorile feature-ului corespunzător la o distribuție normală de medie $0$ și varianță $1$."
   ]
  },
  {
   "cell_type": "code",
   "execution_count": null,
   "id": "e9791f91",
   "metadata": {
    "colab": {
     "base_uri": "https://localhost:8080/"
    },
    "id": "e9791f91",
    "outputId": "558548c5-0dc3-48fe-907c-8b45c5358c47"
   },
   "outputs": [
    {
     "name": "stdout",
     "output_type": "stream",
     "text": [
      "media = [1.         0.         0.33333333]\n",
      "std = [0.81649658 0.81649658 1.24721913]\n",
      "[[ 0.         -1.22474487  1.33630621]\n",
      " [ 1.22474487  0.         -0.26726124]\n",
      " [-1.22474487  1.22474487 -1.06904497]]\n",
      "[[-2.44948974  1.22474487 -0.26726124]]\n"
     ]
    }
   ],
   "source": [
    "x_train = np.array([[1, -1, 2], [2, 0, 0], [0, 1, -1]], dtype=np.float64)\n",
    "x_test = np.array([[-1, 1, 0]], dtype=np.float64)\n",
    " \n",
    "# clasa folosita pentru standardizare\n",
    "scaler = preprocessing.StandardScaler()\n",
    "\n",
    "# calculam media si deviatia standard pentru feature vectorii de antrenare\n",
    "scaler.fit(x_train)\n",
    "\n",
    "print('media =', scaler.mean_)  \n",
    "print('std =', scaler.scale_) \n",
    "\n",
    "# scalam vectorii de train\n",
    "scaled_x_train = scaler.transform(x_train)\n",
    "print(scaled_x_train)  \n",
    "\n",
    "# scalam vectorii de test\n",
    "# (folosim media si std determinate din train, datele de test nu sunt folosite pentru a determina hiperparametrii)\n",
    "scaled_x_test = scaler.transform(x_test)\n",
    "print(scaled_x_test)     "
   ]
  },
  {
   "cell_type": "markdown",
   "id": "b35243cb",
   "metadata": {
    "id": "b35243cb"
   },
   "source": [
    "#### Normalizare L1 si L2\n",
    "\n",
    "Acest mod de normalizare este mai simplu întrucât nu mai necesită determinarea unor parametri. Fiecare vector de features este împărțit prin norma sa (L1 sau L2), obținând astfel ca toți vectorii corespunzătoari textelor să aibă norma 1.\n",
    "\n",
    "$$x{\\_}scaled_1 = \\frac{X}{\\mid\\mid X \\mid\\mid_1}, \\mid\\mid X \\mid\\mid_1 = \\sum_{i=1}^{n}\\mid x_i \\mid $$\n",
    "$$x{\\_}scaled_2 = \\frac{X}{\\mid\\mid X \\mid\\mid_2}, \\mid\\mid X \\mid\\mid_2 = \\sqrt{\\sum_{i=1}^{n} x_i ^ 2 }$$"
   ]
  },
  {
   "cell_type": "code",
   "execution_count": null,
   "id": "47ad1e98",
   "metadata": {
    "colab": {
     "base_uri": "https://localhost:8080/"
    },
    "id": "47ad1e98",
    "outputId": "27290073-3929-4d72-f9e3-6bb54ea3d256"
   },
   "outputs": [
    {
     "name": "stdout",
     "output_type": "stream",
     "text": [
      "[[ 0.25 -0.25  0.5 ]\n",
      " [ 1.    0.    0.  ]\n",
      " [ 0.    0.5  -0.5 ]]\n",
      "[[-0.5  0.5  0. ]]\n"
     ]
    }
   ],
   "source": [
    "x_train = np.array([[1, -1, 2], [2, 0, 0], [0, 1, -1]], dtype=np.float64)\n",
    "x_test = np.array([[-1, 1, 0]], dtype=np.float64)\n",
    "\n",
    "# clasa folosita pentru normalizare\n",
    "scaler = preprocessing.Normalizer(norm='l1') \n",
    "# scaler = preprocessing.Normalizer(norm='l2')\n",
    "\n",
    "scaler.fit(x_train)\n",
    "\n",
    "# scalam vectorii de train\n",
    "scaled_x_train = scaler.transform(x_train)\n",
    "print(scaled_x_train)  \n",
    "\n",
    "# scalam vectorii de test\n",
    "scaled_x_test = scaler.transform(x_test)\n",
    "print(scaled_x_test)  "
   ]
  },
  {
   "cell_type": "markdown",
   "id": "641c1c37",
   "metadata": {
    "id": "641c1c37"
   },
   "source": [
    "### 3. Tf-Idf"
   ]
  },
  {
   "cell_type": "markdown",
   "id": "cbc92232",
   "metadata": {
    "id": "cbc92232"
   },
   "source": [
    "O altă metodă de normalizare a feature-urilor pentru reprezentarea Bag-of-Words este **Tf-Idf**.\n",
    "\n",
    "**Term Frequency (TF)** numară pentru un token și un document de câte ori apare tokenul respectiv în document.\n",
    "\n",
    "O varianta de calcul pentru un token $t$ și un document $d$ ar fi: $\\textrm{tf}(t, d) = log(1 + \\textrm{frecv}(t, d))$.\n",
    "\n",
    "**Inverse Document Frequency (IDF)** iluestrează cât de comun sau rar este un cuvânt într-un întreg corpus (mulțime de texte). Astfel, cu cât această valoare se apropie de $0$ tokenul respectiv este mai comun.\n",
    "\n",
    "Pentru un token $t$ și o mulțime de $N$ documente $D$, putem calcula IDF astfel: $\\textrm{idf}(t, D) = \\log(\\frac{N}{|\\{d \\in D: t \\textrm{ apare in } d\\}|})$.\n",
    "\n",
    "**TF-IDF** combina cele doua formule:\n",
    "$$\\textrm{tfidf}(t, d, D) = \\textrm{tf}(t, d) \\cdot \\textrm{idf}(t, D)$$.\n",
    "\n",
    "Mai multe informatii [aici](https://ro.wikipedia.org/wiki/Tf%E2%80%93idf)."
   ]
  },
  {
   "cell_type": "code",
   "execution_count": null,
   "id": "53971e83",
   "metadata": {
    "colab": {
     "base_uri": "https://localhost:8080/"
    },
    "id": "53971e83",
    "outputId": "ea8bac42-60d6-47e7-8928-d1914864fe68"
   },
   "outputs": [
    {
     "name": "stdout",
     "output_type": "stream",
     "text": [
      "['fun', 'happy', 'love', 'sad', 'tears']\n",
      "(3, 5)\n",
      "<class 'scipy.sparse._csr.csr_matrix'>\n",
      "[[0.83513325 0.31757018 0.31757018 0.31757018 0.        ]\n",
      " [0.         0.30151134 0.90453403 0.         0.30151134]\n",
      " [0.         0.         0.         0.4472136  0.89442719]]\n"
     ]
    }
   ],
   "source": [
    "# exemplu TfidfVectorizer\n",
    "\n",
    "cv = TfidfVectorizer(\n",
    "    preprocessor=dummy_preprocess, \n",
    "    tokenizer=dummy_tokenize,       \n",
    "    token_pattern=None,             \n",
    "    max_features=5,\n",
    ")\n",
    "\n",
    "cv.fit(texts)\n",
    "\n",
    "print(sorted(list(cv.vocabulary_.keys())))\n",
    "\n",
    "# calculeaza reprezentarile textelor (feature vectors)\n",
    "features = cv.transform(texts)\n",
    "print(features.shape)\n",
    "print(type(features))\n",
    "print(features.toarray())  # convertim la numpy array"
   ]
  },
  {
   "cell_type": "markdown",
   "id": "40b81a88",
   "metadata": {
    "id": "40b81a88"
   },
   "source": [
    "### 4. Clasificare folosind Scikit-Learn"
   ]
  },
  {
   "cell_type": "code",
   "execution_count": null,
   "id": "b788ead5",
   "metadata": {
    "colab": {
     "base_uri": "https://localhost:8080/"
    },
    "id": "b788ead5",
    "outputId": "8ff90486-a4f8-41b8-89a9-ea76dd91d9a3"
   },
   "outputs": [
    {
     "name": "stdout",
     "output_type": "stream",
     "text": [
      "(800, 10) (800,)\n",
      "(200, 10) (200,)\n"
     ]
    }
   ],
   "source": [
    "# generam o problema \"dummy\" de clasificare:\n",
    "# - 1000 de feature vectori de dimensiune 10 (din care doar 5 sunt relevanti pentru clasificare)\n",
    "# - fiecarui vector ii este asociat un label (0, 1 sau 2)\n",
    "X, y = make_classification(\n",
    "    n_samples=1000, n_classes=3, n_features=10, n_informative=5, n_redundant=5, random_state=42\n",
    ")\n",
    "\n",
    "X_train, X_test, y_train, y_test = train_test_split(X, y, test_size=0.2, random_state=42)\n",
    "\n",
    "print(X_train.shape, y_train.shape)\n",
    "print(X_test.shape, y_test.shape)"
   ]
  },
  {
   "cell_type": "markdown",
   "id": "8a620a91",
   "metadata": {
    "id": "8a620a91"
   },
   "source": [
    "Vom folosi pentru clasificare un decision tree (mai multe detalii [aici](https://en.wikipedia.org/wiki/Decision_tree_learning))"
   ]
  },
  {
   "cell_type": "code",
   "execution_count": null,
   "id": "50b6a114",
   "metadata": {
    "id": "50b6a114"
   },
   "outputs": [],
   "source": [
    "# initializam un astfel de algoritm cu anumiti hiperparametri\n",
    "clf = DecisionTreeClassifier(max_depth=3, min_samples_split=5)\n",
    "\n",
    "# antrenam folosind datele de train\n",
    "clf.fit(X_train, y_train)\n",
    "\n",
    "# folosim modelul pentru a prezice labelurile de test\n",
    "y_test_predict = clf.predict(X_test)"
   ]
  },
  {
   "cell_type": "markdown",
   "id": "d47f75d0",
   "metadata": {
    "id": "d47f75d0"
   },
   "source": [
    "### 5. Metrici"
   ]
  },
  {
   "cell_type": "markdown",
   "id": "50aa802f",
   "metadata": {
    "id": "50aa802f"
   },
   "source": [
    "Avem la dispoziție mai multe metrici pe care le putem folosi pentru a determina performanța unui astfel de model. Să pornim mai întâi de la cazul simplu al unei probleme de clasificare binară (0/1)."
   ]
  },
  {
   "cell_type": "code",
   "execution_count": null,
   "id": "48d28a94",
   "metadata": {
    "id": "48d28a94"
   },
   "outputs": [],
   "source": [
    "y_true    = [0, 0, 0, 1, 1, 1, 1]\n",
    "y_predict = [0, 1, 0, 0, 1, 1, 0]"
   ]
  },
  {
   "cell_type": "markdown",
   "id": "2195e9eb",
   "metadata": {
    "id": "2195e9eb"
   },
   "source": [
    "Definim:\n",
    " * TP (true positive): numărul de labeluri 1 prezise corect\n",
    " * FP (false positive): numărul de labeluri 1 prezise incorect\n",
    " * TN (true negative): numărul de labeluri 0 prezise corect\n",
    " * FN (false negative): numărul de labeluri 0 prezise incorect\n",
    " \n",
    "Acuratețea se calculează după formula:\n",
    "$$\\frac{TP+TN}{TP+FP+TN+FN}$$\n",
    "\n",
    "Cu alte cuvinte, numărul total de labeluri prezise corect din totalul de predicții."
   ]
  },
  {
   "cell_type": "code",
   "execution_count": null,
   "id": "b101b4a6",
   "metadata": {
    "colab": {
     "base_uri": "https://localhost:8080/"
    },
    "id": "b101b4a6",
    "outputId": "4b074534-ac69-4ca8-9517-7fcf017e4e57"
   },
   "outputs": [
    {
     "name": "stdout",
     "output_type": "stream",
     "text": [
      "Accuracy: 0.5714285714285714\n"
     ]
    }
   ],
   "source": [
    "print(\"Accuracy:\", metrics.accuracy_score(y_true, y_predict))"
   ]
  },
  {
   "cell_type": "markdown",
   "id": "6746be29",
   "metadata": {
    "id": "6746be29"
   },
   "source": [
    "Acuratețea nu este mereu cea mai bună metrică de urmărit atunci când vrem să apreciem cât de bun este un model. De exemplu, in cazul unui dataset dezechilibrat (imbalanced), în care $99\\%$ din obiecte au labelul $0$ și doar $1\\%$ au labelul $1$, un clasificator care prezice doar labelul $0$ pentru toate exemplele ar avea acuratete $99\\%$! Dacă problema ar fi fost detectarea de spam, sau detectarea simptomelor asociate unui anumit tip de cancer, un astfel de model nu ar fi considerat unul performant.\n",
    "\n",
    "Introducem astfel alte cateva metrici:\n",
    " * P (precision): $\\frac{TP}{TP+FP}$ (dintre toate predictiile 1, cate sunt corecte?)\n",
    " * R (recall): $\\frac{TP}{TP+FN}$ (dintre toate obiectele din clasa 1, cate am reusit sa prezicem corect?)\n",
    " * F1: $\\frac{2PR}{P+R}$ (media armonica intre precision si recall)\n",
    "\n",
    " Un clip explicativ aici: https://youtu.be/qWfzIYCvBqo"
   ]
  },
  {
   "cell_type": "code",
   "execution_count": null,
   "id": "2fa6fa30",
   "metadata": {
    "colab": {
     "base_uri": "https://localhost:8080/"
    },
    "id": "2fa6fa30",
    "outputId": "8f617fc7-b145-447e-de31-fb69a297d6b9"
   },
   "outputs": [
    {
     "name": "stdout",
     "output_type": "stream",
     "text": [
      "Precision: 0.6666666666666666\n",
      "Recall: 0.5\n",
      "F1: 0.5714285714285715\n"
     ]
    }
   ],
   "source": [
    "print(\"Precision:\", metrics.precision_score(y_true, y_predict))\n",
    "print(\"Recall:\", metrics.recall_score(y_true, y_predict))\n",
    "print(\"F1:\", metrics.f1_score(y_true, y_predict))"
   ]
  },
  {
   "cell_type": "markdown",
   "id": "62475112",
   "metadata": {
    "id": "62475112"
   },
   "source": [
    "În cazul problemelor de clasificare de tip multi-class (mai mult de 2 clase), acuratețea păstrează același sens de \"câte predicții sunt corecte din totalul predicțiilor\".\n",
    "\n",
    "Precision, Recall și F1 se calculează într-o manieră *one-vs-rest*. Astfel, fixând o anumită clasă, transformăm labelurile în $1$ dacă labelul original corespunde clasei fixate și $0$ altfel. Putem acum calcula aceste metrici în cazul binar. Rezultatele obținute pentru fiecare astfel de fixare vor fi acumulate și rezultatul final este media acestora (calculată ca medie aritmetică - macro, sau ca medie ponderată - weighted, în care ponderile sunt date de numărul de exemple din clasa respectivă)."
   ]
  },
  {
   "cell_type": "code",
   "execution_count": null,
   "id": "a83260f9",
   "metadata": {
    "colab": {
     "base_uri": "https://localhost:8080/"
    },
    "id": "a83260f9",
    "outputId": "18143593-6134-40da-ed88-81206d07d13f"
   },
   "outputs": [
    {
     "name": "stdout",
     "output_type": "stream",
     "text": [
      "Accuracy: 0.7\n",
      "F1 (macro): 0.6935607271177741\n",
      "F1 (weighted): 0.6932996310177518\n"
     ]
    }
   ],
   "source": [
    "# calculam acuratete si F1 pentru clasificarea de mai devreme\n",
    "print(\"Accuracy:\", metrics.accuracy_score(y_test, y_test_predict))\n",
    "print(\"F1 (macro):\", metrics.f1_score(y_test, y_test_predict, average=\"macro\"))\n",
    "print(\"F1 (weighted):\", metrics.f1_score(y_test, y_test_predict, average=\"weighted\"))"
   ]
  },
  {
   "cell_type": "code",
   "execution_count": null,
   "id": "707cad42",
   "metadata": {
    "colab": {
     "base_uri": "https://localhost:8080/"
    },
    "id": "707cad42",
    "outputId": "0c890c90-046f-4313-8b83-bcad989601fd"
   },
   "outputs": [
    {
     "name": "stdout",
     "output_type": "stream",
     "text": [
      "              precision    recall  f1-score   support\n",
      "\n",
      "           0       0.78      0.74      0.76        68\n",
      "           1       0.67      0.86      0.75        65\n",
      "           2       0.65      0.51      0.57        67\n",
      "\n",
      "    accuracy                           0.70       200\n",
      "   macro avg       0.70      0.70      0.69       200\n",
      "weighted avg       0.70      0.70      0.69       200\n",
      "\n"
     ]
    }
   ],
   "source": [
    "print(metrics.classification_report(y_test, y_test_predict))"
   ]
  },
  {
   "cell_type": "markdown",
   "id": "67b30fd0",
   "metadata": {
    "id": "67b30fd0"
   },
   "source": [
    "O vizualizare utilă este și **matricea de confuzie**, în care numărăm $A[i][j]$ câte obiecte din clasa $i$ au fost prezise ca facând parte din clasa $j$."
   ]
  },
  {
   "cell_type": "code",
   "execution_count": null,
   "id": "d922431f",
   "metadata": {
    "colab": {
     "base_uri": "https://localhost:8080/"
    },
    "id": "d922431f",
    "outputId": "78d9ec25-fbeb-4498-d0f9-21320ef2b020"
   },
   "outputs": [
    {
     "name": "stdout",
     "output_type": "stream",
     "text": [
      "[[50  7 11]\n",
      " [ 2 56  7]\n",
      " [12 21 34]]\n"
     ]
    }
   ],
   "source": [
    "cm = metrics.confusion_matrix(y_test, y_test_predict)\n",
    "print(cm)"
   ]
  },
  {
   "cell_type": "code",
   "execution_count": null,
   "id": "9760e755",
   "metadata": {
    "colab": {
     "base_uri": "https://localhost:8080/",
     "height": 283
    },
    "id": "9760e755",
    "outputId": "14913911-4c45-4516-f589-f23448fe749a"
   },
   "outputs": [
    {
     "data": {
      "text/plain": [
       "<AxesSubplot:>"
      ]
     },
     "execution_count": 27,
     "metadata": {},
     "output_type": "execute_result"
    },
    {
     "data": {
      "image/png": "[encoded data removed]",
      "text/plain": [
       "<Figure size 432x288 with 2 Axes>"
      ]
     },
     "metadata": {
      "needs_background": "light"
     },
     "output_type": "display_data"
    }
   ],
   "source": [
    "sns.heatmap(cm, annot=True)"
   ]
  },
  {
   "cell_type": "markdown",
   "id": "78e9b02d",
   "metadata": {
    "id": "78e9b02d"
   },
   "source": [
    "### 6. Importanța feature-urilor"
   ]
  },
  {
   "cell_type": "markdown",
   "id": "d893d1dd",
   "metadata": {
    "id": "d893d1dd"
   },
   "source": [
    "Intuitiv, anumite feature-uri sunt mai importante decât altele când vine vorba de clasificare. De exemplu, prezența cuvântului \"happy\" sau \"sad\" ne poate oferi informații despre sentimentul unui text, pe cand cuvantul \"car\", nu."
   ]
  },
  {
   "cell_type": "code",
   "execution_count": null,
   "id": "e0b88cc5",
   "metadata": {
    "colab": {
     "base_uri": "https://localhost:8080/",
     "height": 442
    },
    "id": "e0b88cc5",
    "outputId": "42095a8f-99f7-4152-bfdf-430e4ce032ae"
   },
   "outputs": [
    {
     "name": "stdout",
     "output_type": "stream",
     "text": [
      "Feature: 0, Score: 0.11837956006934854\n",
      "Feature: 1, Score: 0.0\n",
      "Feature: 2, Score: 0.4172424563910119\n",
      "Feature: 3, Score: 0.039030730202152863\n",
      "Feature: 4, Score: 0.0\n",
      "Feature: 5, Score: 0.21084131505634365\n",
      "Feature: 6, Score: 0.0\n",
      "Feature: 7, Score: 0.04661388817258808\n",
      "Feature: 8, Score: 0.06021961536405184\n",
      "Feature: 9, Score: 0.10767243474450318\n"
     ]
    },
    {
     "data": {
      "image/png": "[encoded data removed]",
      "text/plain": [
       "<Figure size 432x288 with 1 Axes>"
      ]
     },
     "metadata": {
      "needs_background": "light"
     },
     "output_type": "display_data"
    }
   ],
   "source": [
    "# pentru decision tree avem urmatoare metoda pentru a extrage aceasta importanta\n",
    "importance = clf.feature_importances_\n",
    "for i,v in enumerate(importance):\n",
    "    print(f\"Feature: {i}, Score: {v}\")\n",
    "\n",
    "plt.bar([x for x in range(len(importance))], importance)\n",
    "plt.show()"
   ]
  },
  {
   "cell_type": "markdown",
   "id": "6056deb9",
   "metadata": {
    "id": "6056deb9"
   },
   "source": [
    "Pentru alte modele există diverse alte moduri de a extrage importanța feature-urilor (ex. logistic regression, SVM linear, Random Forest etc.), însă pentru altele este mult mai complicat sau chiar imposibil (ex. SVM cu kernel RBF)."
   ]
  },
  {
   "cell_type": "markdown",
   "id": "975369b0",
   "metadata": {
    "id": "975369b0"
   },
   "source": [
    "# TASK:\n",
    "\n",
    "### Deadline: 26 martie ora 23:59.\n",
    "### Formular pentru trimiterea temei: https://forms.gle/ZNPxW6Twm52T94HcA"
   ]
  },
  {
   "cell_type": "markdown",
   "id": "edcb71b7",
   "metadata": {
    "id": "edcb71b7"
   },
   "source": [
    "Vom folosi urmatorul dataset: https://www.kaggle.com/rmisra/news-category-dataset (headline-uri de stiri etichetate conform unei liste de categorii)."
   ]
  },
  {
   "cell_type": "markdown",
   "id": "W4jsKfXsW-Ha",
   "metadata": {
    "id": "W4jsKfXsW-Ha"
   },
   "source": [
    "1. (opțional) Întrucît setul de date conține multe categorii, puteți păstra doar exemple din 4-5 clase (selectate de voi) și să rezolvați problema de clasificare doar pentru aceste exemple."
   ]
  },
  {
   "cell_type": "code",
   "execution_count": 43,
   "id": "82c9a7d8",
   "metadata": {},
   "outputs": [],
   "source": [
    "import pandas as pd\n",
    "import re\n",
    "import emoji\n",
    "import spacy"
   ]
  },
  {
   "cell_type": "code",
   "execution_count": 28,
   "id": "DlGInebwW9CQ",
   "metadata": {
    "id": "DlGInebwW9CQ"
   },
   "outputs": [
    {
     "data": {
      "text/html": [
       "<div>\n",
       "<style scoped>\n",
       "    .dataframe tbody tr th:only-of-type {\n",
       "        vertical-align: middle;\n",
       "    }\n",
       "\n",
       "    .dataframe tbody tr th {\n",
       "        vertical-align: top;\n",
       "    }\n",
       "\n",
       "    .dataframe thead th {\n",
       "        text-align: right;\n",
       "    }\n",
       "</style>\n",
       "<table border=\"1\" class=\"dataframe\">\n",
       "  <thead>\n",
       "    <tr style=\"text-align: right;\">\n",
       "      <th></th>\n",
       "      <th>link</th>\n",
       "      <th>headline</th>\n",
       "      <th>category</th>\n",
       "      <th>short_description</th>\n",
       "      <th>authors</th>\n",
       "      <th>date</th>\n",
       "    </tr>\n",
       "  </thead>\n",
       "  <tbody>\n",
       "    <tr>\n",
       "      <th>2</th>\n",
       "      <td>https://www.huffpost.com/entry/funniest-tweets...</td>\n",
       "      <td>23 Of The Funniest Tweets About Cats And Dogs ...</td>\n",
       "      <td>COMEDY</td>\n",
       "      <td>\"Until you have a dog you don't understand wha...</td>\n",
       "      <td>Elyse Wanshel</td>\n",
       "      <td>2022-09-23</td>\n",
       "    </tr>\n",
       "    <tr>\n",
       "      <th>21</th>\n",
       "      <td>https://www.huffpost.com/entry/biden-us-forces...</td>\n",
       "      <td>Biden Says U.S. Forces Would Defend Taiwan If ...</td>\n",
       "      <td>POLITICS</td>\n",
       "      <td>President issues vow as tensions with China rise.</td>\n",
       "      <td></td>\n",
       "      <td>2022-09-19</td>\n",
       "    </tr>\n",
       "    <tr>\n",
       "      <th>24</th>\n",
       "      <td>https://www.huffpost.com/entry/ukraine-festiva...</td>\n",
       "      <td>‘Beautiful And Sad At The Same Time’: Ukrainia...</td>\n",
       "      <td>POLITICS</td>\n",
       "      <td>An annual celebration took on a different feel...</td>\n",
       "      <td>Jonathan Nicholson</td>\n",
       "      <td>2022-09-19</td>\n",
       "    </tr>\n",
       "    <tr>\n",
       "      <th>30</th>\n",
       "      <td>https://www.huffpost.com/entry/europe-britain-...</td>\n",
       "      <td>Biden Says Queen's Death Left 'Giant Hole' For...</td>\n",
       "      <td>POLITICS</td>\n",
       "      <td>U.S. President Joe Biden, in London for the fu...</td>\n",
       "      <td>Darlene Superville, AP</td>\n",
       "      <td>2022-09-18</td>\n",
       "    </tr>\n",
       "    <tr>\n",
       "      <th>40</th>\n",
       "      <td>https://www.huffpost.com/entry/afghan-adjustme...</td>\n",
       "      <td>Bill To Help Afghans Who Escaped Taliban Faces...</td>\n",
       "      <td>POLITICS</td>\n",
       "      <td>Republican outrage over the shoddy U.S. withdr...</td>\n",
       "      <td>Hamed Ahmadi and Arthur Delaney</td>\n",
       "      <td>2022-09-16</td>\n",
       "    </tr>\n",
       "  </tbody>\n",
       "</table>\n",
       "</div>"
      ],
      "text/plain": [
       "                                                 link  \\\n",
       "2   https://www.huffpost.com/entry/funniest-tweets...   \n",
       "21  https://www.huffpost.com/entry/biden-us-forces...   \n",
       "24  https://www.huffpost.com/entry/ukraine-festiva...   \n",
       "30  https://www.huffpost.com/entry/europe-britain-...   \n",
       "40  https://www.huffpost.com/entry/afghan-adjustme...   \n",
       "\n",
       "                                             headline  category  \\\n",
       "2   23 Of The Funniest Tweets About Cats And Dogs ...    COMEDY   \n",
       "21  Biden Says U.S. Forces Would Defend Taiwan If ...  POLITICS   \n",
       "24  ‘Beautiful And Sad At The Same Time’: Ukrainia...  POLITICS   \n",
       "30  Biden Says Queen's Death Left 'Giant Hole' For...  POLITICS   \n",
       "40  Bill To Help Afghans Who Escaped Taliban Faces...  POLITICS   \n",
       "\n",
       "                                    short_description  \\\n",
       "2   \"Until you have a dog you don't understand wha...   \n",
       "21  President issues vow as tensions with China rise.   \n",
       "24  An annual celebration took on a different feel...   \n",
       "30  U.S. President Joe Biden, in London for the fu...   \n",
       "40  Republican outrage over the shoddy U.S. withdr...   \n",
       "\n",
       "                            authors       date  \n",
       "2                     Elyse Wanshel 2022-09-23  \n",
       "21                                  2022-09-19  \n",
       "24               Jonathan Nicholson 2022-09-19  \n",
       "30           Darlene Superville, AP 2022-09-18  \n",
       "40  Hamed Ahmadi and Arthur Delaney 2022-09-16  "
      ]
     },
     "metadata": {},
     "output_type": "display_data"
    }
   ],
   "source": [
    "\n",
    "\n",
    "df = pd.read_json('News_Category_Dataset_v3.json',lines = True)\n",
    "#display(df.head())\n",
    "# categories = df['category'].unique()\n",
    "# print(categories)\n",
    "categories = ['CRIME','COMEDY', 'RELIGION', 'POLITICS']\n",
    "df = df[df['category'].isin(categories)]\n",
    "display(df.head())\n",
    "\n",
    "texts = df['short_description'].array\n",
    "\n"
   ]
  },
  {
   "cell_type": "code",
   "execution_count": 58,
   "id": "576ce50a",
   "metadata": {},
   "outputs": [
    {
     "data": {
      "text/plain": [
       "['\"Until you have a dog you don\\'t understand what could be eaten.\"',\n",
       " 'President issues vow as tensions with China rise.',\n",
       " \"An annual celebration took on a different feel as Russia's invasion dragged into Day 206.\",\n",
       " 'U.S. President Joe Biden, in London for the funeral of Queen Elizabeth II, says his heart went out to the royal family, adding the queen’s death left a “giant hole.”.',\n",
       " 'Republican outrage over the shoddy U.S. withdrawal from Afghanistan hasn’t spurred support for resettling refugees.',\n",
       " 'The former White House chief of staff has turned over records as part of a federal investigation into the Jan. 6, 2021 assault on the Capitol.',\n",
       " \"The state's general treasurer is slated to face former Cranston Mayor Allan Fung (R) in the general election.\",\n",
       " '\"Cancer does not discriminate red and blue,\" the president said Monday. \"Beating cancer is something we can do together.\"',\n",
       " '\"Who we have on the field is who we’re gonna play,” Scott told \"Fox News Sunday.\"',\n",
       " 'Democrats in the state’s more moderate House district are deciding who will take on a popular Republican former mayor.',\n",
       " 'Biden plans to draw attention to a new federally backed study that seeks to validate using blood tests to screen against multiple cancers.',\n",
       " 'President Joe Biden has marked the 21st anniversary of the Sept. 11 attacks, taking part in a somber wreath-laying ceremony held at the Pentagon under a steady rain.',\n",
       " 'The Justice Department proposed two retired judges for the role. Trump’s team proposed a retired judge and a lawyer.',\n",
       " 'Clark County Public Administrator Robert Telles was arrested in the fatal stabbing of Jeff German, who had been investigating his office.',\n",
       " \"Opponents of the measure claimed typos made the qualifying petitions incomprehensible, but the state's highest court rejected that argument.\",\n",
       " 'The lawsuit says allowing homeless people’s tents to block city sidewalks makes it difficult for people using wheelchairs, walkers or canes to use them.',\n",
       " \"States are cutting back, and Congress is unlikely to step in even after the pandemic exposed the unemployment system's shortcomings.\",\n",
       " 'Jocelyn Benson said misinformation \"fuels the potential for additional threats, harassment and even violence on Election Day.\"',\n",
       " \"When Elsa Avila looks at the scar that runs down her torso, she can't help remember May 24, when a gunman stormed her fourth grade wing at Robb Elementary in Uvalde, Texas, killing 19 children and two teachers and leaving her and others wounded.\",\n",
       " \"Tim Michels calls on supporters to go after media following Milwaukee Journal Sentinel story reporting multimillionaire's donations to anti-abortion groups.\",\n",
       " 'Police in Tennessee say an arrest has been made in the disappearance of a woman who was abducted while jogging.',\n",
       " \"Cipollone's former deputy Patrick Philbin is also reportedly scheduled to provide testimony to the grand jury on Friday.\",\n",
       " 'The 36-page filing described how Trump and his representatives did not hand over classified materials at the property.',\n",
       " \"The Soviet Union's last leader reportedly earned nearly $1 million even though he refused to eat the pizza on camera.\",\n",
       " 'The GOP is continuing to contort itself in defense of Donald Trump, despite new information relating to classified documents held at his Florida estate.',\n",
       " '\"These are the biggest secrets in the world,\" Steve Doocy said in response to the ex-president keeping top secret documents at his private residence.',\n",
       " \"It's one thing after another for Donald Trump's problem-plagued Truth Social.\",\n",
       " 'Ornato, who at one point served as a White House political adviser, is said to have witnessed Trump lunge at a Secret Service agent during the Capitol attack.',\n",
       " \"House members are only supposed to use proxy voting when they cannot be present due to COVID-19. But that's not stopping representatives from voting remotely on the campaign trail.\",\n",
       " '“Most Republicans, including me, believe when it comes to Trump, there is no law,\" Graham said on Fox News. \"It\\'s all about getting him.\"',\n",
       " 'In a message posted on Truth Social, Patel called it a “vicious attack from DOJ/FBI.\"',\n",
       " 'The startling case underscores the security challenges of Donald Trump’s resort even as the former president stashed top-secret U.S. government files there.',\n",
       " '\"Hang in there, Mr. President,\" goofs one die-hard fan.',\n",
       " \"The former president's legal team followed a judge's order to polish a filing about the FBI seizure of government documents from his estate.\",\n",
       " \"Who's nasty??\",\n",
       " \"The heavily redacted document lays out the justification the Department of Justice provided to a judge for permission to search for and seize highly classified documents in an FBI raid of Trump's Florida home.\",\n",
       " 'A major vendor claims it was stiffed by Trump\\'s social media operation, suggesting finances are in \"significant disarray,\" reported Fox Business.',\n",
       " 'The ban was set to take effect Friday, about two months after the Supreme Court overturned Roe v. Wade.',\n",
       " 'The judge is presiding over a special grand jury that’s investigating possible illegal attempts to influence the 2020 election in Georgia.',\n",
       " 'But the congressional race has not been officially called, and rival Yuh-Line Niou declined to concede.',\n",
       " 'The five-term House member is known as a staunch President Biden critic and loyal Donald Trump supporter.',\n",
       " 'Crist is making his second run for governor as a Democrat after having served one term in the job as a Republican more than a decade ago.',\n",
       " 'The Internal Revenue Service says it is conducting a comprehensive review of safety at its facilities.',\n",
       " \"If Biden's plan survives legal challenges that are almost certain to come, it could offer a windfall to a swath of the nation in the run-up to this fall's midterm elections.\",\n",
       " '\"I haven’t been hanged yet,\" the Arizona GOP leader told The Guardian in a powerful interview. \"But holy moly, this is just crazy. The place has lost its mind.”',\n",
       " 'The precise details of President Joe Biden’s plan were being kept to an unusually small circle within the Biden administration.',\n",
       " \"Democrats were on the cusp of transforming paid leave, child care and home care. Now they're figuring out where they came up short — and when they might get the opportunity to try again.\",\n",
       " 'Classes are scheduled to resume in just two days.',\n",
       " 'Jennifer Granholm said the U.S. will produce a record amount of oil next year.',\n",
       " 'Voting rights groups are dismayed about a ruling that upholds a ban on giving drinks and snacks to people waiting to vote.',\n",
       " \"The former vice president made the disclosure after FBI agents seized classified and top secret documents from Donald Trump's Florida home.\",\n",
       " 'The Senate GOP leader cited \"candidate quality\" as a factor in whether Republicans can win control in the November election.',\n",
       " '\"The matter is one of utmost public interest, involving the actions of current and former government officials,” wrote an attorney some of the media companies.',\n",
       " 'Allen Weisselberg is charged with taking more than $1.7 million in off-the-books compensation from the Trump Organization over several years.',\n",
       " 'Rochelle Walensky announced a \"reset\" for the organization amid public criticisms over its response to the coronavirus and monkeypox.',\n",
       " \"The nation's leading reproductive health care provider is pouring money into contests where access to abortion will be on the ballot.\",\n",
       " 'For many Americans living in states with strict voter suppression laws, Election Day is their only chance to cast a ballot.',\n",
       " 'Graham had argued that a provision of the Constitution provides absolute protection against a senator being questioned about legislative acts.',\n",
       " 'Democratic Sen. Kyrsten Sinema of Arizona has received nearly $1 million in campaign contributions over the past year from private equity professionals, hedge fund managers and venture capitalists whose interests she has staunchly defended in Congress.',\n",
       " 'Numerous transportation projects across the U.S. will be getting a slice of $2.2 billion of new federal funding.',\n",
       " 'The bill was also touted as lowering the deficit, but by how much is uncertain.',\n",
       " 'Authorities say the search for a New Hampshire girl who disappeared at age 5 in 2019 but was not reported missing until late last year is now considered a homicide investigation.',\n",
       " 'Two veteran New York Democrats previously dodged a question on whether the president should run for reelection.',\n",
       " 'And why Donald Trump can.',\n",
       " 'The special grand jury in Atlanta is investigating whether former President Donald Trump and others illegally tried to interfere in the 2020 general election in the state.',\n",
       " '“Those are the heroes,” John Kelly reportedly responded to Trump in the new book “The Divider” by journalists Peter Baker and Susan B. Glasser.',\n",
       " 'Graham directly insulted Hassan and presiding officer Chris Murphy (D-Conn.) stepped in.',\n",
       " 'Authorities have said that all four of the killings have several things in common and that they are looking to see if any other crimes could be related.',\n",
       " 'The only hope for restoring the child benefit appears to be bipartisan negotiations with Sen. Mitt Romney (R-Utah).',\n",
       " 'The latest example of how Senate rules help the powerful.',\n",
       " 'President Joe Biden’s response comes two days after a fourth Muslim man was found dead in what New Mexico\\'s governor called a \"targeted\" attack.',\n",
       " 'Police are searching for the shooter, or shooters, believed to be responsible for a string of murders around the New Mexico city.',\n",
       " 'Some Medicare recipients spend more than $10,000 a year on lifesaving medication. That could change.',\n",
       " 'With the ex-president reportedly under criminal investigation, many Senate Republicans are taking a wait-and-hope-it-doesn’t-happen stance.',\n",
       " '“Instead of dancing, you stand around and watch this guy cry,” said one journalist describing the bizarre scene.',\n",
       " 'The husband of House Speaker Nancy Pelosi was charged with driving under the influence after a May car crash in California.',\n",
       " 'The PACT Act, which will help veterans suffering from illnesses caused by toxic burn pits, now heads to the president’s desk.',\n",
       " 'Anna Jones, 18, was sitting in a parked car with friends when she was shot.',\n",
       " \"The state House speaker testified before the Jan. 6 committee investigating Trump's efforts to cling to power.\",\n",
       " 'Patel is taking on Reps. Carolyn Maloney and Jerry Nadler for the Democratic nomination in a Manhattan congressional district.',\n",
       " 'The Supreme Court decision on abortion has scrambled the political dynamics heading into the November elections, when control of Congress is at stake.',\n",
       " 'Olivia Troye, who quit the administration in 2020, appeared to call out the same Trump official now embroiled in the Secret Service text-deletion scandal.',\n",
       " \"The phones of Homeland Security leaders Chad Wolf and Ken Cuccinelli reportedly were wiped, much like those of Trump's Secret Service agents.\",\n",
       " 'Ivana Hrynkiw was ultimately allowed to witness the killing of Joe Nathan James Jr., who was executed against the wishes of his victim’s family members.',\n",
       " 'The deal Democrats struck late Thursday includes a historic $369 billion in clean energy and climate investments, but also requires new oil and gas leasing.',\n",
       " 'Footage shows a Harris County Sheriff’s Office deputy chasing the man, pinning him down and hitting him with a stun gun before shooting him in the back.',\n",
       " 'Republican lawmakers are celebrating the end of nationwide abortion rights while blocking federal protections for birth control.',\n",
       " 'Five voters from Greene’s district\\xa0sought to have her removed\\xa0from the ballot, saying that she played a significant role in the Jan. 6 attack on the U.S. Capitol.',\n",
       " \"He's back with more  incendiary rhetoric against the nation just days after his contempt of Congress conviction.\",\n",
       " 'After a brief conversation, the doctor hangs up the phone and tells the parents,\\xa0“Yeah, that’s gonna be a no. Best of luck to you.”',\n",
       " \"President Joe Biden's physician, Dr. Kevin O'Connor, says Biden continues to “improve significantly” despite a lingering sore throat.\",\n",
       " \"Hawley's been widely ridiculed since video showed him fleeing Capitol rioters not long after saluting them.\",\n",
       " 'To curry favor with Arizona’s far right, the former TV anchor is leveraging her unique background and using the media as a punching bag. It just might work.',\n",
       " '“you ever bring ur pet up to a mirror and ur like ‘that\\'s you’\"',\n",
       " 'The House passed the Right to Contraception Act, which would codify the right to birth control amid fears that conservatives are coming for that next.',\n",
       " 'Despite his many scandals and gaffes, polls show the former football star trailing only slightly behind Democratic Sen. Raphael Warnock.',\n",
       " 'The Georgia law bans most abortions once a “detectable human heartbeat” is present.',\n",
       " 'The executive push includes $2.3 billion in climate resilience funding and a first step toward opening the Gulf of Mexico to offshore wind development.',\n",
       " 'The House committee investigating the violent insurrection subpoenaed the texts last Friday.',\n",
       " 'Bannon is charged in Washington’s federal court with defying a subpoena from the Jan. 6 committee that sought his records and testimony.',\n",
       " 'Police said a man with a rifle opened fire in a food court and an armed civilian shot him. 2 others were injured.',\n",
       " 'Initially a bipartisan priority, helping Ukraine stop Russia is becoming a harder sell for Republicans.',\n",
       " 'Ryan Dark White, a U.S. Senate candidate in Maryland running as Jon McGreevey, concocted the story for \"his own political agenda,\" the sheriff said.',\n",
       " '\"I think the window for getting control of this and containing it probably has closed,\" Scott Gottlieb told \"Face the Nation.\"',\n",
       " 'Dr. Caitlin Bernard is also currently listed on the website of a militant anti-abortion group with ties to Supreme Court Justice Amy Coney Barrett.',\n",
       " 'Rep. Lee Zeldin (R-N.Y.), who is running for governor in the fall, is accused of submitting photocopied signatures to get a line on the ballot.',\n",
       " 'The Republican said the 2015 Obergefell v. Hodges ruling, which legalized same-sex marriage across the country, \"was clearly wrong\" and \"overreaching.”',\n",
       " 'The erasure of the messages is sure to raise new questions for the House panel investigating the Jan. 6 attack.',\n",
       " 'More than 4 in 10 U.S. births are paid for by Medicaid, the state-federal health insurance program for the poor — and fewer abortions will mean more births.',\n",
       " \"The Democratic Pennsylvania Senate nominee found a clever way to mock his GOP rival's New Jersey roots.\",\n",
       " 'Greene featured the harasser on her podcast and called his lewd shouts \"quite the compliment.\"',\n",
       " 'The White House called it \"unthinkable\" that Texas\\' attorney general \"would sue to block women from receiving life-saving care in emergency rooms.\"',\n",
       " \"CNN first reported the former president called the person shortly after Cassidy Hutchinson's bombshell testimony last month.\",\n",
       " 'Since the fall of Roe, some pharmacies have refused to fill certain prescriptions that are the same as or similar to the drugs used in medication abortion.',\n",
       " 'Steven Umberto Angelini, a 16-year veteran of the force, gave a man oxycodone and a gun in exchange for cocaine and cash, according to an affidavit.',\n",
       " 'The former trade adviser also accused Trump\\'s vice president of \"traitorous activity.\"',\n",
       " '\"Aerial trolling!!!!\" goofs Pennsylvania Lt. Gov. Fetterman, who underscores confusion about where Trump-endorsed Oz actually resides.',\n",
       " 'The ex-White House strategist had refused to appear for a deposition and was charged with criminal contempt. Trump has reportedly now given him a green light.',\n",
       " '“This means I won the very closely contested (not actually) Wisconsin presidential race,\" the former president insisted on Truth Social.',\n",
       " \"As Donald Trump considers another White House run, polls show he's the most popular figure in the Republican Party.\",\n",
       " \"Officials determined that Bannon's row house was targeted in a fake call to police about a man with a gun, meant to trigger a shocking law enforcement response.\",\n",
       " \"Hours after Roe's demise, a truck driver rammed a group of women protesting in Iowa and highlighted an urgent national crisis: Violence is now a feature of American civic life.\",\n",
       " 'New York state is rolling out a novel strategy to screen applicants for gun permits.',\n",
       " \"The Fox News host responded to the Highland Park shooting with a bizarre set of reasons why it isn't about guns.\",\n",
       " 'Police reform advocates say the case shows why cops should stop pulling people over for minor infractions.',\n",
       " 'The U.S. has had more mass shootings in the past weekend than Denmark has had in a decade.',\n",
       " 'The rule of law should mean something, says former officer Michael Fanone, who was viciously attacked by Trump supporters at the Capitol.',\n",
       " 'The young rape victim was denied the procedure in her home state of Ohio, where abortion is banned after about six weeks.',\n",
       " '“This has been a revolutionary term,” said University of Texas Law Professor Tara Leigh Grove. “The court has massively changed constitutional law in really big ways,\"',\n",
       " \"Dr. Lisa Gwynn's assertion that parents of children under 5 should have easy access to COVID-19 vaccines landed her in hot water.\",\n",
       " 'Animal trainer Bhagavan \"Doc\" Antle was the focus of a Netflix documentary spin-off to \"Tiger King\" in 2021.',\n",
       " 'President Joe Biden suspended the program on his first day in office in January 2021.',\n",
       " 'This says a lot, despite being only one word.',\n",
       " 'As an ultra-regressive movement aims to send gender norms back to the 1950s, previously uncontroversial events are suddenly facing intense harassment.',\n",
       " 'Trump has attacked Arizona attorney general Mark Brnovich for not doing more to support his efforts to overturn the 2020 election.',\n",
       " 'Canadian Prime Minister Justin Trudeau called the U.S. Supreme Court decision to overturn a constitutional right to abortion \"horrific.\"',\n",
       " '\"Petition to stop ringing the doorbell on TV so my dog can lead a less confusing life\"',\n",
       " 'A victim told HuffPost that the agitated driver careened into protesters on purpose in downtown Cedar Rapids. At least one person was hospitalized.',\n",
       " 'The conservative-majority court opened the door to state-level abortion bans that could force people to continue with unsafe and unwanted pregnancies.',\n",
       " 'Wake up, Steve! If they\\'re \"awakened,\" they\\'re \"woke.\"',\n",
       " 'The justice called out three cases protecting contraception access and same-sex marriage.',\n",
       " 'The GOP realizes its goal isn’t complete.',\n",
       " '“You have mass stabbings, lady,\" the GOP congresswoman told a reporter who compared U.K. gun statistics to those in the U.S.',\n",
       " '\"Fox News, Wall Street Journal, New York Post, Times of London, The Sun etc etc etc\" now \"all lockstep against Trump,\" Bannon insisted.',\n",
       " 'There are 50.',\n",
       " 'The woman placing the order asked restaurant employees to “call the police” and have them come with the delivery, but “please don’t make it obvious.”',\n",
       " 'The campaign to keep Donald Trump in power amounted to smoke and mirrors.',\n",
       " 'The Washington Post reviewed video from the March 2021 meeting, in which the headliner called Donald Trump \"the only legitimate president.”',\n",
       " '“Ultimately, we want same-day voting — one day — and only paper ballots,” Trump said.',\n",
       " 'Nick Akerman said Trump has \"zero defense\" against a criminal probe into 2020 election meddling in Georgia.',\n",
       " 'The saga that unfolded after a professor officiated a same-sex wedding has exposed deep rifts over how the school treats members of the LGBTQ community -- and how its church interprets the Bible.',\n",
       " '\"Get home and raise your kids!\" Christian Walker lectures men as the public learns his own dad has three other children.',\n",
       " '\"Equal time means sitting your lying ass in a witness chair. We\\'ll wait,\" tweets the California Democrat.',\n",
       " \"Details that emerged after the arrest of 31 white supremacists in Coeur D'Alene show how GOP rhetoric is signaling extremists to attack LGBTQ people.\",\n",
       " 'One person compared the former Trump aide\\'s antics in court to \"a slow-rolling comedy sketch.\"',\n",
       " 'The Republican Senate nominee has called fatherless homes a “major, major problem.”',\n",
       " '“Sorry, buddy. You just gave yourself away. No one’s favorite drink is Diet Pepsi,” the \"Late Night\" host said.',\n",
       " 'The former president spoke with DACA recipients on the stage of the musical \"¡Americano!,\" based on the life of Dreamer and political organizer Tony Valdovinos.',\n",
       " 'The congressman was one of 10 House GOP members who voted in favor of impeaching Trump after the U.S. Capitol riot.',\n",
       " 'The GOP candidate faces Democrat John Fetterman in a key Senate race in November.',\n",
       " 'The party is hoping to shape GOP primaries to favor beatable candidates, but some fear they’re playing with fire.',\n",
       " \"Many Twitter users said that the former chief of staff's trashing of fellow aides was a case of the pot calling the kettle black.\",\n",
       " 'The white supremacists, who were dressed in nearly identical uniforms and masks, \"did not come here to engage in peaceful events,\" said the local sheriff.',\n",
       " 'This would not be the first time Trump mixed his office with his private businesses.',\n",
       " \"She shouldn't have stood by Donald Trump's side as he kept pushing  lies that the election he lost was rigged, said former press secretary Stephanie Grisham.\",\n",
       " 'The newspaper controlled by longtime Trump backer Rupert Murdoch called Jan. 6 \"national shame\" and ripped the \"King Lear of Mar-a-Lago\" for his inability to move forward.',\n",
       " '\"i keep hearing this ad for fresh cat food that says \\'your cute kitty is descended from fierce desert cats\\' and then i look at my cat and say \\'this cat??\\'\"',\n",
       " 'The House minority leader said everybody bore \"some responsibility\" for the Capitol attack when asked if it was former President Donald Trump\\'s fault.',\n",
       " \"His statement shows how Trump's inner circle failed to take concerns about the rule of law seriously.\",\n",
       " 'The former Trump official griped that he was strip-searched after he was arrested for defying a subpoena.',\n",
       " '\"As divided as our country is, this gun responsibility issue is one that we agree on more than we don’t,\" said the actor, who hails from Uvalde, Texas.',\n",
       " 'Buttigieg shoots down Sen. Ted Cruz\\'s \"insane\" single entrance strategy to end mass killings at schools.',\n",
       " 'A South African court has convicted a pastor of plotting to overthrow the government and to kill thousands of Black people in the country.',\n",
       " '\"I\\'ve never been part of negotiations as serious as these,\" he said of ongoing talks in the Senate. \"We are talking about a meaningful change in our gun laws.\"',\n",
       " 'The former president destroyed the humor, the filmmaker grumbles.',\n",
       " 'A president who boasted of his deal-making abilities has backed away from day-to-day congressional action on key issues.',\n",
       " 'The accused robber was struck multiple times, and two bystanders were wounded in the St. Louis shootout.',\n",
       " 'This is a major change to firearm laws pushed, less than three weeks after authorities say an 18-year-old used one of the guns to kill 10 people at a supermarket in Buffalo.',\n",
       " 'Jason Selvig of the comedy duo Good Liars said he was so perplexed that he asked the question three times, hoping for a direct answer.',\n",
       " 'Tune in on July 20 to watch our panel discussion with union organizers from the Amazon, REI, Starbucks and Apple battles.',\n",
       " 'Kathleen Buhle describes her ex-husband’s drug addiction, his infidelity and her challenges with the Biden family in her new memoir “If We Break.”',\n",
       " 'The New York City church says its stolen 18-carat gold relic was guarded by its own security system and is irreplaceable due to its historical and artistic value.',\n",
       " 'Trump, meanwhile, is blasting the special grand jury probe into his demand for extra Georgia votes after he lost the election.',\n",
       " '\"Don\\'t tell me that guns aren\\'t the problem, people are. I\\'m sick of hearing it,\" tweeted Brownsville Bishop Daniel Flores.',\n",
       " '“Can we stop all of it? No. Can we mitigate it? Certainly. And we should be doing that now,\" the Illinois Republican said of gun violence following last week\\'s mass shooting.',\n",
       " '\"Shame on you, Abbott!\" a crowd member yelled as Abbott arrived with the Bidens at the school where 19 children and two teachers were killed.',\n",
       " 'Doug Mastriano’s win in the Pennsylvania gubernatorial primary marks a high-profile victory for the movement.',\n",
       " 'The decision is a win for the Republican-dominated redistricting commission, which passed five straight sets of legislative maps\\xa0that couldn’t meet constitutional muster.',\n",
       " '“I want to blow up a democrat building bad,” Benjamin Rogers wrote in a messaging app.',\n",
       " \"McCarthy's attorney argues in letter that the committee cannot issue subpoenas to the lawmakers under House rules.\",\n",
       " 'The governor said he made a campaign appearance after learning of the Uvalde school massacre so his supporters would \"know what happened.\"',\n",
       " 'The incumbent Georgia governor will now face Democrat Stacey Abrams in a rematch of their 2018 election.',\n",
       " 'GOP Gov. Greg Abbott said what Texans need \"now more than ever is our love\" after a gunman killed 19 children and two teachers in Uvalde.',\n",
       " '“This decision is perverse. It is illogical,” Supreme Court Justice Sonia Sotomayor wrote in her dissent in Shinn v. Ramirez.',\n",
       " \"Donald Trump's former White House adviser told People that “love must come with respect and ... a modicum of class and dignity.”\",\n",
       " '“Put simply, with minor exceptions, the government can’t tell a private person or entity what to say or how to say it,” said Circuit Judge Kevin Newsom said in the opinion.',\n",
       " \"Family blasts Dallas police who they say didn't bother to launch a search. The teen was found by Oklahoma City Police 200 miles away.\",\n",
       " '“Hi Rep. Boebert — Ask Rep Cawthorn about us.\\xa0We look forwarding [sic] to getting to know you,\" American Muckrakers PAC wrote in an ominous tweet.',\n",
       " 'A meeting of the Conservative Political Action Conference in Budapest kicked off this week with prominent American conservatives in attendance.',\n",
       " 'Scuttling Roe v. Wade is a \"good start\" to allowing \"our own people to live,\" Matt Schlapp told media at the conservative group\\'s Budapest conference.',\n",
       " 'The Christian nationalist who was near the Capitol during the Jan. 6 insurrection was endorsed by former President Donald Trump.',\n",
       " \"The former president's Truth Social messages are being posted on Twitter, even though he's supposed to be permanently banned.\",\n",
       " '“No one should waste their breath on the men in makeup at Fox when Rupert Murdoch is responsible for everything that they say and do,\" said the MSNBC anchor.',\n",
       " 'The House Intelligence Committee hearing follows a 2021 report of a possible national security \"challenge\" from UFOs.',\n",
       " 'A subsidy boost for the Affordable Care Act that lowers prices for millions will end this year unless the federal government acts.',\n",
       " 'The 18-year-old racist who killed 10 people at a supermarket was sent for psychiatric treatment last year after threatening his school in Conklin, New York.',\n",
       " 'The suspected shooter expressed repeated fears online that whites are being replaced by people of color, The New York Times reported.',\n",
       " 'A group of churchgoers hog-tied the suspect with extension cords before he was able to shoot more congregants, authorities said.',\n",
       " '“They’re biased, and they have likes and dislikes, and it’s so obvious,” the former first lady told Fox News in her first interview since leaving the White House.',\n",
       " 'New York Gov. Kathy Hochul called the shooter \"a white supremacist who has engaged in an act of terrorism, and will be prosecuted as such.\"',\n",
       " 'The New York Republican also argued against providing formula for migrant\\'s babies and saw no contradiction with describing herself as \"pro-life.\"',\n",
       " 'The Texas Republican talked about GOP candidates having Trump tattooed on their rear ends and got some blunt reminders in response.',\n",
       " '\"DON\\'T EVEN pretend you care about Veterans,\" a veterans group hit back at the extremist North Carolina Republican.',\n",
       " 'Herbster had the strong support of former President Donald Trump in the Nebraska race.',\n",
       " '“Without access, rights mean nothing,” Gov. Phil Murphy told legislators Wednesday.',\n",
       " 'The Missouri Democratic congresswoman has shared her own story getting an abortion after she was raped as a teenager.',\n",
       " \"Unlike other worker-friendly measures, this one doesn't need the Senate to sign off on it, too.\",\n",
       " 'It wasn’t immediately clear who vandalized the building, but the message “If abortions aren’t safe then you aren’t either” was spray-painted on the building.',\n",
       " \"The House committee's investigation is winding down but it has yet to decide on whether to talk to the former president and former vice president about the violence.\",\n",
       " \"Frank James faces the possibility of life in prison for the charges related to last month's attack that wounded 10 people.\",\n",
       " '\"What other freedoms will Americans see retracted if the right to privacy ends in America?\" Linda Coffee wrote in The New Republic.',\n",
       " 'Brown’s second consecutive victory over former state Sen. Nina Turner was widely anticipated.',\n",
       " 'The \"Hillbilly Elegy\" author snatched the GOP nomination with Donald Trump\\'s help — the first major test of the former president\\'s endorsement power in the midterms.',\n",
       " 'The potential demise of Roe v. Wade will heighten the stakes of state legislative races this fall as the GOP fights abortion rights and Democrats defend them.',\n",
       " \"The races, particularly in Ohio, could provide a fresh window into former President Trump's sway among the party faithful.\",\n",
       " 'The issue of abortion access will be felt immediately in states with GOP-controlled legislatures like Michigan and Pennsylvania.',\n",
       " 'Raskin said it appears the opinion, which he noted looks authentic, would eliminate all rights to any abortion.',\n",
       " '“Abortion is health care,” reproductive rights advocates chanted after Politico reported that the high court planned to overturn Roe v. Wade.',\n",
       " '“If the Court does overturn Roe,\\xa0it will fall on our nation’s elected officials at all levels of government to protect a woman’s right to choose,” Biden said.',\n",
       " 'Arena is launching mass trainings in Arizona and Texas.',\n",
       " 'Critics on Twitter complained that accurate, helpful sex ed was often not provided in homes.',\n",
       " 'The House Speaker was the most senior American lawmaker to visit Ukraine since Russia’s war began more than two months ago.',\n",
       " '\"It was a grab. ... It was like he knew that I couldn’t say anything,\" the ex-legislative assistant said about Trump-backed gubernatorial candidate Charles Herbster.',\n",
       " 'The conservative Democrat appeared in an ad for Rep. David McKinley, who is facing Trump-endorsed Rep. Alex Mooney in a GOP primary.',\n",
       " 'The former Trump White House chief of staff also accused the committee of of waging a “sustained media campaign” against him.',\n",
       " 'The embattled far-right House member tried to explain her \"Marshall law\" text and we\\'re confused.',\n",
       " 'Evan McLaren marched at the deadly 2017 Charlottesville rally. Now he\\'s voicing “revulsion” for his former movement, and \"for conservatism\" in general.',\n",
       " \"Oklahoma GOP Chair John Bennett's comments advocating violence against the top infectious disease expert earned him applause at a campaign event.\",\n",
       " 'Frank Figliuzzi said the Fox News personality\\'s parroting of Russian propaganda has \"gone way beyond free speech.\"',\n",
       " 'Mary Trump rips her \"severely damaged\" uncle.',\n",
       " 'And former President Donald Trump goofs up the the name of his own social media operation.',\n",
       " '\"Harry is whipped like no person I\\'ve ever seen,\" the former president said.',\n",
       " 'The man was accused of posting anti-trans messages and making violent threats in comments under the dictionary website’s definition for “female.”',\n",
       " 'It’s been nearly a year since the U.S. announced support for waiving vaccine patents, but influential countries have yet to release a possible agreement.',\n",
       " 'The president’s drug control strategy will emphasize harm reduction.',\n",
       " '\"If they succeed, you can kiss our democracy goodbye,\" cautioned Clinton-era Cabinet member Robert Reich.',\n",
       " \"During a traffic stop, a North Carolina state trooper discovered the congressman's license was suspended.\",\n",
       " 'The White House press secretary said the CDC continues to recommend mask-wearing on airplanes, even as carriers dropped mask requirements.',\n",
       " 'Andy Parker, whose daughter was killed during a live broadcast in 2015, sought to enter the Democratic primary in an effort to unseat GOP Rep. Bob Good.',\n",
       " \"The appeal of the federal judge's decision will only happen if the CDC says the mask order is needed beyond May 3, when the mandate was expected to expire.\",\n",
       " 'The Biden administration wants more IRS funding to boost tax collection and improve service.',\n",
       " 'The Bidens kicked off the first White House Easter Egg Roll since before the coronavirus pandemic, welcoming 30,000 kids and adults for the all-day event.',\n",
       " \"At least two others remain wanted for questioning in Saturday's shooting at the Columbiana Centre mall in Columbia.\",\n",
       " 'Jacob Christian Muse, of College Park, is charged with three counts of malice murder, the Georgia Bureau of Investigation said in a news release Friday.',\n",
       " 'The late Martha Wright-Reed became a phone justice activist after having to choose between paying for her medication and speaking with her grandson.',\n",
       " 'The Florida governor repeated the lie that the fetal remains were the size of \"basically infants.\"',\n",
       " \"The senior policy adviser behind many of Trump's policy decisions had resisted previous efforts by the House committee investigating the insurrection.\",\n",
       " 'The breath test, which is administered by health care providers, can provide results in under three minutes.',\n",
       " 'A federal judge has sentenced a wealthy California Democratic donor to 30 years in prison for injecting two men with lethal doses of drugs.',\n",
       " 'Some sources claim the white substance was actually distillers grain.',\n",
       " 'The latest Capitol riot defendant to go on trial is blaming his actions on the former president and his false claims about a stolen election.',\n",
       " 'A mysterious investor group parked a fortune in gold bricks near JFK Airport. They say it’s good for the neighborhood — and hope to snag a giant tax break.',\n",
       " 'The Justice Department’s decision is part of an effort to protect confidential information that may compromise an ongoing investigation, a source told the Associated Press.',\n",
       " 'The extremist congresswoman claimed Americans are \"fed up\" with hearing about the Jan. 6, 2021, insurrection that happened just that once.',\n",
       " 'The president told his Rose Garden audience he is cracking down on so-called “ghost guns.”',\n",
       " 'Everybody there \"loves him,\" a Washington Post journalist revealed after interviewing Trump at his resort home.',\n",
       " 'Kate McKinnon\\'s Ruth Bader Ginsburg guesses the book Cruz read at Jackson\\'s confirmation hearings was \"Goodnight Cancun.\"',\n",
       " 'The state will end a restriction that only physicians can provide abortions. An abortion care training program will also be created, with $3.5 million in annual funding.',\n",
       " 'Maybe he should be forced to host an awards show instead, quipped Colin Jost, who co-hosted the Emmys in 2018.',\n",
       " 'The Portage County fairgrounds has a \"long-standing policy\" of not hosting political rallies, a county commissioner said.',\n",
       " 'The 16-year-old suspect will be prosecuted as an adult on sex assault and attempted murder charges.',\n",
       " 'On the other hand, \"I\\'m Black, from cradle to grave,\" the Georgia congressional candidate told Steve Bannon. \"I don\\'t have a choice.\"',\n",
       " 'A record number of books with racial or LGBTQ themes have been challenged.',\n",
       " 'This social media battle between the congresswoman and the comedian just may be our new favorite non-contact sport.',\n",
       " \"The governor's dubious plan follows the Biden administration lifting a public health policy that limited asylum-seekers from entering the U.S.\",\n",
       " 'The Kentucky senator held up the vote for more than 15 minutes before sticking his hand through a door and voting no.',\n",
       " 'Former Trump administration officials are pressing Republican border governors to declare an “invasion” along the U.S.-Mexico border.',\n",
       " 'A judge said John Eastman appeared to be part of a \"campaign to overturn a democratic election, an action unprecedented in American history.”',\n",
       " 'The Missouri Republican does not use the same language as the more zealous members of his party —\\xa0but he doesn’t like to contradict them, either.',\n",
       " \"The longtime Michigan congressman said he won't seek another term.\",\n",
       " 'The stark warning comes as Russia’s war further hinders efforts to confront global warming and its mounting impacts.',\n",
       " 'A megachurch hosted the Kremlin-positive Fox News host — just as horrifying images of murdered civilians in Ukraine emerged.',\n",
       " 'The shocking incident was addressed several times on \"Saturday Night Live,\" including by \"O.J. Simpson\" (Kenan Thompson) on \"Weekend Update.\"',\n",
       " '\"Do coup, who do? ... Yes, in many ways it was an intentional, planned coup,\" says James Austin Johnson\\'s Donald Trump in the cold open.',\n",
       " 'A decade after her failed vice presidential bid, the former Alaska governor is running to replace conservative GOP Rep. Don Young, who died last week.',\n",
       " \"Something you just can't unsee.\",\n",
       " 'The Gays for Trump founder said the former president was probably expecting to see the \"stereotypical\" gay who fits with the \"typical \\'look\\' of leftist LGBT.\"',\n",
       " 'A challenge filed last month with the Georgia secretary of state’s office alleges the congresswoman helped facilitate the\\xa0Jan. 6, 2021, riot\\xa0on Capitol Hill.',\n",
       " '\"People will freak out when they hear,\" the anti-abortion activist reportedly said.',\n",
       " 'Sen. Dick Durbin (D-Ill.) also told reporters that the GOP treatment of Jackson was \"disgusting.\"',\n",
       " 'Jessica Cisneros, a progressive challenging Rep. Henry Cuellar (D), argues that Laredo’s water infrastructure should have improved more during Cuellar’s tenure.',\n",
       " '\"Why should I tell you?\" Biden responded when Doocy asked for specifics on the U.S. response to a possible Russian chemical attack on Ukraine.',\n",
       " '“This is the smallest crowd I’ve seen at a rally of his in Georgia since he won the 2016 election,\" one local politics reporter said.',\n",
       " 'Oksana Markarova said Ukraine is ready to negotiate a peace agreement with Russia, but that the country will not give up its territories to reach a deal.',\n",
       " 'The introduction of the minimum tax on the wealthiest Americans would represent a significant reorienting of the tax code.',\n",
       " 'The Florida Republican tried to write off his proposal to hike taxes for millions of Americans as \"Democrat talking points.\"',\n",
       " 'In an Instagram post, Che clarified he was \"not leaving SNL\" but did not confirm whether he intended to stay at the \"Weekend Update\" desk.',\n",
       " 'Warrants were executed on two of Eliot Cutler’s homes earlier in the week.',\n",
       " 'But he does have a \"lot of aggression,\" Cawthorn acknowledges in an appearance at a North Carolina GOP men\\'s club event.',\n",
       " 'The charges, sealed since 2021, make “crystal clear the urgent ongoing need for American businesses to harden their defenses,” the Justice Department said.',\n",
       " 'President Joe Biden paid tribute to Poland for giving refuge to more than 2 million Ukrainians who have fled their country since Russia’s invasion.',\n",
       " 'Manchin has announced his intention to support the nomination of Ketanji Brown Jackson, pushing her one step closer to confirmation.',\n",
       " 'The Biden administration asked the Republican Senate candidates to resign or be removed from the council on sports, fitness and nutrition.',\n",
       " 'The Texas senator was roasted on Twitter for this one.',\n",
       " \"Republicans will spend the next two days grilling Jackson on her record. They've already signaled plans to attack her for being “soft on crime.”\",\n",
       " 'A suspect has been taken into custody for the early morning shooting that left several people with not life-threatening injuries, police said.',\n",
       " \"The Wyoming Republican who co-chairs the House panel also said the probe's findings will reveal new information about the insurrection on the Capitol.\",\n",
       " 'The heat on the train was as thick as the anxiety as Ukrainian survivors of one of the most brutal sieges in modern history fled to the safer western city of Lviv.',\n",
       " \"Russia's top diplomat had some warm words for the conservative network, whose prime-time personality Tucker Carlson has repeated pro-Kremlin talking points.\",\n",
       " 'Jeff Zients and his deputy Natalie Quillian will leave the administration next month. Jha, the dean of the Brown University School of Public Health, will take over.',\n",
       " 'The European Space Agency confirmed Thursday that it’s indefinitely suspending its ExoMars rover mission with partner Roscosmos, Russia’s state space corporation.',\n",
       " 'Taoiseach Micheál Martin was at the Ireland Funds 30th National Gala at the National Building Museum in Washington when he learned of his diagnosis.',\n",
       " 'If the PREVENT Pandemic Act is passed in Congress, lawmakers would still have to deliver billions of dollars for it to materialize.',\n",
       " 'The president will travel next week to Brussels, where NATO leaders will \"discuss ongoing deterrence and defense efforts in response to\" Russia\\'s invasion.',\n",
       " 'The California university had been blocked from admitting around 3,000 students — or a third of its incoming freshman class — due to a local lawsuit.',\n",
       " 'Two of the victims — one in each city — have died.',\n",
       " 'The conservative Democrat said Raskin \"failed to satisfactorily address my concerns,\" likely dooming her bid to serve on the Federal Reserve Board.',\n",
       " 'Republican Gov. Brad Little is expected to sign the measure into law, and it will likely go into effect next month.',\n",
       " 'Right-wing rancher and gubernatorial candidate Bundy, who seized public lands with supporters in 2016, called the baby\\'s health treatment \"medical tyranny.\"',\n",
       " 'Surveillance video of the violence is \"chilling, to see a cold-blooded act of murder,\" Mayor Eric Adams said at a news conference.',\n",
       " 'One voting rights expert called the state redistricting challenge from GOP legislators \"an aggressive move … weaved in with a bunch of cynicism.\"',\n",
       " 'Advocates say use of the app is unfair considering many of the immigrants it tracks have already paid bond to get out of U.S. detention facilities.',\n",
       " 'The Senate has given final congressional approval to a $13.6 billion emergency package of military and humanitarian aid for besieged Ukraine and its European allies.',\n",
       " \"The move reverses a Trump era effort to eviscerate the nation's environmental laws.\",\n",
       " 'The House overwhelmingly approved legislation Wednesday that would ban Russian energy imports to the United States.',\n",
       " 'An analysis by Associated Press found the flagged ballots, putting the rate of rejected mail ballots in Texas on track to significantly surpass previous elections.',\n",
       " 'Jackson has also been praised by defense attorney groups.',\n",
       " 'The move follows pleas by Ukrainian President Volodmyr Zelenskyy to U.S. and Western officials to cut off the imports.',\n",
       " '\"This was ‘The Avenger,’ which is a movie that I wrote,\\xa0directed and starred in when I was 10 years old,” the \"Moon Knight\" star explained in his monologue.',\n",
       " \"A professor in Qatar was the first to spot the propaganda accounts praising Putin and Russia's invasion of Ukraine.\",\n",
       " 'The small Western-leaning former Soviet republic is coping with an influx of refugees from Ukraine and warily watching Russia’s intensifying aggression',\n",
       " '“I just want them to know that it’s gonna be okay. We’re gonna work through this,” Governor Spencer Cox said of trans student athletes.',\n",
       " 'The vice president is meeting with NATO allies to coordinate their support for Ukraine in the face of Russia’s “unprovoked and unjustified invasion.”',\n",
       " 'Experts have warned that a no-fly zone would amount to a U.S. declaration of war against nuclear-armed Russia.',\n",
       " 'Immigrant rights groups applauded the temporary designation while calling out a racist double standard on which immigrants the U.S. swiftly gives such status to.',\n",
       " 'The New Mexico Democrat received a standing ovation at a Senate hearing one month after he suffered a stroke.',\n",
       " 'Despite the president\\'s strong words on reproductive rights, he still has yet to say the word \"abortion\" in any public statement or remarks.',\n",
       " 'Progressive Democrat Jessica Cisneros had a narrow lead over Rep. Henry Cuellar as election day came to a close.',\n",
       " 'The ambassador will be a guest of first lady Jill Biden along with Facebook whistleblower Frances Haugen.',\n",
       " 'President Joe Biden aims to navigate the country out a pandemic, reboot his stalled domestic agenda and confront Russia’s aggression.',\n",
       " 'Gov. Kathy Hochul announced that the requirement will be rescinded on March 2 for kids 2 years and older, citing reduced COVID-19 cases and CDC guidance.',\n",
       " 'Ten years after the 17-year-old was fatally shot by George Zimmerman, over 30 states now have some form of the law.',\n",
       " \"Speakers didn't say much about the Russian attack, which was unfolding during the GOP conference.\",\n",
       " 'The staunch conservative and climate change denier is stepping down before his term is up, setting up a likely competitive GOP primary in Oklahoma.',\n",
       " '“I can’t put a date or exact time on it, but everything is in place for Russia to move forward,\" the secretary of state said.',\n",
       " 'The Jefferson Parish deputies were fired and arrested after killing Daniel Vallee, 34. The sheriff said lethal force \"was not justified.\"',\n",
       " \"Casar's star is rising, but he will need to beat mainstream liberal Eddie Rodriguez to get to Congress.\",\n",
       " 'Keturah Herron, an activist and former ACLU strategist, helped pass Kentucky’s “Breonna’s law,” which limited the use of no-knock warrants.',\n",
       " \"Lawyers for the Trump Organization's CFO are arguing that New York prosecutors targeted Weisselberg as punishment because he wouldn’t flip on the former president.\",\n",
       " 'Ben Smith, 43, was a \"fly off the handle kind of guy,\" his roommate told OregonLive.',\n",
       " '“Our personnel will regularly return to continue their diplomatic work in Ukraine and provide emergency consular services,\" Secretary of State Antony Blinken said.',\n",
       " 'Faced with a Russian attempt to redraw borders in Europe, the U.S. is preparing sanctions and European allies are signaling solidarity with the government in Kiev.',\n",
       " 'A senior administration official said that since Russia had already been in that region since 2014, that \"by itself would not be a new step.\"',\n",
       " 'The 95-year-old British monarch has cold-like symptoms and \"will continue to receive medical attention,\" Buckingham Palace said.',\n",
       " 'The Supreme Court is giving the Biden administration a quick hearing on its effort to scrap a Trump-era border policy that makes asylum-seekers wait in Mexico for hearings in U.S. immigration court.',\n",
       " 'Both parties hope the short-term measure will be the last one needed as negotiators craft compromise bills financing agencies through Sept. 30.',\n",
       " '“Public officials should remove all conflicts of interest — whether you’re at the federal or the state level,” the Democratic senator said of the ethics proposals.',\n",
       " 'The move comes amid heightened tensions between Russia and the U.S., fueled by fears that Moscow plans to invade Ukraine.',\n",
       " 'Kristof had appealed to justices after Oregon’s secretary of state declared he did not meet the qualifications to run for Oregon’s highest office.',\n",
       " 'Republicans want to limit the District’s democratic governance as the city gets closer than ever to becoming the 51st state.',\n",
       " '\"If people think that, the future is baked in and nothing is possible and that we’re doomed,\" the Democratic congresswoman told The New Yorker.',\n",
       " 'Russian President Vladimir Putin has suggested there may be a diplomatic solution to the predicament he created.',\n",
       " 'The 1,430 workers who lost their jobs represent less than 1% of the 370,000-person city workforce.',\n",
       " 'This could be big.',\n",
       " 'Trump was so \"mind-numbingly incompetent\" that he waved documents around for everyone to see, an incredulous former Homeland Security official revealed.',\n",
       " 'The Indiana State Police are investigating the campus officer\\'s use of force, and the university president promised a \"swift and thorough\" inquiry.',\n",
       " \"Tucker Carlson's online store is even selling shirts in support of the protest.\",\n",
       " '“It’s not lost on me that nominees of color have been treated differently,” the California senator said in a testy Judiciary Committee hearing.',\n",
       " 'A misunderstanding of harm reduction programs coupled with a Republican-led misinformation campaign led to a viral storm.',\n",
       " 'Hudson Mayor Craig Shubert cited \"data points.\"',\n",
       " 'Democratic Gov. Phil Murphy cited declining cases and rising vaccination rates in his decision.',\n",
       " 'President Joe Biden has accepted task force recommendations to promote collective bargaining through executive action.',\n",
       " 'The real issue is that \"Uyghurs are being tortured, and Uyghurs are the victims of human rights violations by the Chinese,\" Linda Thomas-Greenfield said.',\n",
       " '\"They\\'re defending Canada, America and standing up for freedom,\" Cruz crowed as Canadians complained protesting truckers were assaulting and harassing them.',\n",
       " 'Residents complain of constant air horn blasts, harassment, assault by truckers opposed to COVID-19 vaccines. \"This is a siege,\" said Ottawa\\'s police chief.',\n",
       " 'Donald Trump Jr., Rep. Jim Jordan and Elon Musk love the truckers being sued by Ottawa residents for blasting air horns 16 hours a day.',\n",
       " 'What constitutes diversity has changed over time, but presidents always looked to balance the Supreme Court to reflect the broader nation.',\n",
       " 'Travis and Gregory McMichael saw their plea deals tossed by a federal judge earlier this week after Arbery’s family objected.',\n",
       " 'Charlie Sykes explained why “we may look back” on Donald Trump’s first term “with a certain sense of nostalgia.\"',\n",
       " 'President Joe Biden set a new goal for the “moonshot” initiative against cancer that was announced in 2016 when he was vice president.',\n",
       " 'Adam Kinzinger of Illinois also called the Missouri senator a self-aggrandizing \"con artist.”',\n",
       " 'An FEC filing dated Sept. 15 shows the Greene for Congress PAC received a $250 donation from a “Tucker Carlson” who lists Fox News as their employer.',\n",
       " 'The New Mexico Democrat was hospitalized last week when he began to experience dizziness and fatigue.',\n",
       " 'The Wyoming Republican spoke on \"NBC Nightly News\" about the former president\\'s remarks this weekend, including his pledge to pardon insurrectionists.',\n",
       " 'The judge said she would reject an agreement for another of the men if it were brought to her. Arbery\\'s mother called the deals a \"betrayal.\"',\n",
       " 'The 84-year-old actor and comedian has been\\xa0free since June,\\xa0when a Pennsylvania appeals court overturned his conviction and released him from prison after nearly three years.',\n",
       " 'The character\\'s temporary makeover threatens to destroy \"fabrics of our society,\" the right-wing media mouth said.',\n",
       " 'Former Florida Republican David Jolly slammed the “pandemic of lunacy that is infecting” the GOP.',\n",
       " 'Andy Parker hailed WDBJ journalist Alison Parker, who was killed on-air in 2015, as his inspiration \"to take a stand\" in the spot launching a run for Congress.',\n",
       " 'Josh Mandel and Morgan Harper, running for Senate from opposite ends of the political spectrum, debated in Columbus. A moment for consensus it was not.',\n",
       " \"Wisconsin's Republican senator is a COVID-19 truther in a swing state.\",\n",
       " 'The Oath Keeper “QRFs” show how things could have been a lot worse, and how much more there is to learn.',\n",
       " 'Opponents say the GOP-backed law would harm LGBTQ families and make teachers \"fearful of providing a safe, inclusive classroom.”',\n",
       " 'First things first: They’re not.',\n",
       " \"The former president's son received a quick reminder about his father.\",\n",
       " 'A call to a radio show from a Virginia parent spread to top conservative pundits — but it quickly turned into a bad game of telephone.',\n",
       " 'The \"View\" co-host said the \"Real Time\" comedian\\'s gags were \"not really funny to people who have lost their kids\" to the coronavirus.',\n",
       " 'The Florida Republican railed against the \"reckless spending\" contained in the measure, which passed with wide bipartisan support last year.',\n",
       " 'The Green Bay Packers quarterback also seemed to question the 2020 election.',\n",
       " 'Suggestive sketch suddenly includes \"Three Guys Who Just Bought a Boat.\"',\n",
       " \"MSNBC's Ari Melber shot down Trump's former trade adviser when he pretended to be clueless about the violence.\",\n",
       " 'The reported souring in tensions between the former president and the Florida governor gets the treatment in the anti-DeSantis spot.',\n",
       " \"The Missouri Republican led the charge on Jan. 6 to object to Joe Biden's win -- right after he saluted pro-Trump protesters gathering at the U.S. Capitol.\",\n",
       " 'Black lawmakers are condemning McConnell\\'s comments, in which he appeared to differentiate between \"African-Americans\" and \"Americans.\"',\n",
       " '\"my toxic trait is saying \\'what?\\' when my cat meows and expecting a legitimate answer\"',\n",
       " 'A conservative group asked the House minority leader a blunt question about Jan. 6.',\n",
       " 'But questions remain. Russia has been suspected of aiming some sort of weapon at American diplomats abroad that causes debilitating ailments.',\n",
       " \"Critics mockingly reworked the name of the former Trump attorney general's upcoming memoir.\",\n",
       " \"The House committee investigating the Capitol insurrection has issued subpoenas to some of Donald Trump's closest advisers, including Rudy Giuliani.\",\n",
       " \"Republicans who voted to overturn the presidential election and fueled a deadly riot at the U.S. Capitol say they honor MLK's life of sacrifice for the greater good.\",\n",
       " 'They claim the person who showed up at the event appeared to be shorter than the \"real\" Donald Trump.',\n",
       " \"Jorge Diaz-Johnston's body was found five days after he was last seen alive in Tallahassee, authorities said.\",\n",
       " '\"For a while I’ve noted the term \\'mild\\' is misleading when the bar is hospitalization and death,\" the congresswoman said.',\n",
       " '\"You cannot interpret this as anything but a declaration of war on democracy,\" noted the California lawmaker.',\n",
       " 'CNN\\'s \"K-File\" resurfaced the top House Republican\\'s comments to a California radio station just days after the Jan. 6 insurrection.',\n",
       " 'The mocking \"Daily Show\" montage bids farewell to one narrative put forward on the conservative network about the Jan. 6 insurrection.',\n",
       " 'Authorities confirmed that the suspect, who died after holding people at a synagogue near Dallas for 12 hours, was a 44-year-old British national.',\n",
       " \"Ken Paxton's office has so far stonewalled requests for the information, even though he is supposed to be in charge of enforcing the public records law.\",\n",
       " '\"At my dog park there is a husky who escapes his home and takes himself to the dog park on his own. He waits for someone to open the gate for him.\"',\n",
       " '“Republicans can’t win a fair fight and they know it,\" responded DNC Chair Jaime Harrison.',\n",
       " 'The Fox News personality messaged then-White House chief of staff Mark Meadows with some advice for Donald Trump a week after the insurrection.',\n",
       " 'The Republican lawmaker was in touch with Donald Trump the day of the Capitol riot, and the committee wants to know what they talked about.',\n",
       " '“Republicans chose to abandon this senatorial courtesy,” the Judiciary Committee chair said of advancing a Biden appeals court pick without blue slips.',\n",
       " \"Andre Mathis, Biden's appeals court pick, doesn't have a criminal record. He once got a ticket for going 5 miles over the speed limit, though.\",\n",
       " '\"Fines are not enough,\" said Assistant Speaker Katherine Clark (D-Mass.).',\n",
       " 'Critics hit the top Senate Republican with a few home truths.',\n",
       " \"Brian Kilmeade also dismissed Trump's complaints of election fraud.\",\n",
       " \"The former vice president wants to cooperate but probably won't do it voluntarily, said Alyssa Farah Griffin.\",\n",
       " 'Johnson has spread lies about COVID-19 and downplayed the Capitol riot.',\n",
       " \"Dominick Black, who bought the assault-style rifle that the underage teen used to shoot three people, agreed to plead no contest to charges he's been facing.\",\n",
       " 'Here you go.',\n",
       " \"The Texas Republican's past criticism of the U.S. Capitol rioters was flipped back on him following his groveling apology to Tucker Carlson for calling them terrorists.\",\n",
       " 'The former presidential adviser and Trump son-in-law supposedly goes way back with the MAGA-loving rapper.',\n",
       " 'The Alabama Republican, who talked of \"blood\" sacrifice at Trump\\'s Jan. 6 rally, said the account from Kevin McCarthy\\'s ex-aide was \"total bovine excrement.\"',\n",
       " 'A judge has denied a request to lower a $500,000 bail set for two parents who are charged with their son in a fatal Michigan school shooting.',\n",
       " 'The Fox News personality claimed it\\'s \"the MSNBC administration\" and received a blunt reminder.',\n",
       " 'Jacob Chansley is serving a 41-month prison sentence for his role in the U.S. Capitol riot.',\n",
       " 'Twitter users mockingly suggested the extremist Colorado Republican offered her resignation with the post.',\n",
       " \"Nearly all of the 147 Republicans who voted to reject the 2020 presidential election results also won't say if they regret that vote, which was based on a lie.\",\n",
       " 'A band of online sleuths called \"Sedition Hunters\" has had an enormous effect on the Jan. 6 investigation. Next up: Holding the FBI’s feet to the fire.',\n",
       " '\"The attempted coup came much closer to succeeding than many would admit and was just a dress rehearsal for 2024,\" an essay in The Bulwark read.',\n",
       " 'Critics pointed out the flaws with the Colorado Republican’s defense of her fellow far-right extremist.',\n",
       " 'Kelly Ernby, a Republican who ran for California State Assembly in 2020, said \"there’s nothing that matters more than our freedoms right now\" at a rally last month.',\n",
       " 'While the House is uglier and more rancorous, senators say they’ve felt little change in the one year since the attack.',\n",
       " 'The Trumps have indicated they will fight the subpoenas and are expected to file court papers through their lawyers seeking to have them thrown out.',\n",
       " 'Overall, vaccine compliance is high among all branches of the military, despite early grumblings.',\n",
       " \"The accommodations renew fears that the journalist's murderers will never be held accountable for the horrific crime.\",\n",
       " 'And they\\'d be \"horrified,\" he claimed — probably over the Jan. 6 insurrection, noted others.',\n",
       " \"The Georgia Republican was given the boot after repeatedly violating Twitter's COVID-19 misinformation policy, the company said.\",\n",
       " 'The letter was created a day before Trump discussed naming conspiracy theorist Sidney Powell \"special counsel\" to probe baseless election fraud claims.',\n",
       " 'The congresswoman fired back at Republican Steve Cortes, turning the tables on his bizarre crack about her trip to Florida with her boyfriend.',\n",
       " \"The events from last Jan. 6 in Washington unfolded on live television but they've since been up for debate.\",\n",
       " '\"Animals are so funny you can name a cat iphone 3 and he dont know wtf goin on.\"',\n",
       " 'Republican leaders are heading into the new year with surging confidence. But the party still has a few challenges ahead.',\n",
       " 'Messages of remembrance poured in after the Democratic giant from Nevada died at 82 after a years-long battle with cancer.',\n",
       " 'President Joe Biden and Vladimir Putin will speak Thursday as the Russian leader has stepped up his demands for security guarantees in Eastern Europe.',\n",
       " 'John T. Earnest was sentenced Tuesday to life in federal prison for killing a woman and injuring three others when he burst into a Southern California synagogue in 2019.',\n",
       " \"U.S. District Judge Timothy Kelly rejected defense attorneys’ arguments that their clients' conduct on Jan. 6 was protected by the First Amendment right to free speech.\",\n",
       " 'The president changed his tone after previously going on the defense in response to questions about the lack of testing in the face of the omicron variant.',\n",
       " 'The Texas lawyer successfully argued the landmark reproductive rights case before the Supreme Court at 26 years old, legalizing abortion nationwide.',\n",
       " 'The three are among at least 17 Salvadoran women activists consider unjustly convicted and imprisoned following obstetric emergencies.',\n",
       " \"The trip marked the first time that a sitting president joined a first lady in visiting kids at the D.C. Children's National Hospital.\",\n",
       " 'The former Minnesota police officer will be sentenced in February.',\n",
       " 'Trump turned to the Supreme Court in a last-ditch effort to keep documents away from the House committee investigating the Jan. 6 insurrection at the Capitol.',\n",
       " 'A jury convicted the white former Brooklyn Center police officer after she fatally shot the 20-year-old Black man during a traffic stop.',\n",
       " 'The Packers quarterback made his thoughts clear via his wardrobe and made questionable statements about COVID-19 during a radio show appearance.',\n",
       " 'The retired Army general and adviser to former President Donald Trump was denied a restraining order against the Jan. 6 House committee.',\n",
       " \"Danny Rodriguez was identified in a HuffPost story as the Capitol rioter who drove a stun gun into Officer Mike Fanone's neck on Jan. 6.\",\n",
       " \"It's the second time this week the committee publicly sought to interview a sitting member of Congress.\",\n",
       " '“If he doesn’t have the courage to do the right thing ... let him vote no in front of the whole world,” said Sen. Bernie Sanders (I-Vt.).',\n",
       " 'After months of negotiations, the conservative West Virginia Democrat announced on Fox News he will not vote for the Build Back Better Act.',\n",
       " 'On Tuesday, the House voted to recommend criminal charges against Meadows for contempt of Congress.',\n",
       " 'The moderate, who resigned in 2019 due to his health issues, was known for making deals with Democrats in an otherwise polarized Congress.',\n",
       " 'GOP senators have slowed down the confirmation process, and nominees of color have been disproportionately affected.',\n",
       " '\"Can\\'t wait to tell my grandkids i was here!\" Gracyn Courtright posted on Instagram on Jan. 6.',\n",
       " 'The president told a woman in a Packers jacket to tell the quarterback one thing during a tour of tornado-hit Kentucky.',\n",
       " \"Cohen's suit claims that his home confinement was prematurely ended to punish him for writing a critical book about Trump.\",\n",
       " 'The Republican forwarded a message to Mark Meadows outlining a legal theory that the vice president had the authority to stop certification of the 2020 election.',\n",
       " \"Members of the House voted to hold Trump's former chief of staff accountable for refusing to cooperate with the committee investigating the Capitol riot.\",\n",
       " 'Almost every state in the country allows citizens to act as police — with sometimes deadly consequences. Some want these laws abolished.',\n",
       " 'The concern: Thousands of armed troops could have been forced to choose between following their orders or obeying the sitting commander in chief.',\n",
       " 'The \"Infowars\" conspiracy theorist said it was \"a legitimate question to ask.\"',\n",
       " 'Cleveland Grover Meredith Jr. arrived late to the Jan. 6 attack because he had car trouble. He threatened House Speaker Nancy Pelosi.',\n",
       " '\"Spreading fake news to ask for money is commercial speech, and courts enforce laws criminalizing fraud,” warned Richard Painter.',\n",
       " 'The doctor said Sunday the U.S. had all the tools needed to “protect ourselves” amid the dual threat from the delta and omicron variants.',\n",
       " \"Kyle Mooney's Santa complains before the coronavirus expert that the COVID vaccine has made his testicles balloon to the size of grapes.\",\n",
       " 'Retired Army colonel Phil Waldron also told The Washington Post that he briefed several members of Congress on \"options\" the night before Jan. 6.',\n",
       " 'She also takes a shot at Colin Jost ... at 16 ... \"watching other people go to prom.\"',\n",
       " 'Maxwell, 59, has denied charges she groomed underage girls for Jeffrey Epstein, who killed himself in jail in 2019.',\n",
       " 'An email the former chief of staff provided to the House panel investigating the U.S. Capitol riot referred to a scheme for Trump to use emergency powers.',\n",
       " \"The decision comes after some conservative justices signaled concern about the law's unintended side effects.\",\n",
       " 'The Fox News conspiracy theorist suggested coronavirus \"feminizes\" people.',\n",
       " 'Two sisters, one of whom was shot in the neck, say administrators could have prevented the deadly school shooting in Michigan.',\n",
       " 'During a special session meant to discuss tax cuts, a GOP legislator who thinks the Texas bill is “absolutely awesome” introduced an even more extreme version.',\n",
       " '“Tell me again where Christ said ‘use the commemoration of my birth to flex violent weapons for personal political gain’?” the representative asked.',\n",
       " 'Col. Earl Matthews accuses Lt. Gen. Charles Flynn and Lt. Gen. Walter Piatt of lying to Congress about what transpired the day rioters breached the Capitol.',\n",
       " \"Democrats believe it will be difficult for Republicans to oppose popular elements of Build Back Better, like new child care funding. But the GOP isn't playing along.\",\n",
       " 'James Kyle Bell also set up a series of shell companies to illegally collect COVID relief funds, the Justice Department said.',\n",
       " 'The Sunday Times reported that drug detection wipes found traces of cocaine in 11 locations that are only accessible by accredited parliamentary lawmakers.',\n",
       " 'Democrat Stacey Abrams announced her own bid to unseat Gov. Brian Kemp (R) on Wednesday.',\n",
       " 'The former U.S. senator from Kansas died Sunday at age 98.',\n",
       " 'This will show \"Big Tech,\" crows Trump.',\n",
       " 'The network was aware of the allegation just days before the anchor was fired for helping his then-governor brother defend himself against misconduct claims.',\n",
       " 'The prominent statesman and war hero had been hailed as “the true measure of servant leadership” from both sides of the aisle.',\n",
       " \"But the testing option won't be fun, and maybe that's the idea.\",\n",
       " '“The best thing everyone can do is to realize we are not defenseless,\" New York Gov. Kathy Hochul said.',\n",
       " 'A 29-year-old man has been arrested after the fatal shooting of philanthropist Jacqueline Avant, the wife of legendary music executive Clarence Avant.',\n",
       " 'The president has repeatedly tested negative for COVID-19.',\n",
       " 'The first U.S. case of the omicron variant has been confirmed in California.',\n",
       " \"Some conservatives are threatening a government shutdown over the Biden administration's pending COVID-19 vaccination and testing rules.\",\n",
       " 'Trump considered installing Clark as his attorney general in the desperate waning days of his presidency.',\n",
       " 'The rule requiring employees at large companies to get vaccinated or be tested weekly hasn’t taken effect yet.',\n",
       " 'The voting rights activist will likely face off against the current Republican governor, Brian Kemp.',\n",
       " '\"I promise you it will go away if you just keep at it,\" Biden assured a girl while vacationing in Nantucket.',\n",
       " '“The statute outlaws no weapon, but only limits the size of the magazine that may be used with firearms,” the judges ruled in the 7-4 decision.',\n",
       " 'Two men say the actor paid them to stage a hate crime against him, but Smollett maintains his innocence.',\n",
       " 'Former Florida congresswoman Carrie Meek championed affirmative action, economic opportunities for the poor and efforts to bolster democracy in Haiti.',\n",
       " 'The Oscar-winning actor said it was \"a path that I’m choosing not to take at this moment.\"',\n",
       " 'Colorado Republican Rep. Lauren Boebert has repeatedly referred to Rep. Ilhan Omar in derogatory terms, calling Omar a member of the \"jihad squad.\"',\n",
       " 'More than $1.5 million has been raised for Kevin Strickland, who spent decades behind bars before a judge overruled his conviction.',\n",
       " 'Kevin Nishita was shot in the abdomen while doing his job amid an uptick in organized retail crime.',\n",
       " \"The tubular adenoma was similar to one removed from Biden in 2008 and required no further action, said the president's doctor.\",\n",
       " 'The DOJ says it will aggressively prosecute violent passengers who assault crew members or endanger the safety of other passengers.',\n",
       " \"The state's GOP-controlled legislature claims Democratic leaders are failing to adequately defend the law, so they want to do so themselves.\",\n",
       " 'Officials say the most important lesson for businesses from the federal experience is that once they take the first step toward requirements, their workers will follow.',\n",
       " 'Still, at the federal level, it remains \"incredibly important for Congress to step in\" to prevent widespread disenfranchisement, one voting rights attorney said.',\n",
       " 'Three members of the group were killed Sunday after the driver of a red SUV roared through a Christmas parade in Waukesha.',\n",
       " 'President Joe Biden on Monday picked Federal Reserve Chair Jerome Powell for another four-year term.',\n",
       " \"The New Hampshire governor weighed in on the censure of Rep. Paul Gosar and the passage of Joe Biden's infrastructure bill.\",\n",
       " 'The higher wage floor will apply to new federal contracts across the country after Jan. 30.',\n",
       " \"The decisions by Leahy and now Welch will create the first open seats in Vermont's three-member congressional delegation since 2006.\",\n",
       " \"Biden's decision strikes a note of continuity at a time when surging inflation is burdening households and raising risks to the economy's recovery.\",\n",
       " 'The renomination of Jerome Powell also returns Joe Biden to his roots as an economic moderate.',\n",
       " '\"We don\\'t want extremism in our gun laws,\" the Texas gubernatorial candidate said.',\n",
       " '\"Now you’ll want to know what’s in my DNA,” Republican Winsome Sears said when asked about whether she has received a COVID vaccine.',\n",
       " \"The veteran congresswoman won't be seeking reelection next year.\",\n",
       " '“This year, at least 46 transgender individuals in this country — and hundreds more around the world — were killed in horrifying acts of violence,” Biden said.',\n",
       " 'The former entrepreneur attempted to refute allegations that she bamboozled investors and patients into believing that her startup, Theranos, would reshape health care.',\n",
       " 'Massachusetts AG Maura Healey accused Meta, formerly Facebook, of \"exploiting children in the interest of profit.\"',\n",
       " \"Biden's Build Back Better bill would bolster child care assistance, create free preschool, curb seniors’ prescription drug costs and beef up efforts to slow climate change.\",\n",
       " 'Young Dolph was in Memphis doing charity work, including visiting a cancer treatment center and giving away turkeys at a church ahead of Thanksgiving.',\n",
       " 'The president predicted quick action on the massive domestic policy bill.',\n",
       " 'Early detection of breast cancer greatly increases survival rates.',\n",
       " 'Cheney has continued to level criticism at Donald Trump, saying lawmakers who refuse to do so are complicit in his election lies.',\n",
       " \"The Senate’s longest-serving Democrat is retiring after 47 years in office — the latest major retirement ahead of 2022's midterm elections.\",\n",
       " 'As many as 29% of troops in the most junior enlisted ranks faced food insecurity during the previous year, according to Feeding America.',\n",
       " 'White House officials have set low expectations for Monday’s virtual meeting.',\n",
       " 'The Wyoming Republican instead praised Trump for bringing \"a lot of energy to the party.\"',\n",
       " '\"If they don’t fulfill their lawful duty when subpoenaed... they too may be prosecuted,” said the Democrat, who\\'s on the committee investigating Jan. 6.',\n",
       " \"Things got real meta for Donald Trump's former White House strategist after his indictment on Friday.\",\n",
       " 'Many of the student activists were publicly quiet when the 2018 shooter pleaded guilty last month.',\n",
       " 'Once a self-styled “Prada socialist” labeled as “too extreme” by Arizona Democrats, U.S. Sen. Sinema (D-Ariz.) has found new power as a centrist in an evenly split Senate.',\n",
       " 'Democrats’ $1.85 trillion package of social and climate initiatives seems afflicted by a maddening parade of hurdles.',\n",
       " 'Trump, who has focused his political efforts on punishing his political opponents, endorsed a leading opponent of Murkowski in June.',\n",
       " 'Gov. Jared Polis (D) defied federal guidance on COVID-19 booster shots, issuing an order allowing all residents 18 years old and older to get them.',\n",
       " '“This madness has to stop,” said Rep. Fred Upton, R-Mich., an 18-term moderate, who said his offices received dozens of threatening calls following his yes vote.',\n",
       " '“No student should be forced to make the choice of forfeiting their education or risking their health,\" an attorney said.',\n",
       " 'Ten Democrats said they will introduce a resolution to censure the Arizona Republican.',\n",
       " 'Gov. Kevin Stitt also urged the passage of legislation to prohibit nonbinary designations on birth certificates altogether in 2022.',\n",
       " \"Biden pledged to root his foreign policy in values like human rights, but didn't apply that standard to the long and morally dubious U.S.–Saudi relationship.\",\n",
       " '\"I barricaded myself in, thinking, ’If this is as bad as it seems, they may end up at my office, breaking this crap down. I may have to do what I can.\\'\"',\n",
       " 'At least 13 former Trump administration officials violated the law by intermingling campaigning with their official government duties, according to a new investigation.',\n",
       " 'Former Donald Trump associates John Eastman, Bill Stepien, Jason Miller and Michael Flynn are among those subpoenaed.',\n",
       " 'Evan Neumann reportedly has applied for asylum in the authoritarian country.',\n",
       " \"Despite being the first Democrat in decades to get a second straight term as the state's governor, the extremely close win signaled the party must do more.\",\n",
       " '“My brother’s up there. He’s got his arms up, all victorious. And I’m down there on the ground,\\xa0like ... I want uppies,\" Culkin recalled of being on \"SNL\" as a boy.',\n",
       " 'In the new era of high-turnout elections, Virginia gubernatorial candidate Glenn Youngkin found a way to persuade voters and pave his path to victory.',\n",
       " 'Democrats conceded the majority to the GOP, which will take control of a legislature that had aggressively advanced progressive priorities on abortion, voting rights and other issues.',\n",
       " 'CNN\\'s S.E. Cupp explained how Virginia\\'s Democratic gubernatorial candidate Terry McAuliffe \"pissed off the wrong voters.\"',\n",
       " \"The 2022 midterm elections will be a big test of whether improving people's lives is effective politics.\",\n",
       " \"Twitter users were puzzled by Tennessee House Speaker Cameron Sexton's claim.\",\n",
       " 'One of the students told his parents: \"I’m never getting vaccinated. I’m never getting any more shots of any kind. Did you know Trump’s still president?\"',\n",
       " '\"The Daily Show\" host used the rumored celebrity romance to make a point about Republican Glenn Youngkin\\'s surprising victory in the Virginia election.',\n",
       " '“We’ve got to change this and not be about\\xa0changing dictionaries, and change laws,\" warned the Democratic political consultant.',\n",
       " 'The Texas senator then tweeted a clip from his interview containing his false claim about Merrick Garland, but not the fact-check that followed.',\n",
       " 'President Joe Biden says the Democrats\\' setbacks in Tuesday\\'s elections underscore that the party needs to “produce for the American people.\"',\n",
       " 'Just a day after the Supreme Court heard oral arguments on S.B. 8, Ohio Republicans introduced a copycat bill to ban abortion at any point in a pregnancy.',\n",
       " 'Conspiracy theory-endorsing Boebert\\'s response to Thunberg\\'s \"no more blah blah blah\" comments outside COP26 backfired.',\n",
       " 'The Raleigh Police Department fired Omar Abdullah after the city paid $2 million to settle a wrongful arrest suit from several of the men.',\n",
       " '\"Will we act?\" Biden asked during a speech at the United Nations climate conference. \"Or will we condemn future generations to suffer?\"',\n",
       " \"Facing political headwinds, Virginia Democrats are desperate to hold on to power in a state that has provided some of the party's biggest recent victories.\",\n",
       " 'The White House press secretary said she last saw the president on Tuesday.',\n",
       " 'Jim Bob Duggar, who previously served in the Arkansas House, said he\\'s running as a \"bold voice that is pro-family, pro-business, pro-gun and pro-life.\"',\n",
       " \"“I haven’t seen any momentum in the party move away from lies and towards truth,” said the Republican, who recently announced he won't seek reelection.\",\n",
       " \"The testimony would go against the school's interest by conflicting with the administration of Florida Gov. Ron DeSantis, according to university leaders.\",\n",
       " 'Baldwin added that he is in favor of limiting the use of firearms on set after the fatal accidental shooting.',\n",
       " 'Biden bus should “drive defensively,\" quipped a San Marcos Police corporal who refused to help as pro-Trump truckers swarmed campaign vehicles last year.',\n",
       " 'The deal reached on Biden’s Build Back Better framework includes monetary penalties of up to $100,000 for employers who violate labor law.',\n",
       " \"The ruling could challenge the Biden administration's plan to curb carbon emissions right after a key White House proposal died in Congress.\",\n",
       " 'The Trump White House press secretary received some blunt reminders.',\n",
       " 'The 66-year-old told a regional court in Munich that he performed the procedures at the men’s request.',\n",
       " 'Ghosts and goblins can scratch 1600 Pennsylvania Avenue from their trick or treating routes.',\n",
       " 'It’s not with the Republican grassroots, Max Boot argued in The Washington Post.',\n",
       " 'A voting rights bill before the Senate contains new protections for election officials.',\n",
       " '“We thought things couldn’t get much worse in DeSantis’ handling of the pandemic, but we were wrong,\" the newspaper\\'s editorial board wrote.',\n",
       " 'A new Democratic proposal would target investments held by the wealthiest Americans, such as stocks, in order to pay for new social programs.',\n",
       " '“If you look at the data that’s been made public, the data look good,\" the nation\\'s top infectious disease expert said Sunday.',\n",
       " '\"Last time I checked, everyone, regardless of their political persuasion, is coming down with this,\" the immunocompromised Fox News anchor said.',\n",
       " '“I’m you from eight years ago, man, the ghost of Biden past. ... Where I’m from, we’re still VP. Easiest gig in the world,\" Sudeikis told the current Biden, James Austin Johnson.',\n",
       " 'A software project dedicated to community ownership and public accessibility slams into Donald Trump\\'s \"Truth Social\" media efforts.',\n",
       " 'At a rally, the New York congresswoman also framed a Walton victory as important for American democracy.',\n",
       " 'The MSNBC anchor spotted the superpower that \"ostentatious jerk\" Republicans are desperate to develop.',\n",
       " 'Yale history professor Timothy Snyder pointed out the worrying ways the next election could differ from 2020.',\n",
       " \"Tucker Carlson didn't even blink at the remark as the two discussed wind turbines, but there was a gusty outcry on Twitter.\",\n",
       " 'India Walton, a progressive, won the Democratic primary, but centrist Mayor Byron Brown is challenging her via a write-in campaign.',\n",
       " 'New Hampshire Gov. Chris Sununu slammed \"nonsense\" conspiracy theories spread by state Republicans.',\n",
       " 'GOP politicians are relying on Donald Trump — who attempted to overthrow an election he lost — to energize voters ahead of the 2022 midterm elections.',\n",
       " \"Progressive activists and lawmakers are calling for the Senate to reject the disgraced former Chicago mayor's nomination as envoy to Japan.\",\n",
       " 'Amazon\\'s \"Mayor Pete,\" due out Nov. 12, promises an intimate look at Buttigieg\\'s marriage to husband Chasten and the grueling 2020 campaign.',\n",
       " 'Under S.B. 8, a radical anti-abortion law, undocumented folks are “either forced into parenthood or risking deportation,\" advocates say.',\n",
       " 'The redrawn congressional districts may make it easier for Republican incumbents to hold their seats.',\n",
       " 'Danny \"D.J.\" Rodriguez, who was arrested after he was identified in a HuffPost story, called himself a \"f**king piece of s**t\" during his interview with the FBI.',\n",
       " '“Wow, so much stuff coming out about the NFL is maybe racist,” says Chris Redd\\'s Kaepernick on \"SNL\\'s\" cold open after the Jon Gruden scandal.',\n",
       " 'The Fox News personality offered a fake apology following criticism of his homophobic and misogynistic remark about the transportation secretary.',\n",
       " \"The former Trump White House press secretary earned a blistering two-word rebuke from Mary Trump, the ex-president's niece.\",\n",
       " '\"My cat must think I’m so dumb considering how often I sing to him about the fact that he is a cat.\"',\n",
       " \"The inscribed copy of Trump's book sold for more than $54,000.\",\n",
       " \"The administrator's comments came in response to a Texas law that seeks to limit how teachers discuss white supremacy and systemic racism in public schools.\",\n",
       " 'Sen. Lora Reinbold was banned from Alaska Airlines earlier this year for refusing to comply with its mask policy.',\n",
       " \"Utah's GOP delegation portrayed tribes as allies in their fight against protected national monuments, even though they petitioned for one site's creation.\",\n",
       " 'The unvaccinated gubernatorial candidate kept pushing conspiracy theories about the shot while he benefited from expensive medical intervention.',\n",
       " 'People were dropping F-bombs at the news that New Jersey gubernatorial candidate Jack Ciattarelli led a 1994 effort to ban swearing in his town.',\n",
       " 'The senator brazenly joked about his widely condemned getaway in an effort to criticize Joe Biden.',\n",
       " 'Texas abortion clinics are canceling appointments they had booked during a 48-hour reprieve from the nation’s most restrictive abortion law.',\n",
       " 'The former national security official said there is enough historical evidence that shows the U.S. is currently in \"a danger zone.\"',\n",
       " '“We owe this to the young, to future generations,” the 84-year-old pope said.',\n",
       " 'Allen West, who said he did not get vaccinated, and his wife Angela who did, have both tested positive for COVID-19.',\n",
       " 'Westchester District Attorney Mimi Rocah decided in recent days to take the case to a grand jury.',\n",
       " 'The Senate Republican leader from Kentucky apparently can take it only from Donald Trump.',\n",
       " 'The MSNBC host said former Justice Department official Jeffrey Clark \"essentially plotted with Trump to use the DOJ to foment Trump’s coup.\"',\n",
       " '\"everyone thinks that their cat is the cutest cat in the world and youre actually all correct\"',\n",
       " 'The newly released clips reveal officers making racist remarks and celebrating as they shoot rubber bullets at protesters.',\n",
       " 'Nine months after the Jan. 6 attack, the FBI has nabbed a quarter of the estimated 2,500 potential Capitol defendants.',\n",
       " 'Chris Hayes’ damning montage shows why the Missouri Republican’s latest indignation is “frankly kind of astounding.”',\n",
       " 'The agency said the raids were part of \"an ongoing investigation.\"',\n",
       " 'The former White House press secretary said she expected such attacks but says the former first lady \"knows that I have ... receipts to show that I’m being fully honest.”',\n",
       " 'John Black testified that it was likely the 18-year-old suspect felt threatened by three men trying to take his gun away.',\n",
       " \"The former president now has a Dec. 23 deadline to undergo questioning in former “Apprentice” contestant Summer Zervos' suit.\",\n",
       " '“Put on your coziest flannel and maybe we just chill out for the next 90 minutes,\" said the laid-back \"SNL\" host.',\n",
       " 'At least he \"went the entire summer without falling down the stairs once,\" boasted \"Biden.\"',\n",
       " \"It depends on whether Manchin cares about the bill's sheer ambition or just its increase in federal spending.\",\n",
       " '\"A midlife crisis of cosmic proportions.\"',\n",
       " 'At an unrelated event, GOP Sen. Susan Collins said she\\'s working to make Roe v. Wade \"the law of the land.\"',\n",
       " '“I’m going to try to sell what I think the American people will buy,” the president said.',\n",
       " 'The election auditors missed 16,000 votes in a single sample, according to experts analyzing their work — who added that the undertaking was \"laughable.\"',\n",
       " 'An overwhelming 94% of respondents said Islamophobia affects their emotional and mental well-being.',\n",
       " 'Some librarians in Campbell County are accused of putting books some say are obscene in sections for children and teenagers.',\n",
       " \"Many critics on Twitter responded to the Ohio Republican's slam of Democrats in the same mocking way.\",\n",
       " 'Trump said he wanted a \"special election\" in Georgia — part of an idea pushed by some advisers to use the military to force a redo of elections in states he lost.',\n",
       " 'Stephanie Grisham, a former White House press secretary, also said the first lady was at a \"photo shoot of a rug on Jan. 6.\"',\n",
       " '\"It\\'s all made up,\" the MSNBC host said.',\n",
       " \"The far-right lawmaker's tweet drew ridicule from Democrats and Twitter critics.\",\n",
       " 'California has joined nine other states and Washington, D.C., to mandate that every voter be mailed a ballot by default ahead of an election.',\n",
       " 'Addressing Trump Jr., Navarro slams him as someone with \"no talent or skill or significant accomplishment who\\'s living off your father\\'s fame, name and fortune.\"',\n",
       " 'Virologist Steven Hatfill was traveling to Arizona and Nevada to challenge Donald Trump election losses instead of fighting COVID, according to his emails.',\n",
       " '“Ours is not a movement dependent on any one person,” the former head of  the Education Department said.',\n",
       " '“They’re in it for the money,” said Republican Grant Woods.',\n",
       " 'The Biden administration is looking for new ways to stop terrorist threats in Afghanistan after withdrawing all troops.',\n",
       " 'And she thanked Donald Trump for helping her sell more books by suing her.',\n",
       " 'The draft also reportedly found that Biden won Maricopa County by a larger margin than official election results showed.',\n",
       " \"That's retty — err, pretty — embarrassing.\",\n",
       " \"Kenneth Copeland served on Donald Trump's evangelical advisory panel in 2016.\",\n",
       " 'Twitter users pluck the feathers out of Mike Lindell over his latest wild claim.',\n",
       " '“This one, I think, we know the results already,” said former acting Solicitor General Neal Katyal.',\n",
       " 'Trump is suing his niece Mary Trump, The New York Times and three of its reporters.',\n",
       " 'The British prime minister not-so-subtly put the pressure on Jair Bolsonaro before the U.N. General Assembly.',\n",
       " \"Even if the president persuades Congress to fund his proposal, it'll still be less per year than what the U.S. spends on a single aircraft carrier.\",\n",
       " 'When voters head to the polls next fall, Democrats hope they remember which party supported the benefits.',\n",
       " 'The city has been slow in getting assistance out the door as a key deadline approaches.',\n",
       " \"The Texas governor's growing unpopularity opens doors for challenges by Matthew McConaughey and ex-congressman Beto O'Rourke, Dallas Morning News reports.\",\n",
       " 'President Emmanuel Macron will speak with President Joe Biden after a major crisis erupted between France and the U.S. over a submarine deal with Australia.',\n",
       " '“I am a fighter, and I will always be a fighter inside and outside the ring,” said the 42-year-old boxing icon.',\n",
       " 'The Arizona State Senate and the company it hired are now at loggerheads over records the Cyber Ninjas company is not releasing after a court order.',\n",
       " 'When Trump was president, he came up with a color scheme for Air Force One that resembled his failed Trump Shuttle airline.',\n",
       " 'The Capitol police are taking no chances as they prepare for Saturday’s rally in support of rioters imprisoned after the Jan. 6 insurrection.',\n",
       " \"Occupancy drops in Trump's flagship Fifth Avenue building in Manhattan.\",\n",
       " '\"Requirements that lawyers be strong advocates are pillars of our democracy,\" a former Florida state Supreme Court justice wrote of attorney Daniel Uhlfelder.',\n",
       " 'Officials in Georgia have repeatedly informed the president that there was no widespread voter fraud in the state.',\n",
       " '“The court was thought to be the least dangerous branch and we may have become the most dangerous,” the Supreme Court Justice said. “And I think that’s problematic.”',\n",
       " 'The montage history of horrific GOP statements, seen hundreds of thousands of times on Twitter, shows Texas Gov. Greg Abbott has plenty of company.',\n",
       " \"The Fox News personality also issued a correction on his prime-time show's previous reporting on the rapper's unsubstantiated COVID-19 vaccine claim.\",\n",
       " '“Most of it was inaccurate. It was almost cartoonish-y,” Jones told \"Inside Edition.\"',\n",
       " 'Justices must be “hyper vigilant to make sure they’re not letting personal biases creep into their decisions\" she said Sunday.',\n",
       " 'Of the \"23 states that have new case totals per capita higher than the nation overall, 21 voted for Donald Trump,\" The Washington Post reports.',\n",
       " '\"I think you\\'re going to be very happy,\" Trump told officers after ditching all ceremonies marking the 20th anniversary of 9/11.',\n",
       " '\"That tells us everything we need to know about the current state of the Republican Party,\" Donald Trump\\'s niece told CNN.',\n",
       " 'The president called on \"particularly some Republican governors\" to stop being “so cavalier with the health of their communities.”',\n",
       " '“Maybe some of the flight attendants ought to show some respect to us, OK?” the Fox News host complained.',\n",
       " 'The 44-year-old, accused of keeping military-grade explosives in his Middletown apartment, is being held without bond.',\n",
       " '\"Don’t let the fascist victim complex hit you on the way out,\" Rep. Alexandria Ocasio-Cortez responded to the former Donald Trump adviser.',\n",
       " 'Donald Trump and company are dusting off their 2020 conspiracy theories as polls show the effort to recall Gov. Gavin Newsom is losing steam.',\n",
       " 'Frank Scavo said he traveled with about 200 people from Pennsylvania to D.C. for the Donald Trump rally on Jan. 6.',\n",
       " '“We live in an unbelievable world,” one Twitter user responded to the news.',\n",
       " 'Epik — which has worked with InfoWars, 8chan and Gab — is hosting the abortion \"whistleblower\" portal after it was booted by GoDaddy.',\n",
       " 'Former military sharpshooter Bryan Riley is accused of invading the home of apparent strangers and killing a woman, her 3-month-old baby and two others.',\n",
       " \"Legislation to shore up Supplementary Security Income hasn't received much attention, but it could have a big impact.\",\n",
       " \"Among the victims was an infant who was still in their dead mother's arms when police found them, according to Polk County authorities.\",\n",
       " '\"It\\'s a tremendous loss,\" said one education official of the death of a 30-year teacher.',\n",
       " 'The proposed action evokes \"Lysistrata,\" a play from ancient Athens in which the women of Greece denied men sex until they ended a war.',\n",
       " 'The former president is the \"least intellectually curious person I\\'ve ever met,\" Donald Trump\\'s niece said in a scathing new attack.',\n",
       " '\"If this decision doesn\\'t cry out for that, I don\\'t know what does,\" the Democratic senator said after the conservative Supreme Court allowed the law to go into effect.',\n",
       " 'The CEO of Dallas-based Match said she was “shocked that I now live in a state where women’s reproductive laws are more regressive than most of the world.”',\n",
       " 'Stop counting on elite institutions to do the right thing. Pass popular laws with a majority of votes and let the chips fall where they may.',\n",
       " 'Meanwhile, other top tenants are leaving or skipping out on rent, according to The Washington Post.',\n",
       " 'Remington, which made the gun used in the 2012 massacre, has received the disciplinary records, report cards and employment records of several victims.',\n",
       " 'Angela Gomez, 40, who also stole gift and ATM cards intended for people on her route, has been sentenced to three months in prison.',\n",
       " 'The mammoth storm sparked torrential rain, flash floods and tornadoes that pummeled the region.',\n",
       " 'Jackie Johnson is accused of using her position to shield the men who chased and killed Ahmaud Arbery from being charged with crimes immediately after the shootings.',\n",
       " 'The Texas law is \"flagrantly,\" \"patently\" and \"obviously\" unconstitutional, wrote Justices Elena Kagan and Sonia Sotomayor in their dissents.',\n",
       " 'The ban on abortions after six weeks is the strictest in the nation. Critics have called a direct assault on Roe v. Wade.',\n",
       " 'The Senate Republican leader addressed GOP outrage over the U.S. Afghanistan pullout.',\n",
       " \"The caller claimed he didn't work for Virginia GOP candidate Glenn Youngkin — but it appears he did.\",\n",
       " 'Jordan was one of 147 Republicans who voted against accepting the 2020 election results.',\n",
       " 'S.B. 8 offers private citizens a $10,000 bounty if they successfully sue anyone “aiding or abetting” abortion-seeking patients in Texas.',\n",
       " 'OpenSecrets tracked payments through federal records to actors who organized the protest that preceded the Capitol insurrection.',\n",
       " '\"The level of stupidity — and we had a great deal,\" Trump boasted in his usual mangled syntax.',\n",
       " 'Maj. Gen. Christopher Donahue was photographed boarding the last Air Force C-17 to leave Kabul.',\n",
       " 'Pennsylvania\\'s Steve Lynch told a crowd this weekend, “I\\'m going in with 20 strong men and I\\'m gonna give them an option — they can leave or they can be removed.\"',\n",
       " \"The strike hit a vehicle carrying “multiple suicide bombers” from Afghanistan's Islamic State affiliate, American officials said.\",\n",
       " '“Whether he was a hardcore conservative or not, he was an amazing man,\" his wife, Jessica Wallace, said of the 30-year-old father of three young girls.',\n",
       " 'After thousands of COVID-19 deaths, most prisons and jails are still too crowded for social distancing and staff aren’t required to get vaccinated.',\n",
       " 'Advocates and providers worry if S.B. 8 becomes law on Sept. 1, it will become a blueprint for other red states looking to end legal abortion.',\n",
       " 'Zach Everson has long tracked the lobbyists, Republicans and foreign government reps who have spent big at the hotel to wrangle favors from the former president.',\n",
       " 'Weeks before the 20th anniversary of 9/11, ex-President Donald Trump said the terrorist behind the 2001 attacks wasn\\'t as bad as the \"monsters\" he took out.',\n",
       " \"At least 50 cities and counties still haven't sent out a single penny, according to a HuffPost analysis of Treasury data.\",\n",
       " 'The state has reported 14,000 pediatric cases in the last seven days, a 57% increase from the previous week.',\n",
       " 'Trump was booed for suggesting the COVID-19 shot to his supporters over the weekend.',\n",
       " \"His resignation, which comes after a report concluded he had sexually harassed employees, made way for Kathy Hochul to become the state's first female governor.\",\n",
       " \"Some of the ex-president's supporters turned on him over one statement.\",\n",
       " '\"Require it,\" the president said of the COVID-19 vaccines, one of which now has full FDA approval.',\n",
       " 'Joe Biden is considering a call to the Civil Reserve Air Fleet to help evacuees waiting at U.S. bases.',\n",
       " 'As the FBI investigates claims that Colorado voting machine passwords were given to a presumed QAnon leader, the clerk is reportedly at a secret safe house.',\n",
       " \"A lawyer showed a photo of the governor with his hand near a woman's chest to prove he did not touch the woman's chest.\",\n",
       " 'Dan Patrick is under fire for racist — and untrue — comments he made to Fox News host Laura Ingraham Thursday night.',\n",
       " 'Pressley Stutts, a Republican leader in South Carolina, shared conspiracy theories from his ICU bed.',\n",
       " '\"We won’t gamble with the health of our children, our educators and school staff,\" Democratic Gov. Jay Inslee said.',\n",
       " 'Trump referred to the terrorist group as great \"warriors\" and even suggested they have a right to rule the country.',\n",
       " 'The Biden administration has headed off an across-the-board food benefit reduction like the one that took effect in 2013.',\n",
       " '\"He’s honestly the worst person in the world,\" author Robert Swartwood remarked.',\n",
       " \"Voters overall don't seem fazed by the cost, and it's not clear how much, if at all, even hostile Republican voters care about the price tag.\",\n",
       " \"The White House press secretary's relationship with the Fox News correspondent isn't always as contentious as it may seem.\",\n",
       " 'Buying, selling or using a counterfeit COVID-19 vaccination card that features an official government agency seal can result in a fine and up to five years in prison.',\n",
       " 'The compromised machines were decertified following a serious \"security breach.\"',\n",
       " 'Financial mismanagement and other mistakes plagued the progressive candidate’s campaign for Congress in Ohio.',\n",
       " 'The latest global climate report makes clear we need to suck carbon dioxide out of the atmosphere, and “planting trees” won’t be enough.',\n",
       " '\"That means if your child\\'s in a car wreck ... and needs an ICU bed ... we don\\'t have one,\" said Dallas County Judge Clay Jenkins.',\n",
       " 'Less than 24 hours after a Capitol rioter was identified by online sleuths as a Capitol Hill chiropractor, the family of the late Officer Jeff Smith filed a lawsuit.',\n",
       " \"Growing diversity and urban populations should benefit Democrats — but the Senate's rural bias is getting worse.\",\n",
       " \"The former president's question on so-called Reinstatement Day got the treatment on Twitter.\",\n",
       " 'The MyPillow guy ranted against taking a lunch break and invited the audience to vote for CNN or Fox News to prove his election-hacking conspiracy.',\n",
       " '\"If our hospitals run out of staffed beds, all Oregonians will be at risk,\" Gov. Kate Brown said Tuesday.',\n",
       " 'Arkansas had just eight intensive care beds left across the state on Monday amid a COVID-19 surge, Gov. Asa Hutchinson said.',\n",
       " \"They protested the BBC's COVID-19 coverage outside a building the British broadcaster left eight years ago.\",\n",
       " 'Conservatives have for weeks demanded an investigation into Carlson’s claim that a major U.S. spy agency targeted him, but he has provided no evidence.',\n",
       " 'The former first lady\\'s team said Michael Beschloss had \"proven his ignorance\" by sharing a photo of the White House Rose Garden looking a bit sterile.',\n",
       " 'Jeffrey Clark spun the plot to keep Donald Trump in the White House, according to emails obtained by the House Oversight Committee.',\n",
       " 'People are masking to \"avoid the Hawley variant spread by ignorant staffers,\" said a Twitter critic slamming Hawley\\'s press secretary Abigail Marone.',\n",
       " 'More than 50 Democrats last month bolted to the nation’s capital, but the precise whereabouts of each of them is unclear.',\n",
       " 'The \"Star Wars\" actor dinged Donald Trump over his \"Third Reich\" cards for supporters.',\n",
       " 'Scott Fairlamb, an MMA fighter who is the son of a New Jersey state trooper, entered a guilty plea Friday.',\n",
       " 'The education secretary said this will be the \"final extension.\"',\n",
       " 'Vaccines provide lasting protection against severe cases of COVID-19 but studies show  their effectiveness can diminish over time.',\n",
       " 'Salesforce.com later denounced the violent attack on the Capitol. But it\\'s once again helping Trump raise money as he ramps up his lies about a \"stolen\" election.',\n",
       " 'Carey’s win shows that former President Donald Trump still has an influential role in Republican primaries.',\n",
       " 'The Justice Department sued Texas Gov. Greg Abbott last week over an executive order aimed at restricting the ground transportation of migrants.',\n",
       " 'The study found lingering health effects on Muslim, refugee and immigrant communities residing in the U.S.',\n",
       " '“This is bad. And it’s not this bad anywhere else in the country today,” said Gov. John Bel Edwards.',\n",
       " 'The New York attorney general’s office found that the governor sexually harassed at least 11 women.',\n",
       " 'Sens. Chuck Schumer and Kirsten Gillibrand called on the governor to step down, and a few state lawmakers have already drafted articles of impeachment.',\n",
       " 'Trump spins \"destructive\" narratives to lost souls, says Rep. Jackie Speier.',\n",
       " 'Mayor Dan Gelber went after the GOP governor as his state tallies the highest daily number of cases of the entire pandemic.',\n",
       " 'Citizens for Responsibility and Ethics in Washington responds to revelations that Trump ordered the DOJ to call election results fraudulent.',\n",
       " 'The GOP congressman said he mistakenly put the unloaded handgun in his carry-on rather than his checked bag.',\n",
       " 'Dozens of environmental groups expect to spend tens of millions of dollars in August building support for climate legislation.',\n",
       " \"Moderates and progressives' differences on the size and scope of a spending package could easily blow up President Joe Biden’s legislative agenda.\",\n",
       " 'Only three days before its expiration, the White House had said it would not extend the moratorium and that Congress should do it.',\n",
       " '\"This is not the America we know,\" Minority Leader Kevin McCarthy said of having to wear a mask in the Capitol to help stem the spread of COVID-19.',\n",
       " \"The White House is punting the issue to Congress, where Democrats haven't been paying attention to the eviction moratorium lately.\",\n",
       " \"The Ohio Republican said he wasn't sure if he'd spoken to Trump before, during or after the insurrection at the U.S. Capitol.\",\n",
       " 'Texas Democrats who fled their state want Senate leaders to work through the August recess and speed up efforts to pass federal voting rights legislation.',\n",
       " 'Rep. Pramila Jayapal reintroduced the Domestic Workers Bill of Rights, which would ensure basic workplace standards for nannies and house cleaners.',\n",
       " 'Democratic Rep. Jared Huffman said he had to use a different elevator because an unmasked GOP colleague \"doesn\\'t give a sh*t about anyone but himself.\"',\n",
       " '\"You cannot watch this testimony and say that it’s not a big deal,\" the Fox News anchor said.',\n",
       " '\"Just because she loves drama doesn’t mean I have to attend the performance,” Sen. John Kennedy (R-La.) said of House Speaker Nancy Pelosi.',\n",
       " '“The bar for removing someone’s control over their own money and life should be very, very, very high,” the Democratic lawmaker and father of two said.',\n",
       " 'Visitors from Europe and other countries have been barred from entry to the U.S. for more than a year, a reality that press secretary Jen Psaki said will continue.',\n",
       " 'A small group of thinkers challenged 40 years of economic ideology on corporate concentration, created a bipartisan movement and won over the president.',\n",
       " 'The president said he was considering requiring COVID-19 vaccines for federal employees. At least one report said the mandate would be announced this week.',\n",
       " 'Gov. Kate Brown said fires were growing worse due to climate change. \"They\\'re hotter, they\\'re more fierce, and obviously much more challenging to tackle.\"',\n",
       " 'The state is struggling with lackluster vaccination rates, dropped health protocols and the delta variant uptick as people head indoors to escape the heat.',\n",
       " 'He posted photos and boasted about the insurrection on Bumble, according to the federal complaint against him.',\n",
       " 'Gov. Kay Ivey also called out right-wing media disinformation about the vaccine.',\n",
       " 'Greene has continued to rail against vaccinations, which threatens public health.',\n",
       " '“We need to come together as one nation,\" Dr. Rochelle Walenksy said, urging unvaccinated Americans to get their jabs.',\n",
       " '\"We are all, first and foremost, Team USA,\" the first lady said ahead of the Tokyo opening ceremony.',\n",
       " '\"We have a pandemic for those who haven\\'t gotten the vaccination,” the president said during a CNN town hall.',\n",
       " 'You come at Scabby, you best not miss.',\n",
       " \"It would be a big spending item in the budget, but that's because it could have a big effect on working parents and their children.\",\n",
       " '“It hurt that the State of West Virginia would try to block me from pursuing my dreams,\" Becky Pepper-Jackson, 11, said. \"I just want to play.”',\n",
       " 'Right-wing COVID-19 vaccine misinformation \"has inarguably cost lives,\" she said.',\n",
       " 'Saudi Arabia and the UAE are both accused of human rights abuses — but Biden seems to believe that should only matter for the Saudis.',\n",
       " 'The former president was hospitalized with COVID-19 anyway.',\n",
       " 'The MSNBC host spots how the network is quietly doing exactly what its hosts rail against.',\n",
       " 'The Working Families Party plans to spend at least $150,000 in the hotly contested Ohio congressional race.',\n",
       " 'Three of the five picks voted against certifying the 2020 election results.',\n",
       " 'Rep. Andy Biggs of Arizona seemed angry that \"enough fentanyl to kill 238 million Americans was seized at the southern border last month.\"',\n",
       " '“Combining layers of protection that include vaccinations, masking and clean hands hygiene will make in-person learning safe and possible for everyone.”',\n",
       " \"The House minority leader's long-awaited picks for the Capitol riot investigation will be reviewed by Majority Leader Nancy Pelosi, who can veto the choices.\",\n",
       " 'The global investigation by 17 media organizations found that leaked data suggests oppressive governments use the cyberweapon Pegasus to silence dissent.',\n",
       " 'The president took a victory lap for economic growth that was almost certain to happen in an economy that had nowhere to go but up.',\n",
       " \"Rep. Debbie Dingell learned first-hand the difficulty of finding home care for the elderly and those with disabilities. Now she's pushing a proposal to fix that.\",\n",
       " '“It’s very reasonable for counties to take more mitigation measures like the mask rules you see coming out in LA,\" Dr. Vivek Murthy said.',\n",
       " 'But there are some big “ifs.”',\n",
       " 'Senate Democrats last week introduced legislation that would decriminalize it at the federal level.',\n",
       " 'Trump believes he was a shoo-in for 2020 if not for COVID-19, he told authors of \"I Alone Can Fix It\"  — contradicting his claims of a rigged election.',\n",
       " 'Gov. Asa Hutchinson has hit the road, meeting face-to-face with residents to try to overcome vaccine hesitancy — in many cases, hostility — in Arkansas.',\n",
       " 'A group of centrist Democrats wants the party to confront the pharmaceutical industry. Their main opponents? Other centrist Democrats.',\n",
       " 'Ex-president, who never served in the military, rips chairman of the Joint Chiefs of Staff, the top military official in the nation, as a \"general who didn\\'t have a clue.\"',\n",
       " 'Senate Majority Leader Chuck Schumer pushed back against criticism of the online tool that some families must use to sign up for the new benefit.',\n",
       " 'The administration will end large-scale logging of old-growth trees in “America’s Amazon\" as part of its effort to fight global climate change.',\n",
       " 'Nathan Wayne Entrekin was talking to his mother during the Jan. 6 Capitol riot.',\n",
       " 'Corporate political giving has drawn a lot of attention since Jan. 6. How about contributions from labor groups?',\n",
       " 'But it could all implode at any second.',\n",
       " '“I can only speak for myself,” the top Republican in the Senate said when asked about other GOP senators fueling vaccine hesitancy.',\n",
       " 'Six months after the violent attack, the most influential figure in the GOP has fully embraced the Capitol rioters.',\n",
       " '\"They are cheering about someone saying that it\\'s a good thing for people not to try and save their lives.\"',\n",
       " 'Adam Kinzinger said that Republican leaders must call out “these absolute clown politicians playing on your vaccine fears for their own selfish gain.”',\n",
       " 'Texas Democrats steel for new fight against measures that could become some of the most restrictive voting laws in America.',\n",
       " \"Sen. Lisa Murkowski has been one of the Republican party's most outspoken critics of former President Donald Trump.\",\n",
       " 'The Republican National Committee’s tweet was branded “the dumbest f**king thing possible.\"',\n",
       " \"At least it doesn't look like a Nazi symbol this time.\",\n",
       " '“Way to insult the people you want on side,” one Twitter user responded to Donald Trump’s son. “Tough room,” joked another.',\n",
       " '“We are prepared for booster doses if and when the science demonstrates that they are needed,\" the federal agencies said.',\n",
       " 'The Secret Service paid more than $10,000 at his Bedminster resort in New Jersey for 18 days in May, reveals The Washington Post.',\n",
       " 'The new Biden administration policy could lead to the quick release of up to 13 women currently in Immigration and Customs Enforcement custody.',\n",
       " 'MeidasTouch finds old Trump comments that could come back to haunt him in court.',\n",
       " '“Just one more year ... is not a solution but a recipe for being there indefinitely,\" the president said of America\\'s longest-running war.',\n",
       " 'The former president said he’s seeking “potentially trillions of dollars” in damages.',\n",
       " \"The Air Force did not properly submit Devin Patrick Kelley's criminal history to an FBI database, allowing him to legally purchase firearms used in the 2017 attack.\",\n",
       " '\"People have a choice, they don\\'t need your medical brown shirts showing up at their door ordering vaccinations,\" the Republican congresswoman tweeted.',\n",
       " 'Rep. Mo Brooks, who spoke at the Trump rally before the attack, claims he did it only because the White House asked him to.',\n",
       " 'The \"Hillbilly Elegy\" author and Ohio Republican Senate candidate begged Fox News viewers \"not to judge\" him for early criticism of the former president.',\n",
       " \"The MSNBC host laughed out loud after playing a clip of the former president's defense against his company's indictment.\",\n",
       " 'Susan Del Percio said the \"wackiest wackies\" will win GOP primaries... but will ultimately cost the party seats in Congress.',\n",
       " 'The message — flying over the Florida fairgrounds where Trump was speechifying —was funded by the progressive PAC MeidasTouch.',\n",
       " '180,000 people were forced to evacuate in Cuba as officials warned of heavy rains and potential flooding.',\n",
       " '\"They\\'re not thinking right,\" Jim Justice said of the COVID-19 vaccine hesitancy in his state.',\n",
       " \"The U.S. missed Joe Biden's goal of vaccinating 70% of adults. Donald Trump's politicization of the pandemic is a big reason why.\",\n",
       " 'Reported complaints of sexual harassment are only the most recent issues in a cascade of serious problems with the Arizona \"fraudit.\"',\n",
       " '\"Plenty of words come to mind to describe ... actions by one of America’s two major political parties,\" the editorial reads. \"\\'Patriotic\\' is nowhere among them.”',\n",
       " 'The post backfired.',\n",
       " \"Federal unemployment benefits expire in September leaving millions in the lurch. Democrats don't really have a plan for what to do next.\",\n",
       " '\"Tell me you align with radicalized misinformation without telling me,\" one Twitter user ridiculed the conspiracy-endorsing Georgia Republican.',\n",
       " '“I think we need people in Washington who are fighters,\" the author and venture capitalist said in launching a GOP campaign for the open U.S. Senate seat.',\n",
       " 'At least 88,000 former Scouts have come forward with claims of abuse, which led the group to declare bankruptcy last year.',\n",
       " \"Even Donald Trump himself reportedly won't be joining GETTR.\",\n",
       " 'It is the largest penalty ever imposed by the Financial Industry Regulatory Authority.',\n",
       " 'The preliminary tally does not account for nearly 125,000 absentee ballots.',\n",
       " '“There’s a fundamental problem having partisan boards of elections,” said a New York elections attorney.',\n",
       " \"The New York City Commission on Human Rights' record penalty stemmed from a probe into “rampant abuse” at the conservative network.\",\n",
       " 'When Trump’s former national security adviser was told his proposed title had a sexual connotation, he reportedly told publishers their minds were \"in the gutter.\"',\n",
       " 'Despite the ruling, the CDC eviction ban is still scheduled to expire at the end of July.',\n",
       " \"Former attorney general gets caught trying to rewrite his own history when it comes to Trump's election lies.\",\n",
       " \"Sandra Weyer of Pennsylvania reportedly went to Washington, D.C., on Jan. 6 on a bus organized by GOP state Sen. Doug Mastriano's campaign.\",\n",
       " 'For now, a central question in Republican politics is whether Donald Trump, who continues to advance lies about his loss last year to Joe Biden, will run again.',\n",
       " '\"The Biden administration is spying on us,\" the Fox News host said. \"We have confirmed that.\"',\n",
       " 'Ayanna Pressley and Cori Bush want to give funds to state and local government to hire social workers and mental health counselors as emergency responders.',\n",
       " 'Forecasters said Monday could be even hotter in some parts of the country, prompting ongoing excessive heat warnings.',\n",
       " 'The U.S. secretary of state and Yair Lapid met in Rome as part of a push to create a lasting alliance between the two countries.',\n",
       " 'Gravel read into the Congressional Record 4,100 pages of the 7,000-page leaked document known as the Pentagon Papers.',\n",
       " '\"I thank heavens that we had a Democratic majority in the House that day,\" Rep. Alexandria Ocasio-Cortez said in a virtual town hall meeting.',\n",
       " '“We’re in trouble as a nation if ‘better than Trump is good enough’ becomes the standard for ethical behavior,” Walter Shaub wrote in op-ed.',\n",
       " 'GOP Gov. Mike DeWine, who recently slammed Trump over the U.S. Capitol insurrection, has a \"family commitment.\"',\n",
       " '\"I’m happy to say, my Mother is now proud of ALL of who I am,\" Karine Jean-Pierre wrote on Twitter.',\n",
       " '\"People do not like being taken for granted,\" said the leader of a union that endorsed Walton.',\n",
       " 'The League of Conservation Voters is going on its biggest off-year campaigning spree in history to push for serious climate infrastructure spending.',\n",
       " 'The biggest challenge for Democratic leaders will be selling the infrastructure agreement to skeptical progressives, who worry key priorities will be left behind.',\n",
       " 'Sen. Tammy Duckworth lambasted policies that allowed the U.S. to deport noncitizen veterans, and called on lawmakers to help bring them home.',\n",
       " 'Republicans in statehouses across the country have introduced more than 250 bills seeking to make it harder for people to vote.',\n",
       " 'The move will provide relief to tenants who have struggled to pay their rent during the coronavirus pandemic.',\n",
       " '“We will make sure you can’t sell death and mayhem on our streets,\" the president said in his administration\\'s most visible response yet to concerns about crime.',\n",
       " 'The payments are set to resume at the end of September unless the White House acts.',\n",
       " 'The vice president has faced relentless criticism from Republicans for not visiting the border in recent months.',\n",
       " 'As the first NYC-wide election to use ranked choice voting, results may not be fully counted until July.',\n",
       " '\"It was the suppression of a bill to end voter suppression,\" the president said.',\n",
       " 'Republicans in the Senate blocked a bipartisan bill last month that would have created an independent commission to investigate the Jan. 6 insurrection.',\n",
       " \"The pressure campaign to change the Senate's filibuster rules will really ramp up now.\",\n",
       " \"Residents earning up to 80% of their area’s median income would benefit from the plan that's reportedly being finalized\\xa0in the state Legislature.\",\n",
       " 'Finance Chair Ron Wyden sketches out his vision for reform, including key progressive priorities.',\n",
       " 'Democrats face a key question: Will they choose to protect the filibuster or voting rights?',\n",
       " '“We need to think about a different vaccine delivery strategy to get the people who are still reluctant or who still face challenges,\" Dr. Scott Gottlieb said Sunday.',\n",
       " 'Lawmakers pushed back against the police-reform movement in Arizona, Iowa, Oklahoma, Tennessee and Wyoming, according to an Associated Press review of legislation.',\n",
       " '\"We don\\'t want you here,\" said one bystander. That\\'s \"not how you heal a nation,\" complained the conservative senator.',\n",
       " 'Michael Osterholm doubted there would be future national surges in COVID-19 but said \"substantial\" local and regional ones were a possibility.',\n",
       " 'The former vice president vowed not to be “silent in the face of Cancel Culture,” and you know what happened next.',\n",
       " \"Florida won a preliminary injunction against the health agency's COVID-19 safety and vaccination requirements for ships to set sail.\",\n",
       " 'Furious Twitter users blasted CNN for \"normalizing\" violence by presenting Babbitt as both a \"terrorist\" and a \"martyr\" during the Capitol siege.',\n",
       " 'Previously, the state had some of the highest prison phone rates in the country, charging up to $5 for a 15-minute call.',\n",
       " 'Arizona Rep. Ruben Gallego said many GOP lawmakers now \"treating Capitol Police like s**t\" were frightened during the insurrection.',\n",
       " 'The \"teaching document\" is aimed at Catholic politicians who receive Communion while maintaining a pro-abortion rights stance.',\n",
       " '\"We’re heading into a very different summer from last year,\" the president said. \"A bright summer.\"',\n",
       " 'On Thursday, the Supreme Court ruled unanimously to allow a Philadelphia-based foster care agency to reject LGBTQ parents on the basis of religious freedom.',\n",
       " 'Dr. Anthony Fauci said such pills could be \"powerful tools for battling the pandemic and saving lives.\"',\n",
       " 'President Joe Biden will be signing the law Thursday to officially make Juneteenth a federal holiday.',\n",
       " '\"All students — including LGBTQ+ students — deserve the opportunity to learn and thrive in schools that are free from discrimination,\" the education secretary said.',\n",
       " '“If you are learning about the Holocaust at almost 50 years of age, you’ve got a real problem,\" said Ana Navarro.',\n",
       " 'The Senate -- which initially refused to pass such a measure -- is expected to approve a similar bill. The Gold Medal is the highest congressional honor.',\n",
       " 'The day off for federal workers honors the end of slavery in the United States.',\n",
       " 'There\\'s no contest between the \"contending nightmares\" being put forward by Republicans and Democrats, argued Michael Gerson.',\n",
       " 'Even as the U.S. is set to exceed 600,000\\xa0deaths from the virus, the White House is anticipating that July Fourth will serve as a breakthrough moment.',\n",
       " '“Domestic terrorism — driven by hate, bigotry, and other forms of extremism — is a stain on the soul of America,” President Joe Biden said.',\n",
       " '“Congress must make it extraordinarily difficult, if not impossible, for the Department to spy on the Congress or the news media,” said Rep. Jerrold Nadler.',\n",
       " 'It’s not clear yet why the Trump administration sought the McGahns’ records.',\n",
       " 'Adherents of the bizarre conspiracy theory may target Democrats and other political opponents for more violence as the movement’s false prophecies don’t come true.',\n",
       " 'The former government contractor was sentenced to five years for leaking information about Russian interference in the 2016 presidential election.',\n",
       " 'The Biden administration looks set to undo former President Donald Trump’s attacks on Bears Ears and Grand Staircase-Escalante.',\n",
       " 'The House speaker insisted that former Attorneys General Jeff Sessions and William Barr testify before Congress about the subpoenas and gag orders.',\n",
       " \"Glenn Kirschner warned what may happen if the former president isn't held accountable.\",\n",
       " 'The picture of socially distanced world leaders standing on a beach in England has gone viral.',\n",
       " 'Trump created the Victim Of Immigration Crime Engagement Office by executive order during his first week in office.',\n",
       " \"The Wisconsin Republican's one-week ban from uploading videos stems from his comments to the Milwaukee Press Club event, which were posted on the platform.\",\n",
       " '“It is beyond Nixon,\" the former White House counsel said of the Trump Justice Department collecting private information about members of Congress.',\n",
       " 'GOP lawmakers from Pennsylvania, Michigan and Georgia want to conduct unnecessary, conspiratorial audits of the 2020 election in their home states.',\n",
       " 'The former attorneys general are subject to a subpoena if they refuse.',\n",
       " 'Four Republican-led states are dropping federal unemployment benefits after Saturday.',\n",
       " 'Donald Trump \"is not the future\" of the GOP, Virginia Republican Barbara Comstock wrote in a damning opinion essay for The New York Times.',\n",
       " 'The administration will conduct its own review of potential security risks posed by apps tied to China.',\n",
       " 'In an ad, Lucas Kunce called out Republican Mark McCloskey, who notoriously pointed a gun at racial justice protesters walking by his mansion last year.',\n",
       " 'The review uncovered broad government, military and law enforcement missteps before the violent attack.',\n",
       " 'The Evergreen State is allowing cannabis retailers to offer a free joint to people getting their coronavirus shot in an effort to increase vaccinations.',\n",
       " 'Sen. Susan Collins said government officials should be treated the \"same way we would treat a soldier who suffered a traumatic injury on the battlefield.”',\n",
       " 'Republicans successfully used the filibuster to block House-approved legislation to create an independent commission on the Capitol riot last month.',\n",
       " \"The party's progressive wing is growing increasingly restless as campaign promises go undone.\",\n",
       " 'The documentarian reiterated his grief that society has destroyed large swaths of the natural world, but said humanity is “not beyond redemption.”',\n",
       " 'Two members of a U.S. Marshals task force fatally shot Winston Boogie Smith Jr. while he was inside a parked vehicle, authorities said.',\n",
       " \"The West Virginia senator's unwillingness to back legislation without Republican support could jeopardize Democrats' ability to pass key bills.\",\n",
       " 'Former Arizona Attorney General Grant Woods prominently backed Sinema, but he says she now needs to support getting rid of the filibuster.',\n",
       " 'The vice president will work with corporations and civil rights groups to battle GOP efforts to restrict voting.',\n",
       " 'The Texas Republican\\'s own \"run away\" moment came back to haunt him.',\n",
       " '“I refuse to give up this platform to promote complacency and peace, when there is a war on my body and a war on my rights,” Paxton Smith said.',\n",
       " '\"I hope I am being overly alarmist. I really do,\" Max Boot wrote in The Washington Post.',\n",
       " 'Biden had vowed during the campaign to “reverse the Trump administration’s assaults on America’s natural treasures,\" including the Alaska refuge.',\n",
       " 'The GOP lawmaker did not wow critics with her insights.',\n",
       " 'The bill would crack down on absentee voting, drive-through voting and more — and Texas Republicans could still pass it.',\n",
       " 'The Fox News political analyst blasted the GOP in a Memorial Day essay to remember.',\n",
       " 'And Trump Organization Chief Financial Officer Allen Weisselberg will \"flip\" on Trump to save his sons, spilled Jennifer Weisselberg.',\n",
       " '“All of us are here as representatives of a democracy that folks on the other side have decided they’re not willing to defend,\" said Georgia\\'s first Black senator.',\n",
       " \"Manhattan District Attorney Cy Vance Jr. may be looking at Donald Trump's business as a possible criminal enterprise.\",\n",
       " 'CNN commentator S.E. Cupp slammed the \"gibberish\" and \"nonsense\" coming from elected Republicans.',\n",
       " 'The powerful Democrat urged a presidential investigation into the Capitol riot in lieu of the congressional one blocked by Senate Republicans.',\n",
       " \"MeidasTouch's #GOPBetrayedAmerica spot calls out Republican opposition to a commission to investigate the Jan. 6 insurrection.\",\n",
       " 'Pay packages rose yet again last year for the CEOs of the biggest companies, even though the pandemic sent the economy to its worst quarter on record.',\n",
       " 'Senators are “supposed to uphold the Constitution, and right now I don’t think they’re doing it,\" said the fallen officer\\'s mother.',\n",
       " \"The 'QAnon congresswoman' pulled another outrageous stunt.\",\n",
       " 'The backlash to Bill de Blasio and a sex scandal are thwarting progressive momentum.',\n",
       " 'The Georgia-based groups state in an amended complaint that the law violates the Americans with Disabilities Act by discriminating against disabled voters.',\n",
       " \"Guards Tova Noel and Michael Thomas, who are accused of sleeping on the job on the night of Epstein's death, admitted falsifying records in the deal.\",\n",
       " 'Witnesses said Virginia Brown yelled \"no vaccine\" while almost hitting seven people with her SUV.',\n",
       " 'In multiple tweets, Adam Weibling defended the Capitol riot and described its participants as \"patriots\" and \"brave.\"',\n",
       " 'Is an adversary using a microwave or radio wave weapon to attack the brains of U.S. diplomats, spies and military personnel?',\n",
       " 'The only way followers can react to Trump on his blog is to click on a heart.',\n",
       " \"After working for years in the Trump Organization, she apparently couldn't recall Allen Weisselberg has been the company's chief financial officer for decades.\",\n",
       " 'A bipartisan group of lawmakers is still working on a version of a policing overhaul bill that could pass the Senate.',\n",
       " 'Even after Israel agreed to a cease-fire, Palestinians in the United States worry about the long-term impact on their families.',\n",
       " 'Peter Wehner pointed out where \"things really get dangerous\" with Republican repetition of the ex-president\\'s election lies.',\n",
       " 'News follows a plea deal by Joel Greenberg, a friend of the Republican lawmaker, in exchange for testimony against \"other men\" involved in a sex ring.',\n",
       " 'The former GOP senator lost his contract with the network after claiming there was \"nothing\" in America before white colonizers arrived.',\n",
       " '\"a vaccine but instead of fighting off disease it attracts dogs\"',\n",
       " 'It\\'s \"simply wrong,\" Biden says of the actions the Trump administration took.',\n",
       " 'The Biden administration shrunk its proposal from the initial $2.3 trillion plan put forward by President Joe Biden.',\n",
       " 'Progressive Democrats have been calling for a firmer stance against Israel’s treatment of Palestinians after more than 240 were killed by Israeli airstrikes.',\n",
       " '\"They could say whatever they wanted so long as there was no imminent threat of harm,\" Evy Poumpouras said of the racism leveled at the former first lady.',\n",
       " 'Trump\\'s former attorney said they could all be getting \"some orange jumpsuits\" soon.',\n",
       " 'Thomas Lane, J. Kueng and Tou Thao are scheduled to face\\xa0trial next March\\xa0on charges of aiding and abetting second-degree murder and manslaughter.',\n",
       " 'Ed Gainey won the democratic primary and is all but assured a victory in the general election in November.',\n",
       " 'The vice president spoke of the rise in anti-Asian racism, saying: “As a member of this community, I share in that outrage and grief.”',\n",
       " 'President Joe Biden asked Israeli Prime Minister Benjamin Netanyahu to move toward “the path to a cease-fire,” according to the White House.',\n",
       " 'The Fox News host told her crooked conspiracy theory with a straight face.',\n",
       " 'The attorney and his wife pointed guns last year at racial justice protesters in St. Louis, leading the pair to be lambasted by the left and vaunted by the right.',\n",
       " 'Committee chairs said they were \"disappointed\" the operator of the nation\\'s largest gas pipeline refused to give details about its ransomware attack.',\n",
       " 'While Joe Biden “expressed support” for a cease-fire, progressive Democrats are demanding a more forceful stance as Israeli forces killed over 200 Palestinians.',\n",
       " 'The House passed legislation that aims to address the nationwide uptick in violence toward Asian Americans and Pacific Islanders.',\n",
       " 'Liberal groups want the president to ignore corporate-friendly voices and build on his decision to waive intellectual property protections for the COVID-19 vaccine.',\n",
       " 'President Joe Biden has come under criticism from progressives for keeping asylum off-limits to many.',\n",
       " 'The governor is under investigation to determine if he used state resources to write or promote the memoir.',\n",
       " 'People with disabilities reported improved voting experiences in 2020. But a wave of new restrictions could reverse hard-won progress.',\n",
       " \"The state's electric chair is 109 years old.\",\n",
       " 'As 29 senators call for an immediate halt to violence in Israel and Gaza on Sunday, the president has yet to do the same — despite the Palestinian civilian death toll climbing.',\n",
       " 'A majority of Democrats in the Senate recently urged the president to call for a cease-fire between Israel and Hamas.',\n",
       " 'The Brooklyn Center City Council passed a progressive resolution that will serve as a road map for the city and other areas to overhaul its public safety system.',\n",
       " 'A dissenting voice of the right-wing network warned Republicans of their \"losing bet\" on the disgraced former president.',\n",
       " 'The \"patron saint of Purell\" explains it all.',\n",
       " 'He was a \"super fan\" of \"Saturday Night Live,\" even as a \"little kid,\" Key told the audience.',\n",
       " 'And a county election official ripped Donald Trump as “unhinged” for parroting false complaints about the ballots.',\n",
       " 'Most extremist killings in 2019 were committed by white supremacists.',\n",
       " '\"Everybody calm down,\" the \"CNN Tonight\" anchor said in a video clarifying his on-air comments.',\n",
       " 'Maybe the House minority leader could use a few more zzzzzs to clear his head.',\n",
       " 'The temporary shutdown of the pipeline led to a hike in gas prices and prompted panicked consumers to buy fuel.',\n",
       " '“The myth of shared values is coming to an end,” a Palestinian American activist said.',\n",
       " 'The AG said it was “past time” for the community to “get some answers” on the shooting death of the 22-year-old Latino man by Vallejo police last year.',\n",
       " ...]"
      ]
     },
     "execution_count": 58,
     "metadata": {},
     "output_type": "execute_result"
    }
   ],
   "source": [
    "\n",
    "list(texts)"
   ]
  },
  {
   "cell_type": "code",
   "execution_count": 55,
   "id": "8a7eabb9",
   "metadata": {},
   "outputs": [],
   "source": [
    "def to_lower(array):\n",
    "    texts_lower = [s.lower() for s in array]\n",
    "    return texts_lower\n",
    "\n",
    "def remove_mentions(array):\n",
    "    texts_lower = [re.sub(r'@\\S+','',s) for s in array]\n",
    "    return texts_lower\n",
    "    \n",
    "# Preluat din LAB 2 optional NLP anul 3\n",
    "def remove_links(texts): \n",
    "    text_no_links = [re.sub(r'http\\S+', '', text) for text in texts]\n",
    "    return [re.sub(r'www\\S+', '', text) for text in text_no_links]\n",
    "\n",
    "def remove_emojis(texts):\n",
    "    texts_no_emoji = []\n",
    "    for text in texts:\n",
    "        emojis = emoji.emoji_list(text)\n",
    "\n",
    "        text_no_emoji = text\n",
    "        for emoji_dict in emojis:\n",
    "            emoji_str = emoji_dict.get(\"emoji\")\n",
    "            text_no_emoji = re.sub(emoji_str, ' ', text_no_emoji)\n",
    "\n",
    "        texts_no_emoji.append(text_no_emoji)\n",
    "    return texts_no_emoji\n",
    "        \n",
    "def remove_punctuation(arr):\n",
    "    texts_no_punct = [re.sub(r'[^\\w\\s]', ' ', text) for text in arr]\n",
    "    return texts_no_punct\n",
    "\n",
    "\n",
    "def remove_chinese_words(arr):\n",
    "\n",
    "    chinese_pattern = re.compile(r'[\\u4e00-\\u9fff]+')\n",
    "    new_arr = []\n",
    "    for string in arr:\n",
    "        new_string = chinese_pattern.sub('', string)\n",
    "        new_arr.append(new_string)\n",
    "    return new_arr\n",
    "\n",
    "def remove_spaces(texts):\n",
    "    texts_no_spaces = [re.sub(r'\\s+', ' ', text).strip() for text in texts]\n",
    "    return texts_no_spaces\n",
    "\n",
    "\n",
    "def remove_numbers(texts):\n",
    "    texts_no_numbers = [re.sub(r'\\d', ' ', text).strip() for text in texts]\n",
    "    return texts_no_numbers\n",
    "\n",
    "\n",
    "\n",
    "def normalize_text(texts):\n",
    "    texts = to_lower(texts)\n",
    "    texts = remove_mentions(texts)\n",
    "    texts = remove_emojis(texts)\n",
    "    texts = remove_links(texts)\n",
    "    texts = remove_punctuation(texts)\n",
    "    texts = remove_numbers(texts)\n",
    "    texts = remove_chinese_words(texts)\n",
    "    texts = remove_spaces(texts)\n",
    "    \n",
    "    return texts\n",
    "\n",
    "def dummy_tokenize(texts):\n",
    "    return [[word for word in sentence.split()] for sentence in normalize_text(texts)]"
   ]
  },
  {
   "cell_type": "markdown",
   "id": "sDn4G-iaW38F",
   "metadata": {
    "id": "sDn4G-iaW38F"
   },
   "source": [
    "2. Încercați mai multe metode de preprocesare și tokenizare a textelor pentru a obține reprezentări de tip Bag-of-Words (ștergeti/nu ștergeti stop words, lematizați sau aplicați stemming, păstrați sau eliminați punctuația, normalizați folosind standardizare, L1, L2 sau Tf-Idf). Implementați **3** astfel de combinații."
   ]
  },
  {
   "cell_type": "code",
   "execution_count": 59,
   "id": "jVPZNlLcW4nP",
   "metadata": {
    "id": "jVPZNlLcW4nP"
   },
   "outputs": [
    {
     "ename": "TypeError",
     "evalue": "unhashable type: 'list'",
     "output_type": "error",
     "traceback": [
      "\u001b[1;31m---------------------------------------------------------------------------\u001b[0m",
      "\u001b[1;31mTypeError\u001b[0m                                 Traceback (most recent call last)",
      "\u001b[1;32m~\\AppData\\Local\\Temp\\ipykernel_14112\\3863232408.py\u001b[0m in \u001b[0;36m<module>\u001b[1;34m\u001b[0m\n\u001b[0;32m     17\u001b[0m )\n\u001b[0;32m     18\u001b[0m \u001b[1;33m\u001b[0m\u001b[0m\n\u001b[1;32m---> 19\u001b[1;33m \u001b[0mcv\u001b[0m\u001b[1;33m.\u001b[0m\u001b[0mfit\u001b[0m\u001b[1;33m(\u001b[0m\u001b[0mlist\u001b[0m\u001b[1;33m(\u001b[0m\u001b[0mtexts\u001b[0m\u001b[1;33m)\u001b[0m\u001b[1;33m)\u001b[0m\u001b[1;33m\u001b[0m\u001b[1;33m\u001b[0m\u001b[0m\n\u001b[0m\u001b[0;32m     20\u001b[0m \u001b[0mthird_pre\u001b[0m \u001b[1;33m=\u001b[0m \u001b[0mlist\u001b[0m\u001b[1;33m(\u001b[0m\u001b[0mcv\u001b[0m\u001b[1;33m.\u001b[0m\u001b[0mvocabulary_\u001b[0m\u001b[1;33m.\u001b[0m\u001b[0mkeys\u001b[0m\u001b[1;33m(\u001b[0m\u001b[1;33m)\u001b[0m\u001b[1;33m)\u001b[0m\u001b[1;33m\u001b[0m\u001b[1;33m\u001b[0m\u001b[0m\n\u001b[0;32m     21\u001b[0m \u001b[0mprint\u001b[0m\u001b[1;33m(\u001b[0m\u001b[0msorted\u001b[0m\u001b[1;33m(\u001b[0m\u001b[0mlist\u001b[0m\u001b[1;33m(\u001b[0m\u001b[0mcv\u001b[0m\u001b[1;33m.\u001b[0m\u001b[0mvocabulary_\u001b[0m\u001b[1;33m.\u001b[0m\u001b[0mkeys\u001b[0m\u001b[1;33m(\u001b[0m\u001b[1;33m)\u001b[0m\u001b[1;33m)\u001b[0m\u001b[1;33m)\u001b[0m\u001b[1;33m)\u001b[0m\u001b[1;33m\u001b[0m\u001b[1;33m\u001b[0m\u001b[0m\n",
      "\u001b[1;32m~\\anaconda3\\lib\\site-packages\\sklearn\\feature_extraction\\text.py\u001b[0m in \u001b[0;36mfit\u001b[1;34m(self, raw_documents, y)\u001b[0m\n\u001b[0;32m   2051\u001b[0m         \u001b[0mself\u001b[0m\u001b[1;33m.\u001b[0m\u001b[0m_check_params\u001b[0m\u001b[1;33m(\u001b[0m\u001b[1;33m)\u001b[0m\u001b[1;33m\u001b[0m\u001b[1;33m\u001b[0m\u001b[0m\n\u001b[0;32m   2052\u001b[0m         \u001b[0mself\u001b[0m\u001b[1;33m.\u001b[0m\u001b[0m_warn_for_unused_params\u001b[0m\u001b[1;33m(\u001b[0m\u001b[1;33m)\u001b[0m\u001b[1;33m\u001b[0m\u001b[1;33m\u001b[0m\u001b[0m\n\u001b[1;32m-> 2053\u001b[1;33m         \u001b[0mX\u001b[0m \u001b[1;33m=\u001b[0m \u001b[0msuper\u001b[0m\u001b[1;33m(\u001b[0m\u001b[1;33m)\u001b[0m\u001b[1;33m.\u001b[0m\u001b[0mfit_transform\u001b[0m\u001b[1;33m(\u001b[0m\u001b[0mraw_documents\u001b[0m\u001b[1;33m)\u001b[0m\u001b[1;33m\u001b[0m\u001b[1;33m\u001b[0m\u001b[0m\n\u001b[0m\u001b[0;32m   2054\u001b[0m         \u001b[0mself\u001b[0m\u001b[1;33m.\u001b[0m\u001b[0m_tfidf\u001b[0m\u001b[1;33m.\u001b[0m\u001b[0mfit\u001b[0m\u001b[1;33m(\u001b[0m\u001b[0mX\u001b[0m\u001b[1;33m)\u001b[0m\u001b[1;33m\u001b[0m\u001b[1;33m\u001b[0m\u001b[0m\n\u001b[0;32m   2055\u001b[0m         \u001b[1;32mreturn\u001b[0m \u001b[0mself\u001b[0m\u001b[1;33m\u001b[0m\u001b[1;33m\u001b[0m\u001b[0m\n",
      "\u001b[1;32m~\\anaconda3\\lib\\site-packages\\sklearn\\feature_extraction\\text.py\u001b[0m in \u001b[0;36mfit_transform\u001b[1;34m(self, raw_documents, y)\u001b[0m\n\u001b[0;32m   1328\u001b[0m                     \u001b[1;32mbreak\u001b[0m\u001b[1;33m\u001b[0m\u001b[1;33m\u001b[0m\u001b[0m\n\u001b[0;32m   1329\u001b[0m \u001b[1;33m\u001b[0m\u001b[0m\n\u001b[1;32m-> 1330\u001b[1;33m         \u001b[0mvocabulary\u001b[0m\u001b[1;33m,\u001b[0m \u001b[0mX\u001b[0m \u001b[1;33m=\u001b[0m \u001b[0mself\u001b[0m\u001b[1;33m.\u001b[0m\u001b[0m_count_vocab\u001b[0m\u001b[1;33m(\u001b[0m\u001b[0mraw_documents\u001b[0m\u001b[1;33m,\u001b[0m \u001b[0mself\u001b[0m\u001b[1;33m.\u001b[0m\u001b[0mfixed_vocabulary_\u001b[0m\u001b[1;33m)\u001b[0m\u001b[1;33m\u001b[0m\u001b[1;33m\u001b[0m\u001b[0m\n\u001b[0m\u001b[0;32m   1331\u001b[0m \u001b[1;33m\u001b[0m\u001b[0m\n\u001b[0;32m   1332\u001b[0m         \u001b[1;32mif\u001b[0m \u001b[0mself\u001b[0m\u001b[1;33m.\u001b[0m\u001b[0mbinary\u001b[0m\u001b[1;33m:\u001b[0m\u001b[1;33m\u001b[0m\u001b[1;33m\u001b[0m\u001b[0m\n",
      "\u001b[1;32m~\\anaconda3\\lib\\site-packages\\sklearn\\feature_extraction\\text.py\u001b[0m in \u001b[0;36m_count_vocab\u001b[1;34m(self, raw_documents, fixed_vocab)\u001b[0m\n\u001b[0;32m   1201\u001b[0m             \u001b[1;32mfor\u001b[0m \u001b[0mfeature\u001b[0m \u001b[1;32min\u001b[0m \u001b[0manalyze\u001b[0m\u001b[1;33m(\u001b[0m\u001b[0mdoc\u001b[0m\u001b[1;33m)\u001b[0m\u001b[1;33m:\u001b[0m\u001b[1;33m\u001b[0m\u001b[1;33m\u001b[0m\u001b[0m\n\u001b[0;32m   1202\u001b[0m                 \u001b[1;32mtry\u001b[0m\u001b[1;33m:\u001b[0m\u001b[1;33m\u001b[0m\u001b[1;33m\u001b[0m\u001b[0m\n\u001b[1;32m-> 1203\u001b[1;33m                     \u001b[0mfeature_idx\u001b[0m \u001b[1;33m=\u001b[0m \u001b[0mvocabulary\u001b[0m\u001b[1;33m[\u001b[0m\u001b[0mfeature\u001b[0m\u001b[1;33m]\u001b[0m\u001b[1;33m\u001b[0m\u001b[1;33m\u001b[0m\u001b[0m\n\u001b[0m\u001b[0;32m   1204\u001b[0m                     \u001b[1;32mif\u001b[0m \u001b[0mfeature_idx\u001b[0m \u001b[1;32mnot\u001b[0m \u001b[1;32min\u001b[0m \u001b[0mfeature_counter\u001b[0m\u001b[1;33m:\u001b[0m\u001b[1;33m\u001b[0m\u001b[1;33m\u001b[0m\u001b[0m\n\u001b[0;32m   1205\u001b[0m                         \u001b[0mfeature_counter\u001b[0m\u001b[1;33m[\u001b[0m\u001b[0mfeature_idx\u001b[0m\u001b[1;33m]\u001b[0m \u001b[1;33m=\u001b[0m \u001b[1;36m1\u001b[0m\u001b[1;33m\u001b[0m\u001b[1;33m\u001b[0m\u001b[0m\n",
      "\u001b[1;31mTypeError\u001b[0m: unhashable type: 'list'"
     ]
    }
   ],
   "source": [
    "\n",
    "#eliminat punctuatie, to lower,  etc..\n",
    "first_pre = [[word for word in sentence.split()] for sentence in normalize_text(texts)]\n",
    "\n",
    "nlp = spacy.load(\"ro_core_news_sm\")\n",
    "stop_words = nlp.Defaults.stop_words\n",
    "#print(stop_words)\n",
    "\n",
    "second_pre = [[word for word in sentence.split() if word not in stop_words] for sentence in  normalize_text(texts)]\n",
    "\n",
    "\n",
    "\n",
    "cv = TfidfVectorizer(\n",
    "    preprocessor=normalize_text, \n",
    "    tokenizer=dummy_tokenize,       \n",
    "    token_pattern=None,             \n",
    "    max_features=100,\n",
    ")\n",
    "\n",
    "cv.fit(texts)\n",
    "third_pre = list(cv.vocabulary_.keys())\n",
    "print(sorted(list(cv.vocabulary_.keys())))"
   ]
  },
  {
   "cell_type": "code",
   "execution_count": null,
   "id": "fda0f77e",
   "metadata": {},
   "outputs": [],
   "source": []
  },
  {
   "cell_type": "markdown",
   "id": "xZIXzMK_W0zP",
   "metadata": {
    "id": "xZIXzMK_W0zP"
   },
   "source": [
    "3. Împărțiți setul de date în 80% train, 20% test, iar pentru fiecare metodă de preprocesare antrenați un model ales de voi (diferit de Decision Tree) pe datele de train."
   ]
  },
  {
   "cell_type": "code",
   "execution_count": null,
   "id": "VLwi1Rr4W1Xg",
   "metadata": {
    "id": "VLwi1Rr4W1Xg"
   },
   "outputs": [],
   "source": []
  },
  {
   "cell_type": "markdown",
   "id": "5-2QXJUMWyJt",
   "metadata": {
    "id": "5-2QXJUMWyJt"
   },
   "source": [
    "4. Evaluati modelul pe datele de test, determinând acuratețe, precizie, recall, f1, și stabiliți care metodă de procesare a textelor a adus rezultate mai bune."
   ]
  },
  {
   "cell_type": "code",
   "execution_count": null,
   "id": "9qTDw5b3WyrJ",
   "metadata": {
    "id": "9qTDw5b3WyrJ"
   },
   "outputs": [],
   "source": []
  },
  {
   "cell_type": "markdown",
   "id": "dvfETKaqWv02",
   "metadata": {
    "id": "dvfETKaqWv02"
   },
   "source": [
    "5. Determinați pentru acest caz care au fost top 10 cele mai importante feature-uri (cuvinte)."
   ]
  },
  {
   "cell_type": "code",
   "execution_count": null,
   "id": "4hmc_IrNWwSe",
   "metadata": {
    "id": "4hmc_IrNWwSe"
   },
   "outputs": [],
   "source": []
  },
  {
   "cell_type": "markdown",
   "id": "rdcLh8uwWpPw",
   "metadata": {
    "id": "rdcLh8uwWpPw"
   },
   "source": [
    "6. Folosind această metodă de procesare a textelor, antrenați alte doua modele diferite la alegere și comparati performanța cu modelul original."
   ]
  },
  {
   "cell_type": "code",
   "execution_count": null,
   "id": "sJ_09zVRWh80",
   "metadata": {
    "id": "sJ_09zVRWh80"
   },
   "outputs": [],
   "source": []
  },
  {
   "cell_type": "markdown",
   "id": "rTfkT6zRWi7a",
   "metadata": {
    "id": "rTfkT6zRWi7a"
   },
   "source": [
    "7. Pentru cel mai bun model afisați metricile la nivel de clasă (classification report) și matricea de confuzie."
   ]
  },
  {
   "cell_type": "code",
   "execution_count": null,
   "id": "OINLJAuSWhln",
   "metadata": {
    "id": "OINLJAuSWhln"
   },
   "outputs": [],
   "source": []
  }
 ],
 "metadata": {
  "colab": {
   "provenance": []
  },
  "kernelspec": {
   "display_name": "Python 3 (ipykernel)",
   "language": "python",
   "name": "python3"
  },
  "language_info": {
   "codemirror_mode": {
    "name": "ipython",
    "version": 3
   },
   "file_extension": ".py",
   "mimetype": "text/x-python",
   "name": "python",
   "nbconvert_exporter": "python",
   "pygments_lexer": "ipython3",
   "version": "3.9.13"
  }
 },
 "nbformat": 4,
 "nbformat_minor": 5
}
