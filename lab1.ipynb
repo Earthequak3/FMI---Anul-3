{
 "cells": [
  {
   "cell_type": "markdown",
   "metadata": {
    "id": "kYN6xXrf0jdy"
   },
   "source": [
    "# Lab 1. Tehnici de bază în prelucrarea textelor"
   ]
  },
  {
   "cell_type": "markdown",
   "metadata": {
    "id": "jl-E8ey90y3-"
   },
   "source": [
    "## Regex"
   ]
  },
  {
   "cell_type": "markdown",
   "metadata": {
    "id": "ibjQLLG9yCZS"
   },
   "source": [
    "Expresiile regulate reprezintă un șir de caractere care definesc un șablon⁠ de căutare.\n",
    "\n",
    "Ele sunt utile pentru căutarea anumitor șabloane în text și de asemenea, pentru normalizarea textelor - https://www.w3schools.com/python/python_regex.asp\n"
   ]
  },
  {
   "cell_type": "code",
   "execution_count": null,
   "metadata": {
    "id": "gFqSzXcNyPU7"
   },
   "outputs": [],
   "source": [
    "import re\n",
    "\n",
    "text = \"\"\"\n",
    "Praise for The Rain in Portugal\n",
    " \n",
    "“Nothing in Billy Collins’s twelfth book . . . is exactly what readers might expect, and that’s the charm of this collection.”—The Washington Post\n",
    " \n",
    "“This new collection shows [Collins] at his finest. . . . Certain to please his large readership and a good place for readers new to Collins to begin.”—Library Journal. \n",
    " \n",
    "“Disarmingly playful and wistfully candid.”—Booklist\n",
    "Buy new:$38.65\n",
    "No Import Fees Deposit & $13.01 Shipping to Romania Details -12.3.\n",
    "\"\"\""
   ]
  },
  {
   "cell_type": "markdown",
   "metadata": {
    "id": "PLNJrErsyXNN"
   },
   "source": [
    "Exemplu de utilizare: utilizând metoda `re.sub` ștergem toate caracterele diferite de literele mari și mici ale alfabetului englez, apoi normalizăm toate secvențele de caractere de tip spațiu consecutive la un singur spațiu."
   ]
  },
  {
   "cell_type": "code",
   "execution_count": null,
   "metadata": {
    "colab": {
     "base_uri": "https://localhost:8080/"
    },
    "id": "YP7lMkYPyW0H",
    "outputId": "1aaf8845-a230-4ca6-b06a-c893408e43b3"
   },
   "outputs": [
    {
     "name": "stdout",
     "output_type": "stream",
     "text": [
      " Praise for The Rain in Portugal Nothing in Billy Collins s twelfth book is exactly what readers might expect and that s the charm of this collection The Washington Post This new collection shows Collins at his finest Certain to please his large readership and a good place for readers new to Collins to begin Library Journal Disarmingly playful and wistfully candid Booklist Buy new No Import Fees Deposit Shipping to Romania Details \n"
     ]
    }
   ],
   "source": [
    "cleaned_text = re.sub(\"[^A-Za-z]\", \" \", text)\n",
    "cleaned_text = re.sub(\"\\s+\", \" \", cleaned_text)\n",
    "print(cleaned_text)"
   ]
  },
  {
   "cell_type": "markdown",
   "metadata": {
    "id": "_LOnaRquyhlP"
   },
   "source": [
    "Pentru testarea pattern-urilor putem folosi https://regex101.com/."
   ]
  },
  {
   "cell_type": "markdown",
   "metadata": {
    "id": "rql9v6BFSiiD"
   },
   "source": [
    "### Funcția `finditer`"
   ]
  },
  {
   "cell_type": "markdown",
   "metadata": {
    "id": "SVH0LN7RTFaO"
   },
   "source": [
    "Această funcție găsește un pattern într-un șir de caractere și returnează un iterator ce generează obiecte de tip Match cu toate potrivirile."
   ]
  },
  {
   "cell_type": "code",
   "execution_count": null,
   "metadata": {
    "colab": {
     "base_uri": "https://localhost:8080/"
    },
    "id": "ow1vLWPYSbzH",
    "outputId": "c5ad2db6-758c-4c80-8a2b-00c6e53940c1"
   },
   "outputs": [
    {
     "name": "stdout",
     "output_type": "stream",
     "text": [
      "<re.Match object; span=(1, 2), match='e'>\n",
      "<re.Match object; span=(2, 3), match='a'>\n",
      "<re.Match object; span=(4, 5), match='a'>\n",
      "<re.Match object; span=(6, 7), match='i'>\n",
      "<re.Match object; span=(8, 9), match='i'>\n",
      "<re.Match object; span=(13, 14), match='o'>\n",
      "<re.Match object; span=(14, 15), match='u'>\n"
     ]
    }
   ],
   "source": [
    "import re\n",
    "\n",
    "s = 'Readability counts.'\n",
    "pattern = r'[aeoui]'\n",
    "\n",
    "matches = re.finditer(pattern, s)\n",
    "for match in matches:\n",
    "    print(match)"
   ]
  },
  {
   "cell_type": "markdown",
   "metadata": {
    "id": "YGgg5CxWR9Xr"
   },
   "source": [
    "Exemplu: căutăm toate numerele float sau int, împreună cu pozițiile și valorile lor. Aici folosim metode `compile()` pentru a compila expresia regulată sub forma de string într-un pattern de tip regex."
   ]
  },
  {
   "cell_type": "code",
   "execution_count": null,
   "metadata": {
    "colab": {
     "base_uri": "https://localhost:8080/"
    },
    "id": "1uJAKaNHyUS_",
    "outputId": "559169d6-70aa-4fe1-e4e1-ff00ed6a694f"
   },
   "outputs": [
    {
     "name": "stdout",
     "output_type": "stream",
     "text": [
      "<re.Match object; span=(418, 423), match='38.65'> --> valoarea căutată începe de la caracterul nr. 418 , și este  38.65\n",
      "<re.Match object; span=(450, 455), match='13.01'> --> valoarea căutată începe de la caracterul nr. 450 , și este  13.01\n",
      "<re.Match object; span=(484, 489), match='-12.3'> --> valoarea căutată începe de la caracterul nr. 484 , și este  -12.3\n"
     ]
    }
   ],
   "source": [
    "pattern = re.compile(\"[+-]?(\\d+\\.)?\\d+\")\n",
    "for match in pattern.finditer(text):\n",
    "    print(match, \"--> valoarea căutată începe de la caracterul nr.\", match.start(), \", și este \", match.group())"
   ]
  },
  {
   "cell_type": "markdown",
   "metadata": {
    "id": "UQMO4b6u007D"
   },
   "source": [
    "## Encodings"
   ]
  },
  {
   "cell_type": "markdown",
   "metadata": {
    "id": "bI5ffSzvfJi8"
   },
   "source": [
    "Codificarea (encoding-ul) unui text poate varia, în funcție de limbă și este un element foarte mportant când lucrăm cu texte. \n",
    "\n",
    "Python foloseste standardul 'utf-8' pentru limba română, și nu numai. \n",
    "\n",
    "Următorul exemplu este preluat dintr-o subtitrare (.srt) din limba rusă, dar nu este encodat in utf-8. Așadar dacă vom încerca să îl citim fără să specificăm tipul de encoding, vom primi următoarea eroare:"
   ]
  },
  {
   "cell_type": "code",
   "execution_count": null,
   "metadata": {
    "colab": {
     "base_uri": "https://localhost:8080/",
     "height": 329
    },
    "id": "W1F8_BTNfOK1",
    "outputId": "046f964b-57db-4a74-c422-b6ad78a8b2a8"
   },
   "outputs": [
    {
     "ename": "UnicodeDecodeError",
     "evalue": "ignored",
     "output_type": "error",
     "traceback": [
      "\u001b[0;31m---------------------------------------------------------------------------\u001b[0m",
      "\u001b[0;31mUnicodeDecodeError\u001b[0m                        Traceback (most recent call last)",
      "\u001b[0;32m<ipython-input-12-368e81b8ed85>\u001b[0m in \u001b[0;36m<module>\u001b[0;34m\u001b[0m\n\u001b[1;32m      1\u001b[0m \u001b[0;32mwith\u001b[0m \u001b[0mopen\u001b[0m\u001b[0;34m(\u001b[0m\u001b[0;34m'encoded_text.txt'\u001b[0m\u001b[0;34m,\u001b[0m \u001b[0;34m\"r\"\u001b[0m\u001b[0;34m)\u001b[0m \u001b[0;32mas\u001b[0m \u001b[0mfin\u001b[0m\u001b[0;34m:\u001b[0m\u001b[0;34m\u001b[0m\u001b[0;34m\u001b[0m\u001b[0m\n\u001b[0;32m----> 2\u001b[0;31m     \u001b[0mcontent\u001b[0m \u001b[0;34m=\u001b[0m \u001b[0mfin\u001b[0m\u001b[0;34m.\u001b[0m\u001b[0mread\u001b[0m\u001b[0;34m(\u001b[0m\u001b[0;34m)\u001b[0m\u001b[0;34m\u001b[0m\u001b[0;34m\u001b[0m\u001b[0m\n\u001b[0m\u001b[1;32m      3\u001b[0m     \u001b[0mprint\u001b[0m\u001b[0;34m(\u001b[0m\u001b[0mcontent\u001b[0m\u001b[0;34m)\u001b[0m\u001b[0;34m\u001b[0m\u001b[0;34m\u001b[0m\u001b[0m\n",
      "\u001b[0;32m/usr/lib/python3.8/codecs.py\u001b[0m in \u001b[0;36mdecode\u001b[0;34m(self, input, final)\u001b[0m\n\u001b[1;32m    320\u001b[0m         \u001b[0;31m# decode input (taking the buffer into account)\u001b[0m\u001b[0;34m\u001b[0m\u001b[0;34m\u001b[0m\u001b[0;34m\u001b[0m\u001b[0m\n\u001b[1;32m    321\u001b[0m         \u001b[0mdata\u001b[0m \u001b[0;34m=\u001b[0m \u001b[0mself\u001b[0m\u001b[0;34m.\u001b[0m\u001b[0mbuffer\u001b[0m \u001b[0;34m+\u001b[0m \u001b[0minput\u001b[0m\u001b[0;34m\u001b[0m\u001b[0;34m\u001b[0m\u001b[0m\n\u001b[0;32m--> 322\u001b[0;31m         \u001b[0;34m(\u001b[0m\u001b[0mresult\u001b[0m\u001b[0;34m,\u001b[0m \u001b[0mconsumed\u001b[0m\u001b[0;34m)\u001b[0m \u001b[0;34m=\u001b[0m \u001b[0mself\u001b[0m\u001b[0;34m.\u001b[0m\u001b[0m_buffer_decode\u001b[0m\u001b[0;34m(\u001b[0m\u001b[0mdata\u001b[0m\u001b[0;34m,\u001b[0m \u001b[0mself\u001b[0m\u001b[0;34m.\u001b[0m\u001b[0merrors\u001b[0m\u001b[0;34m,\u001b[0m \u001b[0mfinal\u001b[0m\u001b[0;34m)\u001b[0m\u001b[0;34m\u001b[0m\u001b[0;34m\u001b[0m\u001b[0m\n\u001b[0m\u001b[1;32m    323\u001b[0m         \u001b[0;31m# keep undecoded input until the next call\u001b[0m\u001b[0;34m\u001b[0m\u001b[0;34m\u001b[0m\u001b[0;34m\u001b[0m\u001b[0m\n\u001b[1;32m    324\u001b[0m         \u001b[0mself\u001b[0m\u001b[0;34m.\u001b[0m\u001b[0mbuffer\u001b[0m \u001b[0;34m=\u001b[0m \u001b[0mdata\u001b[0m\u001b[0;34m[\u001b[0m\u001b[0mconsumed\u001b[0m\u001b[0;34m:\u001b[0m\u001b[0;34m]\u001b[0m\u001b[0;34m\u001b[0m\u001b[0;34m\u001b[0m\u001b[0m\n",
      "\u001b[0;31mUnicodeDecodeError\u001b[0m: 'utf-8' codec can't decode byte 0xdd in position 34: invalid continuation byte"
     ]
    }
   ],
   "source": [
    "with open('encoded_text.txt', \"r\") as fin:\n",
    "    content = fin.read()\n",
    "    print(content)"
   ]
  },
  {
   "cell_type": "markdown",
   "metadata": {
    "id": "60znqZ6wfP-s"
   },
   "source": [
    "Putem detecta encoding-ul folosit cu librăria `chardet`:"
   ]
  },
  {
   "cell_type": "code",
   "execution_count": null,
   "metadata": {
    "colab": {
     "base_uri": "https://localhost:8080/"
    },
    "id": "gvOUmRW2fRN1",
    "outputId": "ece7f359-6528-452d-91cd-ec495e07c35f"
   },
   "outputs": [
    {
     "name": "stdout",
     "output_type": "stream",
     "text": [
      "Looking in indexes: https://pypi.org/simple, https://us-python.pkg.dev/colab-wheels/public/simple/\n",
      "Requirement already satisfied: chardet in /usr/local/lib/python3.8/dist-packages (4.0.0)\n"
     ]
    }
   ],
   "source": [
    "! pip install chardet"
   ]
  },
  {
   "cell_type": "code",
   "execution_count": null,
   "metadata": {
    "colab": {
     "base_uri": "https://localhost:8080/"
    },
    "id": "pBBadYt8fXx8",
    "outputId": "341d2d29-b556-4410-a038-6e5a2a9c97e5"
   },
   "outputs": [
    {
     "name": "stdout",
     "output_type": "stream",
     "text": [
      "Encoding-ul acestui fișier este:  windows-1251\n"
     ]
    }
   ],
   "source": [
    "import chardet\n",
    "\n",
    "with open('encoded_text.txt', \"rb\") as f:\n",
    "    rawdata = f.read()\n",
    "    result = chardet.detect(rawdata)\n",
    "    extracted_encoding = result['encoding']\n",
    "    print(\"Encoding-ul acestui fișier este: \", extracted_encoding)"
   ]
  },
  {
   "cell_type": "markdown",
   "metadata": {
    "id": "6fwcIBhPXVGp"
   },
   "source": [
    "Cu encoding-ul potrivit, acum fișierul se poate citi:"
   ]
  },
  {
   "cell_type": "code",
   "execution_count": null,
   "metadata": {
    "colab": {
     "base_uri": "https://localhost:8080/"
    },
    "id": "E50dsKedXaZK",
    "outputId": "f0451f4b-286a-4050-f289-18d0ee1e76cd"
   },
   "outputs": [
    {
     "name": "stdout",
     "output_type": "stream",
     "text": [
      "1\n",
      "00:00:05,100 --> 00:00:10,860\n",
      "Это были тяжелые времена. Рим находился под господством коррумпированного Папы и сомнительных законов\n",
      "\n",
      "2\n",
      "00:00:10,960 --> 00:00:13,820\n",
      "игр власти и междоусобной борьбы\n",
      "\n",
      "3\n",
      "00:00:15,660 --> 00:00:20,310\n",
      "Синьоры начинали жестокие сражения с единственной целью – накопить состояние\n",
      "\n",
      "4\n",
      "00:00:21,640 --> 00:00:24,950\n",
      "А тем временем, простые люди ели не каждый день\n",
      "\n",
      "5\n",
      "00:00:30,090 --> 00:00:36,040\n",
      "Любовь была темой для поэтов, но редко упоминалась в свадебных клятвах\n",
      "\n",
      "6\n",
      "00:00:36,940 --> 00:00:42,140\n",
      "Женщин отдавали в жены мужчинам, которых они едва знали, не говоря уже о любви\n",
      "\n",
      "7\n",
      "00:00:43,040 --> 00:00:47,980\n",
      "В этом мире, жестоком и несправедливом, я повстречала двух молодых людей\n",
      "\n"
     ]
    }
   ],
   "source": [
    "with open('encoded_text.txt', \"r\", encoding=\"windows-1251\") as fin:\n",
    "    content = fin.read()\n",
    "    print(content)"
   ]
  },
  {
   "cell_type": "markdown",
   "metadata": {
    "id": "XwjdvMNSfZTP"
   },
   "source": [
    "Putem, dacă vrem, să salvam conținutul în format utf-8, deoarece acest format este default pentru python și nu mai trebie specificat la deschidere:"
   ]
  },
  {
   "cell_type": "code",
   "execution_count": null,
   "metadata": {
    "id": "OPBYzpfYfcF6"
   },
   "outputs": [],
   "source": [
    "with open('encoded_text.txt', 'r', encoding=extracted_encoding) as fin:\n",
    "    content = fin.read()\n",
    "with open('utf8_text.txt', 'w', encoding='utf-8') as fout:\n",
    "    fout.write(content)"
   ]
  },
  {
   "cell_type": "code",
   "execution_count": null,
   "metadata": {
    "colab": {
     "base_uri": "https://localhost:8080/"
    },
    "id": "3ZwGqlQifzDk",
    "outputId": "d47113e1-48dd-4280-ef0c-1e993da57fe5"
   },
   "outputs": [
    {
     "name": "stdout",
     "output_type": "stream",
     "text": [
      "1\n",
      "00:00:05,100 --> 00:00:10,860\n",
      "Это были тяжелые времена. Рим находился под господством коррумпированного Папы и сомнительных законов\n",
      "\n",
      "2\n",
      "00:00:10,960 --> 00:00:13,820\n",
      "игр власти и междоусобной борьбы\n",
      "\n",
      "3\n",
      "00:00:15,660 --> 00:00:20,310\n",
      "Синьоры начинали жестокие сражения с единственной целью – накопить состояние\n",
      "\n",
      "4\n",
      "00:00:21,640 --> 00:00:24,950\n",
      "А тем временем, простые люди ели не каждый день\n",
      "\n",
      "5\n",
      "00:00:30,090 --> 00:00:36,040\n",
      "Любовь была темой для поэтов, но редко упоминалась в свадебных клятвах\n",
      "\n",
      "6\n",
      "00:00:36,940 --> 00:00:42,140\n",
      "Женщин отдавали в жены мужчинам, которых они едва знали, не говоря уже о любви\n",
      "\n",
      "7\n",
      "00:00:43,040 --> 00:00:47,980\n",
      "В этом мире, жестоком и несправедливом, я повстречала двух молодых людей\n",
      "\n"
     ]
    }
   ],
   "source": [
    "with open('utf8_text.txt', \"r\") as fin:\n",
    "    content = fin.read()\n",
    "    print(content)"
   ]
  },
  {
   "cell_type": "markdown",
   "metadata": {
    "id": "EEC0t_4T05S2"
   },
   "source": [
    "## Non-standard files (PDF, Word, etc.)"
   ]
  },
  {
   "cell_type": "markdown",
   "metadata": {
    "id": "kT-3FzVo0QKT"
   },
   "source": [
    "Putem citi texte din documente word folosind librăria `doc2txt`."
   ]
  },
  {
   "cell_type": "code",
   "execution_count": 27,
   "metadata": {
    "colab": {
     "base_uri": "https://localhost:8080/"
    },
    "id": "cmrTDGOUMjzW",
    "outputId": "1acab2e9-f534-4d49-a624-b0a91c279412"
   },
   "outputs": [
    {
     "name": "stdout",
     "output_type": "stream",
     "text": [
      "Looking in indexes: https://pypi.org/simple, https://us-python.pkg.dev/colab-wheels/public/simple/\n",
      "Requirement already satisfied: docx2txt in /usr/local/lib/python3.8/dist-packages (0.8)\n"
     ]
    }
   ],
   "source": [
    "!pip install docx2txt"
   ]
  },
  {
   "cell_type": "code",
   "execution_count": 28,
   "metadata": {
    "colab": {
     "base_uri": "https://localhost:8080/"
    },
    "id": "r9aPabVw0XBH",
    "outputId": "a44f681f-1934-422c-d269-83d1ab9b3a85"
   },
   "outputs": [
    {
     "name": "stdout",
     "output_type": "stream",
     "text": [
      "Beautiful Soup is a Python library for pulling data out of HTML and XML files. It works with your favorite parser to provide idiomatic ways of navigating, searching, and modifying the parse tree. It commonly saves programmers hours or days of work.\n",
      "\n",
      "\n",
      "\n",
      "These instructions illustrate all major features of Beautiful Soup 4, with examples. I show you what the library is good for, how it works, how to use it, how to make it do what you want, and what to do when it violates your expectations.\n",
      "\n",
      "\n",
      "\n",
      "This document covers Beautiful Soup version 4.10.0. The examples in this documentation were written for Python 3.8.\n",
      "\n",
      "\n",
      "\n",
      "You might be looking for the documentation for Beautiful Soup 3. If so, you should know that Beautiful Soup 3 is no longer being developed and that all support for it was dropped on December 31, 2020. If you want to learn about the differences between Beautiful Soup 3 and Beautiful Soup 4, see Porting code to BS4.\n",
      "\n",
      "\n",
      "\n",
      "This documentation has been translated into other languages by Beautiful Soup users:\n"
     ]
    }
   ],
   "source": [
    "import docx2txt\n",
    "my_text = docx2txt.process(\"soup.docx\")\n",
    "print(my_text)"
   ]
  },
  {
   "cell_type": "markdown",
   "metadata": {
    "id": "rYv-2JYZ1YD3"
   },
   "source": [
    "Putem citi pdf-uri care sunt salvate ca texte (nu poze), de exemplu, cu librăria `pdfplumber`:"
   ]
  },
  {
   "cell_type": "code",
   "execution_count": null,
   "metadata": {
    "colab": {
     "base_uri": "https://localhost:8080/",
     "height": 569
    },
    "id": "uZHrdF851Z3q",
    "outputId": "054df3f8-eaf8-4afc-cf89-af9aa15def9f"
   },
   "outputs": [
    {
     "name": "stdout",
     "output_type": "stream",
     "text": [
      "Looking in indexes: https://pypi.org/simple, https://us-python.pkg.dev/colab-wheels/public/simple/\n",
      "Collecting pdfplumber\n",
      "  Downloading pdfplumber-0.8.0-py3-none-any.whl (43 kB)\n",
      "\u001b[2K     \u001b[90m━━━━━━━━━━━━━━━━━━━━━━━━━━━━━━━━━━━━━━━━\u001b[0m \u001b[32m43.7/43.7 KB\u001b[0m \u001b[31m4.6 MB/s\u001b[0m eta \u001b[36m0:00:00\u001b[0m\n",
      "\u001b[?25hCollecting Wand>=0.6.10\n",
      "  Downloading Wand-0.6.11-py2.py3-none-any.whl (143 kB)\n",
      "\u001b[2K     \u001b[90m━━━━━━━━━━━━━━━━━━━━━━━━━━━━━━━━━━━━━━\u001b[0m \u001b[32m143.6/143.6 KB\u001b[0m \u001b[31m17.0 MB/s\u001b[0m eta \u001b[36m0:00:00\u001b[0m\n",
      "\u001b[?25hCollecting Pillow>=9.1\n",
      "  Downloading Pillow-9.4.0-cp38-cp38-manylinux_2_28_x86_64.whl (3.4 MB)\n",
      "\u001b[2K     \u001b[90m━━━━━━━━━━━━━━━━━━━━━━━━━━━━━━━━━━━━━━━━\u001b[0m \u001b[32m3.4/3.4 MB\u001b[0m \u001b[31m103.8 MB/s\u001b[0m eta \u001b[36m0:00:00\u001b[0m\n",
      "\u001b[?25hCollecting pdfminer.six==20221105\n",
      "  Downloading pdfminer.six-20221105-py3-none-any.whl (5.6 MB)\n",
      "\u001b[2K     \u001b[90m━━━━━━━━━━━━━━━━━━━━━━━━━━━━━━━━━━━━━━━━\u001b[0m \u001b[32m5.6/5.6 MB\u001b[0m \u001b[31m113.5 MB/s\u001b[0m eta \u001b[36m0:00:00\u001b[0m\n",
      "\u001b[?25hRequirement already satisfied: charset-normalizer>=2.0.0 in /usr/local/lib/python3.8/dist-packages (from pdfminer.six==20221105->pdfplumber) (3.0.1)\n",
      "Collecting cryptography>=36.0.0\n",
      "  Downloading cryptography-39.0.1-cp36-abi3-manylinux_2_28_x86_64.whl (4.2 MB)\n",
      "\u001b[2K     \u001b[90m━━━━━━━━━━━━━━━━━━━━━━━━━━━━━━━━━━━━━━━━\u001b[0m \u001b[32m4.2/4.2 MB\u001b[0m \u001b[31m115.2 MB/s\u001b[0m eta \u001b[36m0:00:00\u001b[0m\n",
      "\u001b[?25hRequirement already satisfied: cffi>=1.12 in /usr/local/lib/python3.8/dist-packages (from cryptography>=36.0.0->pdfminer.six==20221105->pdfplumber) (1.15.1)\n",
      "Requirement already satisfied: pycparser in /usr/local/lib/python3.8/dist-packages (from cffi>=1.12->cryptography>=36.0.0->pdfminer.six==20221105->pdfplumber) (2.21)\n",
      "Installing collected packages: Wand, Pillow, cryptography, pdfminer.six, pdfplumber\n",
      "  Attempting uninstall: Pillow\n",
      "    Found existing installation: Pillow 7.1.2\n",
      "    Uninstalling Pillow-7.1.2:\n",
      "      Successfully uninstalled Pillow-7.1.2\n",
      "Successfully installed Pillow-9.4.0 Wand-0.6.11 cryptography-39.0.1 pdfminer.six-20221105 pdfplumber-0.8.0\n"
     ]
    },
    {
     "data": {
      "application/vnd.colab-display-data+json": {
       "pip_warning": {
        "packages": [
         "PIL"
        ]
       }
      }
     },
     "metadata": {},
     "output_type": "display_data"
    }
   ],
   "source": [
    "! pip install pdfplumber"
   ]
  },
  {
   "cell_type": "code",
   "execution_count": 29,
   "metadata": {
    "colab": {
     "base_uri": "https://localhost:8080/"
    },
    "id": "A_x4wZpQ1hh8",
    "outputId": "da93946d-1f7d-43f8-dc28-6616844b7726"
   },
   "outputs": [
    {
     "name": "stdout",
     "output_type": "stream",
     "text": [
      "Beautiful Soup is a Python library for pulling data out of HTML and XML files. It works with your favorite\n",
      "parser to provide idiomatic ways of navigating, searching, and modifying the parse tree. It commonly\n",
      "saves programmers hours or days of work.\n",
      "These instructions illustrate all major features of Beautiful Soup 4, with examples. I show you what the\n",
      "library is good for, how it works, how to use it, how to make it do what you want, and what to do when\n",
      "it violates your expectations.\n",
      "This document covers Beautiful Soup version 4.10.0. The examples in this documentation were written\n",
      "for Python 3.8.\n",
      "You might be looking for the documentation for Beautiful Soup 3. If so, you should know that Beautiful\n",
      "Soup 3 is no longer being developed and that all support for it was dropped on December 31, 2020. If\n",
      "you want to learn about the differences between Beautiful Soup 3 and Beautiful Soup 4, see Porting\n",
      "code to BS4.\n",
      "This documentation has been translated into other languages by Beautiful Soup users:\n"
     ]
    }
   ],
   "source": [
    "import pdfplumber\n",
    "with pdfplumber.open('soup.pdf') as pdf:\n",
    "    for page in pdf.pages:\n",
    "        print(page.extract_text())"
   ]
  },
  {
   "cell_type": "markdown",
   "metadata": {
    "id": "-ix-cDK_1FrO"
   },
   "source": [
    "## Web scraping"
   ]
  },
  {
   "cell_type": "markdown",
   "metadata": {
    "id": "SZ5jU3-C9Xrw"
   },
   "source": [
    "Scraping-ul se referă la o mulțime de metode prin care putem descărca date nestructurate din mediul web. Pe noi ne interesează datele text, pe care după preluarea din mediul online le putem procesa și stoca într-o formă structurată."
   ]
  },
  {
   "cell_type": "markdown",
   "metadata": {
    "id": "kz0-C3BJj9V_"
   },
   "source": [
    "Ca prim exemplu de scraping vom incerca următorul task: pornind de la site-ul de programare competitiva \"infoarena.ro\" dorim pentru un utilizator sa descarcam informatii despre toate submisiile efectuate de acesta.\n",
    "\n",
    "Exemplu pagină de submisii: https://www.infoarena.ro/monitor?user=iordache.bogdan\n",
    "\n",
    "Pentru a realiza un request care să întoarca conținutul paginii putem folosi librăria `requests`:"
   ]
  },
  {
   "cell_type": "code",
   "execution_count": 30,
   "metadata": {
    "colab": {
     "base_uri": "https://localhost:8080/"
    },
    "id": "u_rQlqfFMjzc",
    "outputId": "60bf4025-c2ca-4378-a6f1-f8a5e0970f7f"
   },
   "outputs": [
    {
     "name": "stdout",
     "output_type": "stream",
     "text": [
      "Looking in indexes: https://pypi.org/simple, https://us-python.pkg.dev/colab-wheels/public/simple/\n",
      "Requirement already satisfied: requests in /usr/local/lib/python3.8/dist-packages (2.25.1)\n",
      "Requirement already satisfied: certifi>=2017.4.17 in /usr/local/lib/python3.8/dist-packages (from requests) (2022.12.7)\n",
      "Requirement already satisfied: urllib3<1.27,>=1.21.1 in /usr/local/lib/python3.8/dist-packages (from requests) (1.24.3)\n",
      "Requirement already satisfied: idna<3,>=2.5 in /usr/local/lib/python3.8/dist-packages (from requests) (2.10)\n",
      "Requirement already satisfied: chardet<5,>=3.0.2 in /usr/local/lib/python3.8/dist-packages (from requests) (4.0.0)\n"
     ]
    }
   ],
   "source": [
    "! pip install requests"
   ]
  },
  {
   "cell_type": "code",
   "execution_count": 31,
   "metadata": {
    "id": "Kp2mSeC_9CCu"
   },
   "outputs": [],
   "source": [
    "import requests\n",
    "\n",
    "def get_submissions_page(user):\n",
    "    return requests.get(f\"https://www.infoarena.ro/monitor?user={user}\")"
   ]
  },
  {
   "cell_type": "code",
   "execution_count": 32,
   "metadata": {
    "id": "13W4i-G3k7hl"
   },
   "outputs": [],
   "source": [
    "html = get_submissions_page(\"iordache.bogdan\").content"
   ]
  },
  {
   "cell_type": "markdown",
   "metadata": {
    "id": "6aSHQWnilIOR"
   },
   "source": [
    "Observăm că folosind metoda de mai sus putem descarca întreg conținutul HTML al paginii. Pentru a extrage informații utile trebuie să parsam acest conținut. Pentru aceasta vom folosi biblioteca [BeautifulSoup](https://www.crummy.com/software/BeautifulSoup/bs4/doc/):"
   ]
  },
  {
   "cell_type": "code",
   "execution_count": 35,
   "metadata": {
    "id": "a1NrQndSlG4g"
   },
   "outputs": [],
   "source": [
    "import bs4\n",
    "\n",
    "def parse_html(html):\n",
    "    return bs4.BeautifulSoup(html, \"html.parser\")"
   ]
  },
  {
   "cell_type": "markdown",
   "metadata": {
    "id": "DyKYAfF7l3pO"
   },
   "source": [
    "Având conținutul parsat, putem determina acum câte submisii are în total acest utilizator:"
   ]
  },
  {
   "cell_type": "code",
   "execution_count": 36,
   "metadata": {
    "colab": {
     "base_uri": "https://localhost:8080/"
    },
    "id": "UB0sUnx0ltvH",
    "outputId": "5a5be65f-eace-4067-d101-c4f97a48cb87"
   },
   "outputs": [
    {
     "name": "stdout",
     "output_type": "stream",
     "text": [
      " (5033 rezultate)\n",
      "5033\n"
     ]
    }
   ],
   "source": [
    "import re\n",
    "\n",
    "soup = parse_html(html)\n",
    "\n",
    "# cautam un span care are clasa \"count\", in acest span se afla numarul de submisii\n",
    "submission_count_text = soup.find(\"span\", class_=\"count\").text\n",
    "print(submission_count_text)\n"
   ]
  },
  {
   "cell_type": "markdown",
   "metadata": {
    "id": "kkxcLqPcdPnO"
   },
   "source": [
    "Pentru a extrage doar numărul din această înșiruire de caractere ne putem folosi de regex:"
   ]
  },
  {
   "cell_type": "code",
   "execution_count": 37,
   "metadata": {
    "colab": {
     "base_uri": "https://localhost:8080/"
    },
    "id": "FHCAcFfzdQT4",
    "outputId": "2651b73c-b820-4580-b03e-51c625bf2e9b"
   },
   "outputs": [
    {
     "name": "stdout",
     "output_type": "stream",
     "text": [
      "5033\n"
     ]
    }
   ],
   "source": [
    "submission_count = int(re.search(r\"\\d+\", submission_count_text).group())\n",
    "print(submission_count)"
   ]
  },
  {
   "cell_type": "markdown",
   "metadata": {
    "id": "Obu7nG4HnSIJ"
   },
   "source": [
    "Observăm că aceste submisii sunt împărtite în mai multe pagini (paginarea rezultatelor). \n",
    "\n",
    "De asemenea, link-ul următor: https://www.infoarena.ro/monitor?user=iordache.bogdan&display_entries=250&first_entry=100 ne returnează 250 de submisii, incepând cu submisia cu numarul 100. \n",
    "\n",
    "Putem modifica metoda `get_submissions_page` astfel:"
   ]
  },
  {
   "cell_type": "code",
   "execution_count": 38,
   "metadata": {
    "id": "xwKHy-zGnQ27"
   },
   "outputs": [],
   "source": [
    "def get_submissions_page(user, display_entries=None, first_entry=None):\n",
    "    req_string = f\"https://www.infoarena.ro/monitor?user={user}\"\n",
    "    if display_entries is not None:\n",
    "        req_string += f\"&display_entries={display_entries}\"\n",
    "    if first_entry is not None:\n",
    "        req_string += f\"&first_entry={first_entry}\"\n",
    "\n",
    "    return requests.get(req_string)"
   ]
  },
  {
   "cell_type": "markdown",
   "metadata": {
    "id": "Pv9ylMxPoTh4"
   },
   "source": [
    "Și putem implementa o funcție care returnează informații despre toate submisiile unui utilizator:"
   ]
  },
  {
   "cell_type": "code",
   "execution_count": 39,
   "metadata": {
    "id": "sLG0u9POonXT"
   },
   "outputs": [],
   "source": [
    "from tqdm import tqdm\n",
    "import pandas as pd\n",
    "import pdb\n",
    "\n",
    "def scrape_submissions(user):\n",
    "    # determinam numarul total de submisii\n",
    "    html = get_submissions_page(user).content\n",
    "    soup = parse_html(html)\n",
    "    submission_count_text = soup.find(\"span\", class_=\"count\").text\n",
    "    submission_count = int(re.search(r\"\\d+\", submission_count_text).group())\n",
    "\n",
    "    # vom salva in acest dictionar datele despre submisiile extrase, structura aceasta\n",
    "    # ne va ajuta ulterior sa construim un tabel (dataframe) folosind pandas\n",
    "    d = {\n",
    "        \"id\": [],\n",
    "        \"problema\": [],\n",
    "        \"url_problema\": [],\n",
    "        \"url_sursa\": [],\n",
    "        \"data\": [],\n",
    "        \"puncte\": [],\n",
    "    }\n",
    "\n",
    "    # accesam pagini cu submisii in grupuri de 250\n",
    "    for first_entry in tqdm(range(0, submission_count, 250)):\n",
    "        html = get_submissions_page(user, display_entries=250, first_entry=first_entry).content\n",
    "        soup = parse_html(html)\n",
    "\n",
    "        # selectam toate liniile de tabel (tr)\n",
    "        lines = soup.select(\"table.monitor tbody tr\")\n",
    "\n",
    "        for line in lines:\n",
    "            # selectam celulele de pe aceasta linie\n",
    "            cells = [cell for cell in line.select(\"td\")]\n",
    "\n",
    "            # extragem link-urile pentru problema si codul sursa\n",
    "            try:\n",
    "                url_problema = cells[2].select_one(\"a\")[\"href\"]\n",
    "                url_sursa = cells[4].select_one(\"a\")[\"href\"]\n",
    "            except Exception:  # daca vreun link nu exista ignoram linia\n",
    "                continue\n",
    "            \n",
    "            d[\"id\"].append(cells[0].text)\n",
    "            d[\"problema\"].append(cells[2].text)\n",
    "            d[\"url_problema\"].append(url_problema)\n",
    "            d[\"url_sursa\"].append(url_sursa)\n",
    "            d[\"data\"].append(cells[5].text)\n",
    "\n",
    "            try:\n",
    "                puncte = int(re.search(r\"\\d+\", cells[6].text).group())\n",
    "            except Exception:\n",
    "                puncte = 0\n",
    "            d[\"puncte\"].append(puncte)\n",
    "\n",
    "    return pd.DataFrame(d)"
   ]
  },
  {
   "cell_type": "code",
   "execution_count": 40,
   "metadata": {
    "colab": {
     "base_uri": "https://localhost:8080/"
    },
    "id": "W9Pf0rtfrL_w",
    "outputId": "35a61c6d-73bf-4797-f841-32d300767c4f"
   },
   "outputs": [
    {
     "name": "stderr",
     "output_type": "stream",
     "text": [
      "100%|██████████| 21/21 [00:27<00:00,  1.33s/it]\n"
     ]
    }
   ],
   "source": [
    "df_submissions = scrape_submissions(\"iordache.bogdan\")"
   ]
  },
  {
   "cell_type": "code",
   "execution_count": 41,
   "metadata": {
    "colab": {
     "base_uri": "https://localhost:8080/",
     "height": 206
    },
    "id": "LwOII21wtFKF",
    "outputId": "14970b95-5dd4-4164-e940-e69d76eba8b8"
   },
   "outputs": [
    {
     "data": {
      "text/html": [
       "\n",
       "  <div id=\"df-22ba8b3c-c2a5-4c0a-8de1-ce05a24acdd4\">\n",
       "    <div class=\"colab-df-container\">\n",
       "      <div>\n",
       "<style scoped>\n",
       "    .dataframe tbody tr th:only-of-type {\n",
       "        vertical-align: middle;\n",
       "    }\n",
       "\n",
       "    .dataframe tbody tr th {\n",
       "        vertical-align: top;\n",
       "    }\n",
       "\n",
       "    .dataframe thead th {\n",
       "        text-align: right;\n",
       "    }\n",
       "</style>\n",
       "<table border=\"1\" class=\"dataframe\">\n",
       "  <thead>\n",
       "    <tr style=\"text-align: right;\">\n",
       "      <th></th>\n",
       "      <th>id</th>\n",
       "      <th>problema</th>\n",
       "      <th>url_problema</th>\n",
       "      <th>url_sursa</th>\n",
       "      <th>data</th>\n",
       "      <th>puncte</th>\n",
       "    </tr>\n",
       "  </thead>\n",
       "  <tbody>\n",
       "    <tr>\n",
       "      <th>0</th>\n",
       "      <td>#2971352</td>\n",
       "      <td>Atac</td>\n",
       "      <td>/problema/atac</td>\n",
       "      <td>/job_detail/2971352?action=view-source</td>\n",
       "      <td>27 ian 23 01:27:44</td>\n",
       "      <td>100</td>\n",
       "    </tr>\n",
       "    <tr>\n",
       "      <th>1</th>\n",
       "      <td>#2971346</td>\n",
       "      <td>Atac</td>\n",
       "      <td>/problema/atac</td>\n",
       "      <td>/job_detail/2971346?action=view-source</td>\n",
       "      <td>27 ian 23 01:07:30</td>\n",
       "      <td>20</td>\n",
       "    </tr>\n",
       "    <tr>\n",
       "      <th>2</th>\n",
       "      <td>#2971294</td>\n",
       "      <td>Pirati</td>\n",
       "      <td>/problema/pirati</td>\n",
       "      <td>/job_detail/2971294?action=view-source</td>\n",
       "      <td>26 ian 23 23:18:14</td>\n",
       "      <td>100</td>\n",
       "    </tr>\n",
       "    <tr>\n",
       "      <th>3</th>\n",
       "      <td>#2970859</td>\n",
       "      <td>Lowest Common Ancestor</td>\n",
       "      <td>/problema/lca</td>\n",
       "      <td>/job_detail/2970859?action=view-source</td>\n",
       "      <td>25 ian 23 23:42:36</td>\n",
       "      <td>100</td>\n",
       "    </tr>\n",
       "    <tr>\n",
       "      <th>4</th>\n",
       "      <td>#2970853</td>\n",
       "      <td>Lowest Common Ancestor</td>\n",
       "      <td>/problema/lca</td>\n",
       "      <td>/job_detail/2970853?action=view-source</td>\n",
       "      <td>25 ian 23 23:19:15</td>\n",
       "      <td>100</td>\n",
       "    </tr>\n",
       "  </tbody>\n",
       "</table>\n",
       "</div>\n",
       "      <button class=\"colab-df-convert\" onclick=\"convertToInteractive('df-22ba8b3c-c2a5-4c0a-8de1-ce05a24acdd4')\"\n",
       "              title=\"Convert this dataframe to an interactive table.\"\n",
       "              style=\"display:none;\">\n",
       "        \n",
       "  <svg xmlns=\"http://www.w3.org/2000/svg\" height=\"24px\"viewBox=\"0 0 24 24\"\n",
       "       width=\"24px\">\n",
       "    <path d=\"M0 0h24v24H0V0z\" fill=\"none\"/>\n",
       "    <path d=\"M18.56 5.44l.94 2.06.94-2.06 2.06-.94-2.06-.94-.94-2.06-.94 2.06-2.06.94zm-11 1L8.5 8.5l.94-2.06 2.06-.94-2.06-.94L8.5 2.5l-.94 2.06-2.06.94zm10 10l.94 2.06.94-2.06 2.06-.94-2.06-.94-.94-2.06-.94 2.06-2.06.94z\"/><path d=\"M17.41 7.96l-1.37-1.37c-.4-.4-.92-.59-1.43-.59-.52 0-1.04.2-1.43.59L10.3 9.45l-7.72 7.72c-.78.78-.78 2.05 0 2.83L4 21.41c.39.39.9.59 1.41.59.51 0 1.02-.2 1.41-.59l7.78-7.78 2.81-2.81c.8-.78.8-2.07 0-2.86zM5.41 20L4 18.59l7.72-7.72 1.47 1.35L5.41 20z\"/>\n",
       "  </svg>\n",
       "      </button>\n",
       "      \n",
       "  <style>\n",
       "    .colab-df-container {\n",
       "      display:flex;\n",
       "      flex-wrap:wrap;\n",
       "      gap: 12px;\n",
       "    }\n",
       "\n",
       "    .colab-df-convert {\n",
       "      background-color: #E8F0FE;\n",
       "      border: none;\n",
       "      border-radius: 50%;\n",
       "      cursor: pointer;\n",
       "      display: none;\n",
       "      fill: #1967D2;\n",
       "      height: 32px;\n",
       "      padding: 0 0 0 0;\n",
       "      width: 32px;\n",
       "    }\n",
       "\n",
       "    .colab-df-convert:hover {\n",
       "      background-color: #E2EBFA;\n",
       "      box-shadow: 0px 1px 2px rgba(60, 64, 67, 0.3), 0px 1px 3px 1px rgba(60, 64, 67, 0.15);\n",
       "      fill: #174EA6;\n",
       "    }\n",
       "\n",
       "    [theme=dark] .colab-df-convert {\n",
       "      background-color: #3B4455;\n",
       "      fill: #D2E3FC;\n",
       "    }\n",
       "\n",
       "    [theme=dark] .colab-df-convert:hover {\n",
       "      background-color: #434B5C;\n",
       "      box-shadow: 0px 1px 3px 1px rgba(0, 0, 0, 0.15);\n",
       "      filter: drop-shadow(0px 1px 2px rgba(0, 0, 0, 0.3));\n",
       "      fill: #FFFFFF;\n",
       "    }\n",
       "  </style>\n",
       "\n",
       "      <script>\n",
       "        const buttonEl =\n",
       "          document.querySelector('#df-22ba8b3c-c2a5-4c0a-8de1-ce05a24acdd4 button.colab-df-convert');\n",
       "        buttonEl.style.display =\n",
       "          google.colab.kernel.accessAllowed ? 'block' : 'none';\n",
       "\n",
       "        async function convertToInteractive(key) {\n",
       "          const element = document.querySelector('#df-22ba8b3c-c2a5-4c0a-8de1-ce05a24acdd4');\n",
       "          const dataTable =\n",
       "            await google.colab.kernel.invokeFunction('convertToInteractive',\n",
       "                                                     [key], {});\n",
       "          if (!dataTable) return;\n",
       "\n",
       "          const docLinkHtml = 'Like what you see? Visit the ' +\n",
       "            '<a target=\"_blank\" href=https://colab.research.google.com/notebooks/data_table.ipynb>data table notebook</a>'\n",
       "            + ' to learn more about interactive tables.';\n",
       "          element.innerHTML = '';\n",
       "          dataTable['output_type'] = 'display_data';\n",
       "          await google.colab.output.renderOutput(dataTable, element);\n",
       "          const docLink = document.createElement('div');\n",
       "          docLink.innerHTML = docLinkHtml;\n",
       "          element.appendChild(docLink);\n",
       "        }\n",
       "      </script>\n",
       "    </div>\n",
       "  </div>\n",
       "  "
      ],
      "text/plain": [
       "         id                problema      url_problema  \\\n",
       "0  #2971352                    Atac    /problema/atac   \n",
       "1  #2971346                    Atac    /problema/atac   \n",
       "2  #2971294                  Pirati  /problema/pirati   \n",
       "3  #2970859  Lowest Common Ancestor     /problema/lca   \n",
       "4  #2970853  Lowest Common Ancestor     /problema/lca   \n",
       "\n",
       "                                url_sursa                data  puncte  \n",
       "0  /job_detail/2971352?action=view-source  27 ian 23 01:27:44     100  \n",
       "1  /job_detail/2971346?action=view-source  27 ian 23 01:07:30      20  \n",
       "2  /job_detail/2971294?action=view-source  26 ian 23 23:18:14     100  \n",
       "3  /job_detail/2970859?action=view-source  25 ian 23 23:42:36     100  \n",
       "4  /job_detail/2970853?action=view-source  25 ian 23 23:19:15     100  "
      ]
     },
     "execution_count": 41,
     "metadata": {},
     "output_type": "execute_result"
    }
   ],
   "source": [
    "df_submissions.head()"
   ]
  },
  {
   "cell_type": "code",
   "execution_count": 42,
   "metadata": {
    "id": "bSUVqGCBwycM"
   },
   "outputs": [],
   "source": [
    "df_submissions.to_csv(\"submissions.csv\", index=False)"
   ]
  },
  {
   "cell_type": "markdown",
   "metadata": {
    "id": "0JDLdzlAijhV"
   },
   "source": [
    "Exemplu scriere/citire fisier JSON:"
   ]
  },
  {
   "cell_type": "code",
   "execution_count": 43,
   "metadata": {
    "id": "SkKsP_UPiofJ"
   },
   "outputs": [],
   "source": [
    "import json\n",
    "\n",
    "vec = [\n",
    "    {\"title\": \"example_1\", \"size\": 7},\n",
    "    {\"title\": \"example_2\", \"size\": 3},\n",
    "    {\"title\": \"example_3\", \"size\": 8},\n",
    "]\n",
    "\n",
    "with open(\"example.json\", \"w\") as f:\n",
    "    json.dump(vec, f, indent=4)"
   ]
  },
  {
   "cell_type": "code",
   "execution_count": 44,
   "metadata": {
    "colab": {
     "base_uri": "https://localhost:8080/"
    },
    "id": "8qpLd3OujHvP",
    "outputId": "5246da5c-6441-4988-cd4a-3325e129cfd9"
   },
   "outputs": [
    {
     "name": "stdout",
     "output_type": "stream",
     "text": [
      "[{'title': 'example_1', 'size': 7}, {'title': 'example_2', 'size': 3}, {'title': 'example_3', 'size': 8}]\n"
     ]
    }
   ],
   "source": [
    "with open(\"example.json\", \"r\") as f:\n",
    "    vec = json.load(f)\n",
    "print(vec)"
   ]
  },
  {
   "cell_type": "markdown",
   "metadata": {
    "id": "L57SsXOnfd__"
   },
   "source": [
    "Un alt mod de a face scraping este sa folosim biblioteca pandas pentru a ne extrage tabele html, transformandu-le in DataFrame-uri, pe care le putem manipula foarte usor. Un exemplu util este extragerea sărbătorilor legale romanesti, din anul 2022, de pe https://www.timeanddate.com/."
   ]
  },
  {
   "cell_type": "code",
   "execution_count": 45,
   "metadata": {
    "colab": {
     "base_uri": "https://localhost:8080/"
    },
    "id": "6RGz_oJ7Mjzr",
    "outputId": "3e83ad55-4c05-4a20-e762-d249a30cdc88"
   },
   "outputs": [
    {
     "name": "stdout",
     "output_type": "stream",
     "text": [
      "Looking in indexes: https://pypi.org/simple, https://us-python.pkg.dev/colab-wheels/public/simple/\n",
      "Requirement already satisfied: lxml in /usr/local/lib/python3.8/dist-packages (4.9.2)\n"
     ]
    }
   ],
   "source": [
    "! pip install lxml"
   ]
  },
  {
   "cell_type": "code",
   "execution_count": 46,
   "metadata": {
    "colab": {
     "base_uri": "https://localhost:8080/",
     "height": 206
    },
    "id": "4KiZSYVGg1jP",
    "outputId": "91d2844b-263b-419b-fe0f-134d659b4b0c"
   },
   "outputs": [
    {
     "data": {
      "text/html": [
       "\n",
       "  <div id=\"df-e4356eff-d9b2-460a-a91e-33af551dc354\">\n",
       "    <div class=\"colab-df-container\">\n",
       "      <div>\n",
       "<style scoped>\n",
       "    .dataframe tbody tr th:only-of-type {\n",
       "        vertical-align: middle;\n",
       "    }\n",
       "\n",
       "    .dataframe tbody tr th {\n",
       "        vertical-align: top;\n",
       "    }\n",
       "\n",
       "    .dataframe thead th {\n",
       "        text-align: right;\n",
       "    }\n",
       "</style>\n",
       "<table border=\"1\" class=\"dataframe\">\n",
       "  <thead>\n",
       "    <tr style=\"text-align: right;\">\n",
       "      <th></th>\n",
       "      <th>Date</th>\n",
       "      <th>Day</th>\n",
       "      <th>Name</th>\n",
       "      <th>Type</th>\n",
       "    </tr>\n",
       "  </thead>\n",
       "  <tbody>\n",
       "    <tr>\n",
       "      <th>0</th>\n",
       "      <td>Jan 1</td>\n",
       "      <td>Saturday</td>\n",
       "      <td>New Year's Day</td>\n",
       "      <td>National holiday</td>\n",
       "    </tr>\n",
       "    <tr>\n",
       "      <th>1</th>\n",
       "      <td>Jan 2</td>\n",
       "      <td>Sunday</td>\n",
       "      <td>Day after New Year's Day</td>\n",
       "      <td>National holiday</td>\n",
       "    </tr>\n",
       "    <tr>\n",
       "      <th>2</th>\n",
       "      <td>Jan 24</td>\n",
       "      <td>Monday</td>\n",
       "      <td>Unification Day</td>\n",
       "      <td>National holiday</td>\n",
       "    </tr>\n",
       "    <tr>\n",
       "      <th>3</th>\n",
       "      <td>Feb 19</td>\n",
       "      <td>Saturday</td>\n",
       "      <td>Constantin Brancusi Day</td>\n",
       "      <td>Observance</td>\n",
       "    </tr>\n",
       "    <tr>\n",
       "      <th>4</th>\n",
       "      <td>Feb 24</td>\n",
       "      <td>Thursday</td>\n",
       "      <td>Dragobete</td>\n",
       "      <td>Observance</td>\n",
       "    </tr>\n",
       "  </tbody>\n",
       "</table>\n",
       "</div>\n",
       "      <button class=\"colab-df-convert\" onclick=\"convertToInteractive('df-e4356eff-d9b2-460a-a91e-33af551dc354')\"\n",
       "              title=\"Convert this dataframe to an interactive table.\"\n",
       "              style=\"display:none;\">\n",
       "        \n",
       "  <svg xmlns=\"http://www.w3.org/2000/svg\" height=\"24px\"viewBox=\"0 0 24 24\"\n",
       "       width=\"24px\">\n",
       "    <path d=\"M0 0h24v24H0V0z\" fill=\"none\"/>\n",
       "    <path d=\"M18.56 5.44l.94 2.06.94-2.06 2.06-.94-2.06-.94-.94-2.06-.94 2.06-2.06.94zm-11 1L8.5 8.5l.94-2.06 2.06-.94-2.06-.94L8.5 2.5l-.94 2.06-2.06.94zm10 10l.94 2.06.94-2.06 2.06-.94-2.06-.94-.94-2.06-.94 2.06-2.06.94z\"/><path d=\"M17.41 7.96l-1.37-1.37c-.4-.4-.92-.59-1.43-.59-.52 0-1.04.2-1.43.59L10.3 9.45l-7.72 7.72c-.78.78-.78 2.05 0 2.83L4 21.41c.39.39.9.59 1.41.59.51 0 1.02-.2 1.41-.59l7.78-7.78 2.81-2.81c.8-.78.8-2.07 0-2.86zM5.41 20L4 18.59l7.72-7.72 1.47 1.35L5.41 20z\"/>\n",
       "  </svg>\n",
       "      </button>\n",
       "      \n",
       "  <style>\n",
       "    .colab-df-container {\n",
       "      display:flex;\n",
       "      flex-wrap:wrap;\n",
       "      gap: 12px;\n",
       "    }\n",
       "\n",
       "    .colab-df-convert {\n",
       "      background-color: #E8F0FE;\n",
       "      border: none;\n",
       "      border-radius: 50%;\n",
       "      cursor: pointer;\n",
       "      display: none;\n",
       "      fill: #1967D2;\n",
       "      height: 32px;\n",
       "      padding: 0 0 0 0;\n",
       "      width: 32px;\n",
       "    }\n",
       "\n",
       "    .colab-df-convert:hover {\n",
       "      background-color: #E2EBFA;\n",
       "      box-shadow: 0px 1px 2px rgba(60, 64, 67, 0.3), 0px 1px 3px 1px rgba(60, 64, 67, 0.15);\n",
       "      fill: #174EA6;\n",
       "    }\n",
       "\n",
       "    [theme=dark] .colab-df-convert {\n",
       "      background-color: #3B4455;\n",
       "      fill: #D2E3FC;\n",
       "    }\n",
       "\n",
       "    [theme=dark] .colab-df-convert:hover {\n",
       "      background-color: #434B5C;\n",
       "      box-shadow: 0px 1px 3px 1px rgba(0, 0, 0, 0.15);\n",
       "      filter: drop-shadow(0px 1px 2px rgba(0, 0, 0, 0.3));\n",
       "      fill: #FFFFFF;\n",
       "    }\n",
       "  </style>\n",
       "\n",
       "      <script>\n",
       "        const buttonEl =\n",
       "          document.querySelector('#df-e4356eff-d9b2-460a-a91e-33af551dc354 button.colab-df-convert');\n",
       "        buttonEl.style.display =\n",
       "          google.colab.kernel.accessAllowed ? 'block' : 'none';\n",
       "\n",
       "        async function convertToInteractive(key) {\n",
       "          const element = document.querySelector('#df-e4356eff-d9b2-460a-a91e-33af551dc354');\n",
       "          const dataTable =\n",
       "            await google.colab.kernel.invokeFunction('convertToInteractive',\n",
       "                                                     [key], {});\n",
       "          if (!dataTable) return;\n",
       "\n",
       "          const docLinkHtml = 'Like what you see? Visit the ' +\n",
       "            '<a target=\"_blank\" href=https://colab.research.google.com/notebooks/data_table.ipynb>data table notebook</a>'\n",
       "            + ' to learn more about interactive tables.';\n",
       "          element.innerHTML = '';\n",
       "          dataTable['output_type'] = 'display_data';\n",
       "          await google.colab.output.renderOutput(dataTable, element);\n",
       "          const docLink = document.createElement('div');\n",
       "          docLink.innerHTML = docLinkHtml;\n",
       "          element.appendChild(docLink);\n",
       "        }\n",
       "      </script>\n",
       "    </div>\n",
       "  </div>\n",
       "  "
      ],
      "text/plain": [
       "     Date       Day                      Name              Type\n",
       "0   Jan 1  Saturday            New Year's Day  National holiday\n",
       "1   Jan 2    Sunday  Day after New Year's Day  National holiday\n",
       "2  Jan 24    Monday           Unification Day  National holiday\n",
       "3  Feb 19  Saturday   Constantin Brancusi Day        Observance\n",
       "4  Feb 24  Thursday                 Dragobete        Observance"
      ]
     },
     "execution_count": 46,
     "metadata": {},
     "output_type": "execute_result"
    }
   ],
   "source": [
    "import pandas as pd\n",
    "\n",
    "tables_df = pd.read_html('https://www.timeanddate.com/holidays/romania/2022?hol=1')\n",
    "df = tables_df[0]\n",
    "\n",
    "# Il putem curata prin a sterge liniile nule si modifica coloanele de la tuplul \"(Date, Date)\" -> \"Date\"\n",
    "df = df.dropna(axis='index')\n",
    "df.columns = ['Date', 'Day', 'Name', 'Type']\n",
    "\n",
    "# Reindexam tabelul\n",
    "df = df.reset_index(drop=\"True\")\n",
    "\n",
    "# Afisam primele 5 randuri\n",
    "df.head()"
   ]
  },
  {
   "cell_type": "code",
   "execution_count": 48,
   "metadata": {
    "colab": {
     "base_uri": "https://localhost:8080/",
     "height": 237
    },
    "id": "4s6tVtnIfF1_",
    "outputId": "17244996-8250-4ced-85e9-aec7e3df4ef0"
   },
   "outputs": [
    {
     "data": {
      "text/html": [
       "\n",
       "  <div id=\"df-2d97c06d-88f7-45b6-ac26-acfe2bafba40\">\n",
       "    <div class=\"colab-df-container\">\n",
       "      <div>\n",
       "<style scoped>\n",
       "    .dataframe tbody tr th:only-of-type {\n",
       "        vertical-align: middle;\n",
       "    }\n",
       "\n",
       "    .dataframe tbody tr th {\n",
       "        vertical-align: top;\n",
       "    }\n",
       "\n",
       "    .dataframe thead th {\n",
       "        text-align: right;\n",
       "    }\n",
       "</style>\n",
       "<table border=\"1\" class=\"dataframe\">\n",
       "  <thead>\n",
       "    <tr style=\"text-align: right;\">\n",
       "      <th></th>\n",
       "      <th>Date</th>\n",
       "      <th>Day</th>\n",
       "      <th>Name</th>\n",
       "      <th>Type</th>\n",
       "    </tr>\n",
       "  </thead>\n",
       "  <tbody>\n",
       "    <tr>\n",
       "      <th>2</th>\n",
       "      <td>Jan 24</td>\n",
       "      <td>Monday</td>\n",
       "      <td>Unification Day</td>\n",
       "      <td>National holiday</td>\n",
       "    </tr>\n",
       "    <tr>\n",
       "      <th>10</th>\n",
       "      <td>Apr 25</td>\n",
       "      <td>Monday</td>\n",
       "      <td>Orthodox Easter Monday</td>\n",
       "      <td>National holiday, Orthodox</td>\n",
       "    </tr>\n",
       "    <tr>\n",
       "      <th>19</th>\n",
       "      <td>Jun 13</td>\n",
       "      <td>Monday</td>\n",
       "      <td>Orthodox Pentecost Monday</td>\n",
       "      <td>National holiday, Orthodox</td>\n",
       "    </tr>\n",
       "    <tr>\n",
       "      <th>23</th>\n",
       "      <td>Aug 15</td>\n",
       "      <td>Monday</td>\n",
       "      <td>St Mary's Day</td>\n",
       "      <td>National holiday</td>\n",
       "    </tr>\n",
       "    <tr>\n",
       "      <th>25</th>\n",
       "      <td>Oct 31</td>\n",
       "      <td>Monday</td>\n",
       "      <td>Halloween</td>\n",
       "      <td>Observance</td>\n",
       "    </tr>\n",
       "    <tr>\n",
       "      <th>33</th>\n",
       "      <td>Dec 26</td>\n",
       "      <td>Monday</td>\n",
       "      <td>Second day of Christmas</td>\n",
       "      <td>National holiday</td>\n",
       "    </tr>\n",
       "  </tbody>\n",
       "</table>\n",
       "</div>\n",
       "      <button class=\"colab-df-convert\" onclick=\"convertToInteractive('df-2d97c06d-88f7-45b6-ac26-acfe2bafba40')\"\n",
       "              title=\"Convert this dataframe to an interactive table.\"\n",
       "              style=\"display:none;\">\n",
       "        \n",
       "  <svg xmlns=\"http://www.w3.org/2000/svg\" height=\"24px\"viewBox=\"0 0 24 24\"\n",
       "       width=\"24px\">\n",
       "    <path d=\"M0 0h24v24H0V0z\" fill=\"none\"/>\n",
       "    <path d=\"M18.56 5.44l.94 2.06.94-2.06 2.06-.94-2.06-.94-.94-2.06-.94 2.06-2.06.94zm-11 1L8.5 8.5l.94-2.06 2.06-.94-2.06-.94L8.5 2.5l-.94 2.06-2.06.94zm10 10l.94 2.06.94-2.06 2.06-.94-2.06-.94-.94-2.06-.94 2.06-2.06.94z\"/><path d=\"M17.41 7.96l-1.37-1.37c-.4-.4-.92-.59-1.43-.59-.52 0-1.04.2-1.43.59L10.3 9.45l-7.72 7.72c-.78.78-.78 2.05 0 2.83L4 21.41c.39.39.9.59 1.41.59.51 0 1.02-.2 1.41-.59l7.78-7.78 2.81-2.81c.8-.78.8-2.07 0-2.86zM5.41 20L4 18.59l7.72-7.72 1.47 1.35L5.41 20z\"/>\n",
       "  </svg>\n",
       "      </button>\n",
       "      \n",
       "  <style>\n",
       "    .colab-df-container {\n",
       "      display:flex;\n",
       "      flex-wrap:wrap;\n",
       "      gap: 12px;\n",
       "    }\n",
       "\n",
       "    .colab-df-convert {\n",
       "      background-color: #E8F0FE;\n",
       "      border: none;\n",
       "      border-radius: 50%;\n",
       "      cursor: pointer;\n",
       "      display: none;\n",
       "      fill: #1967D2;\n",
       "      height: 32px;\n",
       "      padding: 0 0 0 0;\n",
       "      width: 32px;\n",
       "    }\n",
       "\n",
       "    .colab-df-convert:hover {\n",
       "      background-color: #E2EBFA;\n",
       "      box-shadow: 0px 1px 2px rgba(60, 64, 67, 0.3), 0px 1px 3px 1px rgba(60, 64, 67, 0.15);\n",
       "      fill: #174EA6;\n",
       "    }\n",
       "\n",
       "    [theme=dark] .colab-df-convert {\n",
       "      background-color: #3B4455;\n",
       "      fill: #D2E3FC;\n",
       "    }\n",
       "\n",
       "    [theme=dark] .colab-df-convert:hover {\n",
       "      background-color: #434B5C;\n",
       "      box-shadow: 0px 1px 3px 1px rgba(0, 0, 0, 0.15);\n",
       "      filter: drop-shadow(0px 1px 2px rgba(0, 0, 0, 0.3));\n",
       "      fill: #FFFFFF;\n",
       "    }\n",
       "  </style>\n",
       "\n",
       "      <script>\n",
       "        const buttonEl =\n",
       "          document.querySelector('#df-2d97c06d-88f7-45b6-ac26-acfe2bafba40 button.colab-df-convert');\n",
       "        buttonEl.style.display =\n",
       "          google.colab.kernel.accessAllowed ? 'block' : 'none';\n",
       "\n",
       "        async function convertToInteractive(key) {\n",
       "          const element = document.querySelector('#df-2d97c06d-88f7-45b6-ac26-acfe2bafba40');\n",
       "          const dataTable =\n",
       "            await google.colab.kernel.invokeFunction('convertToInteractive',\n",
       "                                                     [key], {});\n",
       "          if (!dataTable) return;\n",
       "\n",
       "          const docLinkHtml = 'Like what you see? Visit the ' +\n",
       "            '<a target=\"_blank\" href=https://colab.research.google.com/notebooks/data_table.ipynb>data table notebook</a>'\n",
       "            + ' to learn more about interactive tables.';\n",
       "          element.innerHTML = '';\n",
       "          dataTable['output_type'] = 'display_data';\n",
       "          await google.colab.output.renderOutput(dataTable, element);\n",
       "          const docLink = document.createElement('div');\n",
       "          docLink.innerHTML = docLinkHtml;\n",
       "          element.appendChild(docLink);\n",
       "        }\n",
       "      </script>\n",
       "    </div>\n",
       "  </div>\n",
       "  "
      ],
      "text/plain": [
       "      Date     Day                       Name                        Type\n",
       "2   Jan 24  Monday            Unification Day            National holiday\n",
       "10  Apr 25  Monday     Orthodox Easter Monday  National holiday, Orthodox\n",
       "19  Jun 13  Monday  Orthodox Pentecost Monday  National holiday, Orthodox\n",
       "23  Aug 15  Monday              St Mary's Day            National holiday\n",
       "25  Oct 31  Monday                  Halloween                  Observance\n",
       "33  Dec 26  Monday    Second day of Christmas            National holiday"
      ]
     },
     "execution_count": 48,
     "metadata": {},
     "output_type": "execute_result"
    }
   ],
   "source": [
    "# Daca vrem se vedem sarbatorile care se nimeresc in ziua de luni putem face o selecție în dataframe\n",
    "df_luni = df.loc[df[\"Day\"] == \"Monday\"]\n",
    "df_luni"
   ]
  },
  {
   "cell_type": "markdown",
   "metadata": {
    "id": "xmrzEs27iHYw"
   },
   "source": [
    "Putem salva rezultatul (la fel ca orice dicționar de python) intr-un json, ca alternativa la DataFrame - acest lucru poate fi util într-o aplicație pentru comunicarea cu front-end-ul."
   ]
  },
  {
   "cell_type": "code",
   "execution_count": 50,
   "metadata": {
    "id": "cRwND0SBh_Ca"
   },
   "outputs": [],
   "source": [
    "import json\n",
    "json_str = df.to_json(orient='records')\n",
    "json_result = json.loads(json_str)\n",
    "\n",
    "with open('holidays.json', 'w', encoding='utf8') as fout:\n",
    "    json.dump(json_result, fout, indent=4, sort_keys=True, ensure_ascii=False)"
   ]
  },
  {
   "cell_type": "markdown",
   "metadata": {
    "id": "v4uecs3b3MXZ"
   },
   "source": [
    "Alte biblioteci utile pentru scraping:\n",
    " * [scrapy](https://scrapy.org/) (folosit in special pentru web crawling)\n",
    " * [selenium](https://selenium-python.readthedocs.io/) (folosit pentru a simula activitatea din browser, utilizat in special in scrierea de teste pentru aplicatii front-end)"
   ]
  },
  {
   "cell_type": "markdown",
   "metadata": {
    "id": "sFNRIfgF1cRD"
   },
   "source": [
    "## TASK: IMDb scraping"
   ]
  },
  {
   "cell_type": "markdown",
   "metadata": {
    "id": "6G-0iTm14GIy"
   },
   "source": [
    "1. Pornind de la lista cu cele mai populare 250 de filme de pe IMDb ([https://www.imdb.com/chart/top/](https://www.imdb.com/chart/top/)), identificati pentru toate aceste filme link-ul catre pagina sa de recenzii.\n",
    "\n",
    "Exemplu: aici se gaseste pagina cu recenzii pentru \"The Shawshank Redemption\": [https://www.imdb.com/title/tt0111161/reviews](https://www.imdb.com/title/tt0111161/reviews)"
   ]
  },
  {
   "cell_type": "code",
   "execution_count": 37,
   "metadata": {
    "id": "Wlm1QSJR5Ie9"
   },
   "outputs": [],
   "source": [
    "import re\n",
    "import requests\n",
    "from bs4 import BeautifulSoup\n",
    "import pandas as pd\n",
    "import numpy as np\n",
    "import json\n",
    "\n",
    "\n",
    "def parse_html(address):\n",
    "    request = requests.get(address)\n",
    "    html = request.content\n",
    "    return BeautifulSoup(html, \"html.parser\")\n",
    "\n",
    "\n",
    "def has_title(href):\n",
    "    return href and \"/title/\" in href\n",
    "\n",
    "\n",
    "def get_links(text):\n",
    "    films_list = text.find_all(href=has_title)\n",
    "    films_list = str(films_list)\n",
    "\n",
    "    links = re.findall(r\"/\\w+/tt\\d+/\", films_list)\n",
    "    links = links[::2]\n",
    "    links = map(lambda x: \"https://www.imdb.com/\" + x + \"reviews\", links)\n",
    "\n",
    "    return list(links)\n",
    "\n",
    "def has_user(href):\n",
    "    return href and \"/user/\" in href\n",
    "\n",
    "def isnum(s):\n",
    "    return s and s.isnumeric()\n",
    "\n",
    "address = \"https://www.imdb.com/chart/top/\"\n",
    "soup = parse_html(address)\n",
    "\n",
    "links = get_links(soup)\n"
   ]
  },
  {
   "cell_type": "markdown",
   "metadata": {
    "id": "wK56g-0W5I1p"
   },
   "source": [
    "2. Pentru fiecare film colectati date despre recenziile sale (titlu, text, rating, data, utlizator, etc.)"
   ]
  },
  {
   "cell_type": "code",
   "execution_count": 28,
   "metadata": {
    "id": "jXT34ayI5_qi"
   },
   "outputs": [
    {
     "data": {
      "text/html": [
       "<div>\n",
       "<style scoped>\n",
       "    .dataframe tbody tr th:only-of-type {\n",
       "        vertical-align: middle;\n",
       "    }\n",
       "\n",
       "    .dataframe tbody tr th {\n",
       "        vertical-align: top;\n",
       "    }\n",
       "\n",
       "    .dataframe thead th {\n",
       "        text-align: right;\n",
       "    }\n",
       "</style>\n",
       "<table border=\"1\" class=\"dataframe\">\n",
       "  <thead>\n",
       "    <tr style=\"text-align: right;\">\n",
       "      <th></th>\n",
       "      <th>Movie_title</th>\n",
       "      <th>Review_title</th>\n",
       "      <th>Review date</th>\n",
       "      <th>Rating</th>\n",
       "      <th>User</th>\n",
       "      <th>Text</th>\n",
       "    </tr>\n",
       "  </thead>\n",
       "  <tbody>\n",
       "    <tr>\n",
       "      <th>0</th>\n",
       "      <td>Închisoarea îngerilor</td>\n",
       "      <td>Some birds aren't meant to be caged.</td>\n",
       "      <td>24 July 2010</td>\n",
       "      <td>10</td>\n",
       "      <td>hitchcockthelegend</td>\n",
       "      <td>The Shawshank Redemption is written and direct...</td>\n",
       "    </tr>\n",
       "    <tr>\n",
       "      <th>1</th>\n",
       "      <td>Închisoarea îngerilor</td>\n",
       "      <td>An incredible movie. One that lives with you.</td>\n",
       "      <td>17 February 2021</td>\n",
       "      <td>10</td>\n",
       "      <td>Sleepin_Dragon</td>\n",
       "      <td>It is no wonder that the film has such a high ...</td>\n",
       "    </tr>\n",
       "    <tr>\n",
       "      <th>2</th>\n",
       "      <td>Închisoarea îngerilor</td>\n",
       "      <td>Don't Rent Shawshank.</td>\n",
       "      <td>21 November 2005</td>\n",
       "      <td>10</td>\n",
       "      <td>EyeDunno</td>\n",
       "      <td>I'm trying to save you money; this is the last...</td>\n",
       "    </tr>\n",
       "    <tr>\n",
       "      <th>3</th>\n",
       "      <td>Închisoarea îngerilor</td>\n",
       "      <td>This is How Movies Should Be Made</td>\n",
       "      <td>18 February 2008</td>\n",
       "      <td>10</td>\n",
       "      <td>alexkolokotronis</td>\n",
       "      <td>This movie is not your ordinary Hollywood flic...</td>\n",
       "    </tr>\n",
       "    <tr>\n",
       "      <th>4</th>\n",
       "      <td>Închisoarea îngerilor</td>\n",
       "      <td>A classic piece of unforgettable film-making.</td>\n",
       "      <td>10 February 2006</td>\n",
       "      <td>10</td>\n",
       "      <td>kaspen12</td>\n",
       "      <td>In its Oscar year, Shawshank Redemption (writt...</td>\n",
       "    </tr>\n",
       "  </tbody>\n",
       "</table>\n",
       "</div>"
      ],
      "text/plain": [
       "             Movie_title                                   Review_title  \\\n",
       "0  Închisoarea îngerilor           Some birds aren't meant to be caged.   \n",
       "1  Închisoarea îngerilor  An incredible movie. One that lives with you.   \n",
       "2  Închisoarea îngerilor                          Don't Rent Shawshank.   \n",
       "3  Închisoarea îngerilor              This is How Movies Should Be Made   \n",
       "4  Închisoarea îngerilor  A classic piece of unforgettable film-making.   \n",
       "\n",
       "        Review date Rating                User  \\\n",
       "0      24 July 2010     10  hitchcockthelegend   \n",
       "1  17 February 2021     10      Sleepin_Dragon   \n",
       "2  21 November 2005     10            EyeDunno   \n",
       "3  18 February 2008     10    alexkolokotronis   \n",
       "4  10 February 2006     10            kaspen12   \n",
       "\n",
       "                                                Text  \n",
       "0  The Shawshank Redemption is written and direct...  \n",
       "1  It is no wonder that the film has such a high ...  \n",
       "2  I'm trying to save you money; this is the last...  \n",
       "3  This movie is not your ordinary Hollywood flic...  \n",
       "4  In its Oscar year, Shawshank Redemption (writt...  "
      ]
     },
     "metadata": {},
     "output_type": "display_data"
    }
   ],
   "source": [
    "reviews = parse_html(links[0])\n",
    "\n",
    "def create_reviews_df(reviews):\n",
    "    d = {'Movie_title': [],\n",
    "         'Review_title': [],\n",
    "         'Review date': [],\n",
    "         'Rating': [],\n",
    "         'User': [],\n",
    "         'Text': []\n",
    "         }\n",
    "    titlul_filmului = reviews.title.text.split('(')[0].strip()\n",
    "    for review in reviews.find_all(class_=\"lister-item-content\"):\n",
    "        soup = BeautifulSoup(str(review), 'html.parser')\n",
    "\n",
    "        title_text = soup.find('a', {'class': 'title'}).text.strip()\n",
    "        review_date = soup.find('span', {'class': 'review-date'}).text.strip()\n",
    "        try:\n",
    "            rating = soup.find('span', string=isnum).text\n",
    "        except:\n",
    "            rating = np.NaN\n",
    "        user = soup.find('a', {\"href\": has_user}).text.strip()\n",
    "        text = soup.find('div', {'class': 'text show-more__control'}).text.strip()\n",
    "\n",
    "        d['Review_title'].append(title_text)\n",
    "        d['Review date'].append(review_date)\n",
    "        d['User'].append(user)\n",
    "        d['Rating'].append(rating)\n",
    "        d['Text'].append(text)\n",
    "        d['Movie_title'].append(titlul_filmului)\n",
    "\n",
    "# soup = BeautifulSoup(str(x[0]), 'html.parser')\n",
    "\n",
    "\n",
    "    df = pd.DataFrame(d)\n",
    "    return df\n",
    "final_df = create_reviews_df(reviews).head()\n",
    "display(final_df.head())"
   ]
  },
  {
   "cell_type": "markdown",
   "metadata": {
    "id": "RhcG_zFK6AFE"
   },
   "source": [
    "3. Creati un dataset de recenzii, pentru fiecare recenzie stocati:\n",
    " * filmul caruia ii apartine\n",
    " * titlul recenziei\n",
    " * textul recenziei\n",
    " * ratingul\n",
    " * data\n",
    " * utilizator\n",
    "\n",
    " Salvati datasetul intr-un fisier JSON."
   ]
  },
  {
   "cell_type": "code",
   "execution_count": 38,
   "metadata": {
    "id": "4BYOWe4C6wz3"
   },
   "outputs": [
    {
     "data": {
      "text/html": [
       "<div>\n",
       "<style scoped>\n",
       "    .dataframe tbody tr th:only-of-type {\n",
       "        vertical-align: middle;\n",
       "    }\n",
       "\n",
       "    .dataframe tbody tr th {\n",
       "        vertical-align: top;\n",
       "    }\n",
       "\n",
       "    .dataframe thead th {\n",
       "        text-align: right;\n",
       "    }\n",
       "</style>\n",
       "<table border=\"1\" class=\"dataframe\">\n",
       "  <thead>\n",
       "    <tr style=\"text-align: right;\">\n",
       "      <th></th>\n",
       "      <th>Movie_title</th>\n",
       "      <th>Review_title</th>\n",
       "      <th>Review date</th>\n",
       "      <th>Rating</th>\n",
       "      <th>User</th>\n",
       "      <th>Text</th>\n",
       "    </tr>\n",
       "  </thead>\n",
       "  <tbody>\n",
       "    <tr>\n",
       "      <th>0</th>\n",
       "      <td>Închisoarea îngerilor</td>\n",
       "      <td>Some birds aren't meant to be caged.</td>\n",
       "      <td>24 July 2010</td>\n",
       "      <td>10</td>\n",
       "      <td>hitchcockthelegend</td>\n",
       "      <td>The Shawshank Redemption is written and direct...</td>\n",
       "    </tr>\n",
       "    <tr>\n",
       "      <th>1</th>\n",
       "      <td>Închisoarea îngerilor</td>\n",
       "      <td>An incredible movie. One that lives with you.</td>\n",
       "      <td>17 February 2021</td>\n",
       "      <td>10</td>\n",
       "      <td>Sleepin_Dragon</td>\n",
       "      <td>It is no wonder that the film has such a high ...</td>\n",
       "    </tr>\n",
       "    <tr>\n",
       "      <th>2</th>\n",
       "      <td>Închisoarea îngerilor</td>\n",
       "      <td>Don't Rent Shawshank.</td>\n",
       "      <td>21 November 2005</td>\n",
       "      <td>10</td>\n",
       "      <td>EyeDunno</td>\n",
       "      <td>I'm trying to save you money; this is the last...</td>\n",
       "    </tr>\n",
       "    <tr>\n",
       "      <th>3</th>\n",
       "      <td>Închisoarea îngerilor</td>\n",
       "      <td>This is How Movies Should Be Made</td>\n",
       "      <td>18 February 2008</td>\n",
       "      <td>10</td>\n",
       "      <td>alexkolokotronis</td>\n",
       "      <td>This movie is not your ordinary Hollywood flic...</td>\n",
       "    </tr>\n",
       "    <tr>\n",
       "      <th>4</th>\n",
       "      <td>Închisoarea îngerilor</td>\n",
       "      <td>A classic piece of unforgettable film-making.</td>\n",
       "      <td>10 February 2006</td>\n",
       "      <td>10</td>\n",
       "      <td>kaspen12</td>\n",
       "      <td>In its Oscar year, Shawshank Redemption (writt...</td>\n",
       "    </tr>\n",
       "    <tr>\n",
       "      <th>...</th>\n",
       "      <td>...</td>\n",
       "      <td>...</td>\n",
       "      <td>...</td>\n",
       "      <td>...</td>\n",
       "      <td>...</td>\n",
       "      <td>...</td>\n",
       "    </tr>\n",
       "    <tr>\n",
       "      <th>120</th>\n",
       "      <td>12 Oameni mânioşi</td>\n",
       "      <td>Good script, great dialogs and a set of actors...</td>\n",
       "      <td>1 September 2003</td>\n",
       "      <td>9</td>\n",
       "      <td>jomipira</td>\n",
       "      <td>This is one of those movies where everything c...</td>\n",
       "    </tr>\n",
       "    <tr>\n",
       "      <th>121</th>\n",
       "      <td>12 Oameni mânioşi</td>\n",
       "      <td>I find this movie guilty of being a masterpiece.</td>\n",
       "      <td>6 August 2005</td>\n",
       "      <td>10</td>\n",
       "      <td>lee_eisenberg</td>\n",
       "      <td>Shot in real time, this story of a jury trying...</td>\n",
       "    </tr>\n",
       "    <tr>\n",
       "      <th>122</th>\n",
       "      <td>12 Oameni mânioşi</td>\n",
       "      <td>\"You can't send someone off to die with eviden...</td>\n",
       "      <td>30 July 2011</td>\n",
       "      <td>9</td>\n",
       "      <td>classicsoncall</td>\n",
       "      <td>When I was a store manager for a regional supe...</td>\n",
       "    </tr>\n",
       "    <tr>\n",
       "      <th>123</th>\n",
       "      <td>12 Oameni mânioşi</td>\n",
       "      <td>The material is slightly forced for dramatic p...</td>\n",
       "      <td>27 April 2008</td>\n",
       "      <td>NaN</td>\n",
       "      <td>bob the moo</td>\n",
       "      <td>A young ethnic kid from a rough area is up on ...</td>\n",
       "    </tr>\n",
       "    <tr>\n",
       "      <th>124</th>\n",
       "      <td>12 Oameni mânioşi</td>\n",
       "      <td>12 men in a room. Genius.</td>\n",
       "      <td>17 March 2019</td>\n",
       "      <td>10</td>\n",
       "      <td>ElJimbooo</td>\n",
       "      <td>In my opinion, 12 Angry Men is the greatest fi...</td>\n",
       "    </tr>\n",
       "  </tbody>\n",
       "</table>\n",
       "<p>125 rows × 6 columns</p>\n",
       "</div>"
      ],
      "text/plain": [
       "               Movie_title                                       Review_title  \\\n",
       "0    Închisoarea îngerilor               Some birds aren't meant to be caged.   \n",
       "1    Închisoarea îngerilor      An incredible movie. One that lives with you.   \n",
       "2    Închisoarea îngerilor                              Don't Rent Shawshank.   \n",
       "3    Închisoarea îngerilor                  This is How Movies Should Be Made   \n",
       "4    Închisoarea îngerilor      A classic piece of unforgettable film-making.   \n",
       "..                     ...                                                ...   \n",
       "120      12 Oameni mânioşi  Good script, great dialogs and a set of actors...   \n",
       "121      12 Oameni mânioşi   I find this movie guilty of being a masterpiece.   \n",
       "122      12 Oameni mânioşi  \"You can't send someone off to die with eviden...   \n",
       "123      12 Oameni mânioşi  The material is slightly forced for dramatic p...   \n",
       "124      12 Oameni mânioşi                          12 men in a room. Genius.   \n",
       "\n",
       "          Review date Rating                User  \\\n",
       "0        24 July 2010     10  hitchcockthelegend   \n",
       "1    17 February 2021     10      Sleepin_Dragon   \n",
       "2    21 November 2005     10            EyeDunno   \n",
       "3    18 February 2008     10    alexkolokotronis   \n",
       "4    10 February 2006     10            kaspen12   \n",
       "..                ...    ...                 ...   \n",
       "120  1 September 2003      9            jomipira   \n",
       "121     6 August 2005     10       lee_eisenberg   \n",
       "122      30 July 2011      9      classicsoncall   \n",
       "123     27 April 2008    NaN         bob the moo   \n",
       "124     17 March 2019     10           ElJimbooo   \n",
       "\n",
       "                                                  Text  \n",
       "0    The Shawshank Redemption is written and direct...  \n",
       "1    It is no wonder that the film has such a high ...  \n",
       "2    I'm trying to save you money; this is the last...  \n",
       "3    This movie is not your ordinary Hollywood flic...  \n",
       "4    In its Oscar year, Shawshank Redemption (writt...  \n",
       "..                                                 ...  \n",
       "120  This is one of those movies where everything c...  \n",
       "121  Shot in real time, this story of a jury trying...  \n",
       "122  When I was a store manager for a regional supe...  \n",
       "123  A young ethnic kid from a rough area is up on ...  \n",
       "124  In my opinion, 12 Angry Men is the greatest fi...  \n",
       "\n",
       "[125 rows x 6 columns]"
      ]
     },
     "metadata": {},
     "output_type": "display_data"
    },
    {
     "name": "stdout",
     "output_type": "stream",
     "text": [
      "{\n",
      "    \"columns\": [\n",
      "        \"Movie_title\",\n",
      "        \"Review_title\",\n",
      "        \"Review date\",\n",
      "        \"Rating\",\n",
      "        \"User\",\n",
      "        \"Text\"\n",
      "    ],\n",
      "    \"index\": [\n",
      "        0,\n",
      "        1,\n",
      "        2,\n",
      "        3,\n",
      "        4,\n",
      "        5,\n",
      "        6,\n",
      "        7,\n",
      "        8,\n",
      "        9,\n",
      "        10,\n",
      "        11,\n",
      "        12,\n",
      "        13,\n",
      "        14,\n",
      "        15,\n",
      "        16,\n",
      "        17,\n",
      "        18,\n",
      "        19,\n",
      "        20,\n",
      "        21,\n",
      "        22,\n",
      "        23,\n",
      "        24\n",
      "    ],\n",
      "    \"data\": [\n",
      "        [\n",
      "            \"12 Oameni m\\u00e2nio\\u015fi\",\n",
      "            \"The over-used term \\\"classic movie\\\" really comes into its own here!\",\n",
      "            \"12 August 2002\",\n",
      "            null,\n",
      "            \"uds3\",\n",
      "            \"This once-in-a-generation masterpiece simply has no equal. The late 90's TV remake was quite adequate though totally unnecessary and in the upshot proved simply that updating a film for updating's sake is really an exercise in futility. Even had it BEEN as good - so what?There could be few, if ANY film-goers reading this who are unaware of the plotline and in any event many others have re-hashed this for you. The brilliance of the film is evident in so many aspects. To begin with, the ability to not only sustain interest but to command the viewer's attention for basically its entire running time within a setting of principally just one room, borders on the inspired. Whether or not that would actually work with TODAY'S audiences is another discussion! What we have here are twelve everyday Mr Joe Blows, summoned together on a jury panel to decide a defendant's guilt or innocence with regards to a murder charge. If you were to gather unto yourselves ANY twelve jurors at random, you would most likely be able to pinpoint the Henry Fonda, Lee Cobb, E. G. Marshall, Jack Warden etc etc amongst them! Their very \\\"ordinariness\\\" is where the film succeeded. Everyone can identify with at least ONE of those characters. Whether or not he may WANT to is a different matter. The thinker, the sensitive man, the arrogant bully, the opportunist, the mentally challenged loudmouth, the slimeball, the emotionally withdrawn, the sheep etc - they're all here! Welcome to society folks! I dislike society in the main - doubtless a reason I found this film to be such a revelation..even when I was barely into my teens!12 ANGRY MEN also pinpoints the shortcomings of the law, how \\\"truth\\\" can be so intrinsically left-field and unintentionally flawed. Lumet, working within a minimal budget here, delivers unstinting brilliance in both direction, character portrayal and script interpretation. He had of course superb acting talent at his disposal although some of the most memorable performances are from the lesser players. Some have denounced Fonda's role as being acceptable rather than awesome. I think however he was to a great degree playing himself here, not to an audience. His, is a study in deliberation and logic not show-pony stuff, but hell that never WAS Fonda was it?This is a great great movie, as is evidenced by the extremely high user-vote worldwide. IF you haven't seen it - you really should do something about that!\"\n",
      "        ],\n",
      "        [\n",
      "            \"12 Oameni m\\u00e2nio\\u015fi\",\n",
      "            \"No Dissonance\",\n",
      "            \"26 April 2001\",\n",
      "            null,\n",
      "            \"tedg\",\n",
      "            \"This film deserves to be on anyone's list of top films. My problem is that it is so perfect, so seamlessly polished, it is hard to appreciate the individual excellences.The acting is top notch. I believe that monologue acting is quite a bit simpler than real reactive ensemble acting. Most of what we see today is monologues pretending to be conversations. But in this film, we have utter mastery of throwing emotions. Once the air becomes filled with human essence, it is hard to not get soaked ourselves as the camera moves through the thick atmosphere. Yes, there are slight differences in how each actor projects (Fonda internally, Balsam completely on his skin...) but the ensemble presents one vision to the audience.The writing is snappy too. You can tell it was worked and worked and worried, going through several generations. It is easy to be mesmerized by this writing and acting, and miss the rare accomplishment of the camera-work. This camera is so fluid, you forget you are in one room. It moves from being a human observer, to being omniscient, to being a target. It is smart enough to seldom center on the element of most importance, so expands the field to all men.This is very hard. Very hard, to make the camera human. So much easier to do what we see today -- acknowledge the machinery and jigger with it. Do we have a filmmaker today who could do this?Ted's Evaluation -- 4 of 3: Every cineliterate person should experience this.\"\n",
      "        ],\n",
      "        [\n",
      "            \"12 Oameni m\\u00e2nio\\u015fi\",\n",
      "            \"One of the great theatrical examples of what makes for superb drama.\",\n",
      "            \"20 March 2017\",\n",
      "            \"10\",\n",
      "            \"mark.waltz\",\n",
      "            \"Theater at its best is practically impossible to get down on film correctly. When Hollywood gets it right, they create a work of art. In this case, they did it simply, without frills, casting actors who looked real and fell into their individual parts like kids into a swimming pool on a hot summers day. It's the hottest day of the year, and these twelve men must decide the fate of an accused killer. But twelve men means twelve personalities, twelve temperaments, twelve political views, twelve religious opinions and twelve preconceived notions. As the temperature swells, so does the temperament. Having been a very reluctant jury foreman, I find myself seeing eye to eye with the shyness of the man forced to lead the proceedings. Everybody looks at you to get the ball rolling and hopefully get out of there as quickly as possible. Martin Balsam, as the foreman, tries to remain dignified and not be overly in control, losing that to one of the jurors who looks at the case in a completely different way than the others. Twelve personalities means plenty of neuroses, and in a very short time, seeing what's really going on in the minds of strangers whom you'll never see again.This trial involves young John Sacova, accused of killing his own father, and the twelve men must decide whether he gets the chair or not. These men, only identified through their juror number, are completely different, and it's obvious from the start that some of them (John Fiedler in particular) vote guilty because they think they have to. Only one (Henry Fonda) votes not guilty, and of course, one of them says, \\\"There's always one.\\\" There are the aggressive ones certain of guilt, empathetic ones who would like to see the charges reduced, and those who view all young people from certain areas as scum regardless of their situation. At 60 years old, this film shows the same prejudices we face today, yet shows that there is always someone not about to follow the crowd simply because something strikes them as off. It is Fonda who will pretty much control the room, although he does it in a subtle way where nobody realizes that he's pretty much taken over.While jury's have changed in 60 years (allowing women to serve being the most obvious change), what hasn't changed in the conflict of trying to understand the truth and to agree with 11 other people about it. Fonda goes against what would be allowed today by acting on his own and visiting the neighborhood of the crime, but his passion in figuring out the truth is very admirable. He is quiet in his determination, making this typical Fonda but one that fills his soul with humility and integrity.Under the direction of novice Sidney Lumet, the entire cast is outstanding. Familiar faces from all walks of show business each get their chance to shine. Jack Klugman, Ed Begley, E.G. Marshall, Jack Warden, to name a few. I could easily write something about each of them, but it's worth checking them all out yourself. The one juror who really makes an impression in creating his character is Lee J. Cobb as the very aggressive juror who is hiding behind similarities to the case, having had a contentious relationship with his son that sparks his instant sense that the defendant is guilty beyond a shadow of a doubt. He was deservedly nominated for a Golden Globe (as was Fonda), but the Oscars only acknowledged the film, director and script for nominations. Each jury is its own story, and from city to city, nothing changes but the type of case and the date.\"\n",
      "        ],\n",
      "        [\n",
      "            \"12 Oameni m\\u00e2nio\\u015fi\",\n",
      "            \"What a Character-Study Is Meant to Be.\",\n",
      "            \"8 June 2002\",\n",
      "            null,\n",
      "            \"tfrizzell\",\n",
      "            \"Intense courtroom drama which has 12 very different people, all males, struggling with a murder case involving a young Puerto Rican boy that seems cut-and-dried. However, juror Henry Fonda does not believe it to be as sure-fire as it appears. He votes not guilty and what follows is a chain of events that will test the views, beliefs and thoughts of the other 11 members. Fonda is great, but Lee J. Cobb steals every scene (and that is not easy to do in a film like this). Ed Begley, Martin Balsam, Jack Warden, Jack Klugman, Joseph Sweeney, E.G. Marshall and John Fiedler are among the other individuals caught in a situation that is much more difficult than it appears on the surface. An excellent character-study that should be studied and embraced by all present and future film-makers. 5 stars out of 5.\"\n",
      "        ],\n",
      "        [\n",
      "            \"12 Oameni m\\u00e2nio\\u015fi\",\n",
      "            \"Dont judge by the age!\",\n",
      "            \"31 January 2020\",\n",
      "            \"10\",\n",
      "            \"henriquelrf\",\n",
      "            \"For a while I was not very receptive to watching films that were too old. I always thought it would be difficult to get involved in the context, I couldn't be more wrong! 12 angry men, is a great example of how a simple film can do magic with good actors, and what great actors they are!\"\n",
      "        ],\n",
      "        [\n",
      "            \"12 Oameni m\\u00e2nio\\u015fi\",\n",
      "            \"Brilliant, brilliant, brilliant!!\",\n",
      "            \"10 June 2010\",\n",
      "            \"10\",\n",
      "            \"TheLittleSongbird\",\n",
      "            \"There are a few wonderful courtroom dramas out there, Anatomy of a Murder, To Kill a Mockingbird and Witness for the Prosecution immediately springing to mind. 12 Angry Men is so brilliant, it could very well be the definitive courtroom drama on film. Sidney Lumet's direction is masterly, and although the action takes place on one set(an actual New York drawing room) there are a huge variety of innovative camera angles and visual set-ups. The screenplay is sophisticated and smart, and the story is compelling and intelligent. The film is also brilliantly made, and the acting is superb. Henry Fonda especially dominates the film, with an integrity that makes his character so wonderful, but the other actors are wonderful as well, Ed Begley, Jack Warden, John Fiedler, Lee J Cobb, Rudy Bond et al. are all impeccable support to Fonda. Overall, brilliant courtroom drama. 10/10 Bethany Cox\"\n",
      "        ],\n",
      "        [\n",
      "            \"12 Oameni m\\u00e2nio\\u015fi\",\n",
      "            \"Terrific drama with some of the greatest actors in cinematic history\",\n",
      "            \"29 December 2006\",\n",
      "            \"10\",\n",
      "            \"Smells_Like_Cheese\",\n",
      "            \"Gosh, I don't know how many times I studied this play and performed it in high school, not to mention how many television shows had an episode that was inspired by 12 Angry Men. It was always a great drama because of the raw human emotions that were so true and remain timeless, this play will never be dated. I couldn't wait to see this movie when I saw it at the video store and it was the first movie I slipped into the DVD player. First off, I was incredibly impressed with the credits, we not only had Henry Fonda, we had Lee J. Cobb in the cast! This movie was so well performed and such a treasure, god, I couldn't ever say any words to justify it. I've done this a million times, but here is another summary of what 12 Angry Men is all about.12 jurors are about to make a decision about a murder case, over all it seems like an open and shut case with tons of evidence that would make any good man look guilty, an 18 year old boy is about to be put to death if convicted. 11 of the men vote guilty, only one vote holds them back and they have to discuss the trial once again due to one vote being not guilty. Jurour #8 refuses to just jump to conclusions and brings up incredible possibilities that can always make a man think of \\\"reasonable doubts\\\", one by one the jurors begin to see the points he is making, except for one stubborn #3 who would rather just pull the switch to the chair himself.12 Angry Men is a timeless tale that could either be told very badly, i.e. 7th Heaven, or incredibly well and bring out terrific performances like Henry and Lee did. Actually, the whole cast was terrific, there wasn't a performance that was off key, movies like this are so needed in Hollywood today, it was so simple, but added so much for a 30 minute play. Please, if you have any taste, you will truly enjoy 12 Angry Men and have a great appreciation for it! 10/10\"\n",
      "        ],\n",
      "        [\n",
      "            \"12 Oameni m\\u00e2nio\\u015fi\",\n",
      "            \"Excellent\",\n",
      "            \"1 July 2000\",\n",
      "            \"10\",\n",
      "            \"vukodlak\",\n",
      "            \"An excellent courtroom drama with a unique twist. Instead of following the trial itself, the viewer has a unique chance to observe the events behind the closed doors of a jury room. The film begins with the end of the trial. The jurors retire to deliberate the case. A preliminary vote is taken and the result is 11:1 in favour of the guilty verdict. Eleven jurors have raised their hands to convict a young man of killing his father. Only Juror #8 has doubts. At first even he does not truly believe the young man to be innocent but notes (rightfully) that the case for the defence might have been presented in a more convincing manner and that the boy might be given the benefit of a doubt. Since the boy is to be executed if found guilty his life is now in the hands of the jury and juror #8 reasons that the least they could do is talk about the case a bit. As time goes on some of the jurors change their minds and find that there is perhaps enough reasonable doubt not to convict the young man after all. But not everyone is easy to convince.Although the plot of the film is excellent and it is fascinating to see what little things can influence which way a verdict goes, where this film really succeeds is in presenting the characters of the 12 jurors. The character of each of the jurors emerges through a wonderful mix of perfect casting, excellent dialogue and near-flawless acting.Juror #1 - a simple man who clearly does not understand the full complexity of the task that lies before him but is trying to do everything not to let anyone else find this out. He appears at ease only once during the film - when he talks about football. He has the misfortune to be selected foreman of the jury - a task he clearly does not relish.Juror #2 - a small, quite man, clearly unaccustomed to giving his own opinion much less to expecting his views to be of any importance. Apparently he finds solace in his job - he is an accountant.Juror #3 - probably the most complex personality in the film. Starts off like a pleasant self-made successful businessman, he analyses the case impartially, explains his arguments well and is reasonably self assured. As time goes on he becomes more and more passionate and seems to be somehow personally involved with the case.  He also starts to show some signs of slight mental instability. Wonderfully played by Lee J. Cobb - this is the character you remember after the film is over.Juror #4 - self assured, slightly arrogant stockbroker. Obviously considers himself more intelligent than anyone else in the room, he approaches the case with cool heartless logic but (as one of the jurors says - \\\"this is not an exact science\\\") he does not take into account the feelings, the passions, the characters of the people involved in the case. He is conspicuous by the fact that he is the only juror that does not take his jacket off (it is a very hot day).Juror #5 - here is a man under great emotional stress. He comes from the same social background as the accused boy - with who he almost unwillingly seems to identify with. Paradoxically this appears one of the main reasons for him voting guilty - he does not want compassion to influence him - so ironically it does.Juror #6 - a simple man, quite readily admitting that everyone in the room is better qualified than he is to make decisions and offer explanations. But he really wants to see justice done and it worries him that he might make a mistake.Juror #7 - the only one that really has no opinion on this case. Literally throughout the film his thoughts are never on the case - he talks of baseball, of the heat, of fixing the fan but the only reason he has for voting this way or that is to speed things up a bit so he might be out of the jury room as soon as possible. Not an evil man he just has no sense of morality whatsoever - he can tell right from wrong but does not seem to think it's worth the bother.Juror #8- a caring man, has put more thought into the case than any of the other jurors. He tries to do his best even in the face of seemingly impossible odds.Juror #9 - a wise old man with his great life experience has quite a unique way of looking at the case.Juror #10 - the most horrifying character in the film. Votes guilty and does not even try to hide the fact that he does so only because of the boy's social background. The tragedy comes from the fact that his own social position is only a cut above the boy's - which makes him all the more eager to accentuate the difference.Juror #11 - an immigrant watchmaker, careful methodical man, well mannered and soft spoken. respects the right of people to have different opinion to his - and is willing to look at both sides of the problem. Loses his temper only once - horrified by the complete indifference of juror #7.Juror #12 - a young business type - perhaps he has his own opinions - but is careful to hide them. What he has learnt out of life seems to be that intelligence is equal with agreeing with what the majority of people think.The film succeeds in doing something very rare today - developing an intelligent plot while also developing 12 believable, memorable and distinct characters.\"\n",
      "        ],\n",
      "        [\n",
      "            \"12 Oameni m\\u00e2nio\\u015fi\",\n",
      "            \"Simple but great.\",\n",
      "            \"23 October 2004\",\n",
      "            \"9\",\n",
      "            \"juho69\",\n",
      "            \"'12 Angry Men' is an outstanding film. It is proof that, for a film to be great, it does not need extensive scenery, elaborate costumes or expensive special effects - just superlative acting.The twelve angry men are the twelve jurors of a murder case. An eighteen-year-old boy from a slum background is accused of stabbing his father to death and faces the electric chair if convicted. Eleven of the men believe the boy to be guilty; only one (Henry Fonda) has doubts. Can he manage to convince the others?The court case provides only a framework, however. The film's greatness lies in its bringing-together of twelve different men who have never met each other before and the interaction of their characters as each man brings his own background and life experiences into the case. Thus, we have the hesitant football coach (Martin Balsam), the shy, uncertain bank clerk (John Fiedler), the aggressive call company director (Lee J. Cobb), the authoritative broker (E.G. Marshall), the self-conscious slum dweller (Jack Klugman), the solid, dependable painter (Edward Binns), the selfish salesman (Jack Warden), the calm, collected architect (Fonda), the thoughtful, observant older man (Joseph Sweeney), the racially bigoted garage owner (Ed Begley), the East European watchmaker (George Voskovec) and the beefcake advertising agent (Robert Webber) who has plenty of chat and little else.Almost the entire film takes place in just one room, the jury room, where the men have retired to consider their verdict. The viewer finds him or herself sweating it out with the jury as the heat rises, literally and metaphorically, among the men as they make their way towards their final verdict. Interestingly, the jurors (apart from two at the end) are never named. They do not need to be. Their characters speak for them.Henry Fonda is eminently suitable and excellently believable as the dissenter who brings home the importance of a jury's duty to examine evidence thoroughly and without prejudice. Joseph Sweeney is delightful as Juror No. 9, the quiet but shrewd old man who misses nothing, whilst E.G. Marshall brings his usual firmness and authority to the role of Juror No. 4. All the actors shine but perhaps the best performance is that of Lee J. Cobb as Juror No. 3, the hard, stubborn, aggressive, vindictive avenger who is reduced to breaking down when forced to confront the failure of his relationship with his own son.Several of the stars of '12 Angry Men' became household names. Henry Fonda continued his distinguished career until his death in 1982, as well as fathering Jane and Peter. Lee J. Cobb landed the major role of Judge Henry Garth in 'The Virginian'. E.G. Marshall enjoyed a long, reputable career on film and t.v., including playing Joseph P. Kennedy in the 'Kennedy' mini-series. Jack Klugman was 'Quincy' whilst John Fiedler voiced Piglet in the 'Winnie The Pooh' films and cartoons.Of the twelve, only John Fiedler, Jack Klugman and Jack Warden* are still alive. Although around the eighty mark, they are all still acting. The film was still available on video last year and it is shown on t.v. fairly frequently. I cannot recommend it too highly!(*John Fiedler died June 2005. Jack Warden died July 2006.)\"\n",
      "        ],\n",
      "        [\n",
      "            \"12 Oameni m\\u00e2nio\\u015fi\",\n",
      "            \"An absolute must for anyone who considers themselves a film buff\",\n",
      "            \"13 April 2007\",\n",
      "            \"10\",\n",
      "            \"planktonrules\",\n",
      "            \"This is one of the greatest films ever made...period. Much of this can be attributed to the exceptional writing and much of this can be attributed to the amazing performances in one of the best ensemble casts in film history. In fact, anyone who considers themselves a film buff or a serious student of film cannot say so unless they have seen this film. I also wish all young directors and writers were forced to watch the film as it demonstrates the power of excellent writing and acting. Imagine...a film that is great that does NOT have special effects, was filmed in black and white, and 99% of which takes place in one small room.Aside from Henry Fonda, all the other actors are a virtual \\\"who's who\\\" of supporting character actors from the 1950s--and all were at the top of their game in this film. Unfortunately, the film has been parodied and copied so many times that the film's originality has been blunted. Oddly, one of the parodies of this plot came from the TV show \\\"The Odd Couple\\\"--which starred Jack Klugman who was ALSO in 12 ANGRY MEN! See this film. And, if it turns out you don't like it, then I suggest you see a psychiatrist!!!\"\n",
      "        ],\n",
      "        [\n",
      "            \"12 Oameni m\\u00e2nio\\u015fi\",\n",
      "            \"Should be in everyone's top ten list of greatest films of ALL TIME.....\",\n",
      "            \"11 January 2005\",\n",
      "            \"10\",\n",
      "            \"Freddy_Levit\",\n",
      "            \"........Films rarely get this uplifting and brilliant. I cannot think of the last time I was so intrigued by the flawless plot, dialogue and acting since 12 Angry Men. For such a simplistic story set in one jury room, it is surprising that Sidney Lumet can drain you of all your emotions and leave you on the edge of your seat with suspense, mystery, and some of the best acting your bound to ever see grace the silver screen!When a boy is on last day of trial for killing his father in the heat of domestic arguments, 12 jury men are forced to present a verdict in which if guilty, is the one way ticket to the electric chair for the boy. When the jury men decide to quickly end the discussion and raise their hands to find out who thinks the boy is guilty, only one jury man (Henry Fonda) doesn't put his hand up. Trial and Character revelations, doubts, and possibilities follow.So masterfully crafted is this film, that every time I watch it, only gets better. It includes some of the best character development I've ever seen. Sidney Lumet is an expert in this field and this is by far his greatest contribution to Hollywood history - one of the most important contributions to world cinema. However it was Henry Fonda and Lee J. Cobb who really made this film legendary, with their incredibly realistic performances. Casting was genius. And the dialogue was astoundingly riveting up until the brilliant finale. What really impressed me personally also was the camera angles and movements that made the film so suspenseful. Black and White made the film all the more powerful. And the music was minimal, which gave the film a more atmospheric experience, like you were their in the jury room with them - and you just feel that tension really built up as the movie proceeds.This inexpensive film, with such a simple setting had the world talking, the academy awards nominations rolling and Henry Fonda at his complete best form. I have rarely been so hypnotized by a film - 'Lawrence Of Arabia' and 'It's A Wonderful Life' are other ones that come to mind. This is a definitive viewing for anyone who loves film. It sums up everything I love about film. Everything from a technical point of view to superb acting and a simple yet complex character driven story, it's platinum and is most definitely one of the greatest cinematic achievements of all time - bar none! A statue should be erected in Sydney Lumet's honor......\\\"Is it possible?\\\" - Juror #8/Henry Fonda\"\n",
      "        ],\n",
      "        [\n",
      "            \"12 Oameni m\\u00e2nio\\u015fi\",\n",
      "            \"No bombs, no car chases but edge of the seat stuff none the less\",\n",
      "            \"18 September 2002\",\n",
      "            \"10\",\n",
      "            \"Andrew Devonshire\",\n",
      "            \"This film is superb, in fact as Shakespeare once said \\\"Its the bees' knees\\\". The film captivates the audience from the beginning.  Each of the twelve jurors are introduced to us as they are introduced to themselves. The characters are well draw out and individual, each with his own personality.The tension of the characters draws the audience in from the start.  We imagine that the case is open and shut, 11 me saying guilty and 1 not.  We feel the discomfort of Henry Fonda as the other characters belittle and mock how he can see any reasonable doubt in the case.  But we also share his victories and the enthusiasm as he proceeds to refute or add doubt to the arguments for guilty and are captivated and draw in as other jurors begin to see doubt in the proceedings.The audience can also see the arguments for guilty and wonder if Fonda's character is correct in saying that he doubts. Yet they also feel the shame of the characters as he disproves that a previously sound theory is iron tight, joining his side as members of the jury do.On top of this they are wonderfully woven in human elements such as the misconceptions that influence people and the growing tension between different characters.  This is brought to life even more by the amazing performances, Fonda, Lee J Cobb and Joseph Sweeney are of particular note.I started watching this film on a bored relaxed laying about day but by the end i was on the edge of the seat with my hands on my knees feeling more tense than a politician on results day.How a film should be made.  Modern directors take note(thats ur telling off for the day) 10/10\"\n",
      "        ],\n",
      "        [\n",
      "            \"12 Oameni m\\u00e2nio\\u015fi\",\n",
      "            \"If you only ever see one Black and White movie, make this it.\",\n",
      "            \"22 September 2005\",\n",
      "            \"10\",\n",
      "            \"Thelightbulb\",\n",
      "            \"I watched this film for the first time, when it was shown at about 1 o'clock in the morning. I made an effort to see it as it is rated as one of the best movies ever made, however I must admit that I watched it with a sense of reluctance as I'm not a great one for old \\\"classics\\\". This film blew me away however; how ignorant can I be about old films? How many other pre-1960s gems are there out there that I haven't seen? What strikes me most about this film is how progressive it is for its day. Indeed the issues this film makes about American society of the 1950s, still ring true for western society today. This film concerns twelve jurors debating the sentence of an 18 year old Puerto Rican boy who on the face of it, has no real alibi. However one man, played brilliantly by Henry Fonda, is ill-at ease putting a young boy to death without even debating his case, much to the despair of the other jurors. What follows is a brilliant piece of film making, slowly revealing many of the juror's complex characters to the audience as they react to Fonda's concerns with their own mix of metal scars, prejudices and insecurities. What especially struck me about this film is how ordinary most of the characters are, none of the jurors are shown to be especially bad men, indeed most are portrayed as honest everyman type people. The use of ordinary characters is the films master-stroke because as one by one they begin to question their initial instincts, the flaws of society that have let this Puerto Rican boy down are presented to the audience. Tragically it appears that many of the issues that were beginning to be discussed in the 1950s have only got worse. For me there is one immortal comment in this film: one of the jurors, a man in his 50s says that the youths of today have no respect and have changed so much for the worse since his day. How ironic is it that some grumpy old men of today who may not even of have been born when this films was made, still say exactly the same thing? Finally a quick look at the cast shows that Fonda aside many of the cast were only moderately successful after this film. I think that's a shame as everyone of these actors is excellent and plays their part in making it one of the best films of all time. However within the cast there are a couple of treats; look out for Jack Klugman (Quincy) and John Fieldler who is the voice of many of Disney's characters such as Piglet. I urge you all, if you have not yet seen this film, please do so now.\"\n",
      "        ],\n",
      "        [\n",
      "            \"12 Oameni m\\u00e2nio\\u015fi\",\n",
      "            \"Classic in every sense and moment and frame\",\n",
      "            \"21 October 2019\",\n",
      "            \"10\",\n",
      "            \"kosmasp\",\n",
      "            \"I could go on, but I thought I'd stop there before my summary line gets too big. Now just because this is a classic movie (and we really should try to use that term lightly, but this movie really deserves it and I'll elaborate on that), does not mean everybody will love it. And if one does not like it, it does not mean they have no taste. They just have different tastes, which is a good thing, because if every human on earth would have the same taste, life would be very boring now wouldn't it? The asnwer is yes, in case you were wondering.But back to this, which begins outside and takes us inside. And it is important that we were outside because we will live inside a building (a room to be more specific) for the most time. There is also a brief shot of the alleged culprit/criminal. After that we get in a room with 12 men, who are quite different from each other. And while it wasn't yet time to give African American a chance in a movie like that (or Asian American for that matter), there is a critical racial line that is drawn. If you follow what is happening and who says what or argues in certain ways, you will see that this movie has quite the social commentary in it.Now that is one part of this being genius, because it never rubs your nose in it. It never says, this guy who is i.e. from Italian descent has a reasonable thing/argument to say. No you just hear the things and see the people interact. And I have not even mentioned the way the movie is shot. And I'm not talking about the black and white cinematography (which is beautifully lit), no. I mean the framing and the set-ups. the editing and how everything flows. You feel like you're inside the room. You feel like this really happens or happened. Even the things that seem not staged (someone blocking another person, a shadow, peoples back and more) are in fact staged and masterfully done so.There are way smarter people than me, that can list you many things this movie has done right and I'm sure there quite a few sources online to look for. Just listening to the audio commentary can give a small glimpse into certain things too. But again, since this is not something that one might call light entertaining, if it does not appeal to you, then it is so. It does not mean you are wrong and it surely does not mean that this movie is falsely considered a masterpiece!\"\n",
      "        ],\n",
      "        [\n",
      "            \"12 Oameni m\\u00e2nio\\u015fi\",\n",
      "            \"Flawless\",\n",
      "            \"5 January 2020\",\n",
      "            \"10\",\n",
      "            \"Marwan-Bob\",\n",
      "            \"Oh Boy Oh Boy, it Took me Seven years to Rewatch This Masterpiece, Damn why don't they make em like this Anymore.\"\n",
      "        ],\n",
      "        [\n",
      "            \"12 Oameni m\\u00e2nio\\u015fi\",\n",
      "            \"2 thumbs up!\",\n",
      "            \"25 February 2019\",\n",
      "            \"10\",\n",
      "            \"FrenchEddieFelson\",\n",
      "            \"I saw this movie 3 or 4 times, and each time, I remain speechless in front of such a masterpiece. An unforgettable acting game with poignant plot twists. Awesome!\"\n",
      "        ],\n",
      "        [\n",
      "            \"12 Oameni m\\u00e2nio\\u015fi\",\n",
      "            \"Birds of a Feather...\",\n",
      "            \"8 February 2022\",\n",
      "            \"9\",\n",
      "            \"Xstal\",\n",
      "            \"A room of jurors take their seats, deliberate; a young man's future on the line, his life at stake; twelve white middle aging men, show us time and time again, what diversity and difference helps negate.A lesson about bias and prejudice, as relevant today as it ever was.\"\n",
      "        ],\n",
      "        [\n",
      "            \"12 Oameni m\\u00e2nio\\u015fi\",\n",
      "            \"Pardon me, but don't you ever sweat?\",\n",
      "            \"14 February 2010\",\n",
      "            null,\n",
      "            \"tieman64\",\n",
      "            \"\\\"If you follow the crowd, you will likely get no further than the crowd. If you walk alone, you're likely to end up in places no one has ever been before. This is not without its difficulties, for peculiarity breeds contempt.\\\" \\u2013 Oscar Wilde Sidney Lumet's \\\"12 Angry Men\\\" opens with a teenage boy sitting before a judge. He's been accused of murdering his father. All evidence points to him having committed the crime and even the kid's lawyer believes him to be guilty. Enter the jury: 12 men tasked with settling upon a verdict. It seems certain that they will all find the kid accountable. After all, the facts prove that this kid killed his father. Don't they?The jury seclude themselves in a tiny room and take votes. 11 men find the kid guilty. One doesn't. The majority look at the 12th with bemusement. He's Henry Fonda, a mild mannered architect with a temperament of quiet confidence. How dare this guy disagree with them? How dare he stand alone? Tensions develop and the men begin to argue. Fonda plays it cool, stating that he doesn't necessarily believe the kid to be innocent, he simply wants to discuss the matter. After all, a kid's life is on the line. Why make hasty judgements? Why not talk things out, investigate the issue and dig a little deeper? Reluctantly, the others agree to talk. The kid's guilty, no doubt about it, so why not grant this wacky guy a couple hours of discussion? They're getting the day off work anyway. Humour the guy. And of course as the 12 men investigate the case, they begin to grow doubtful. Previously agreed upon truth comes crumbling down, ambiguities arise, new facts come to light, testimonies are cast in a new shade and the motives of witnesses and jurors are shown to be skewed by personal vendettas and a range of social/racial/personal biases.The film eventually ends with Henry Fonda, an iconic actor in one of his finest (if far too angelic) roles, having convinced the entire jury that the kid is innocent. With his quiet probing, his appeals to curiosity, truth and intellect over emotional hysteria, popular opinion and snap judgements, Fonda successfully opposes the other jurors. The film's message: question the majority, test the Gods with a hammer and be suspicious of commonly held truths. And most importantly, be tactful when contesting the majority, least they threaten you with a switchblade. But who cares? Normal is only a statistical distribution anyway.Upon release, \\\"Angry\\\" was read as a cautionary tale about McCarthyism, then a hot topic. Later its message became more broad: about a callous society's indifference to the less fortunate and willingness to unjustly sustain false accusations. Today, the film's almost a parody of bleeding heart liberals, many siding with the film's courtroom conservatives as a result. \\\"What is this?\\\" actor Lee J Cobb fumes in the film, \\\"Love Your Underprivileged Brother Week or something?\\\" His stance is typical today. The notion that offenders are too heavily viewed as victims of oppression, deprivation, racism, mental disorder, systemic problems etc, and so deserving of support rather than punishment.Aesthetically, \\\"12 Angry Men\\\" is remarkable; Lumet's camera work is superb and the film drips with both atmosphere and tension. The film also differs hugely from other legal dramas, taking place almost entirely within a jury's room and so sidestepping most of the the usual genre clich\\u00e9s (courtroom antics, last minute testimonials, witnesses, cathartic group-hugs etc).\\\"12 Angry Men\\\" may also be the finest film shot around a table. Indeed, any director will tell you that filming large groups of people conversing over a table is one of the most taxing things to do. Keeping track of eye-lines, coverage, body positions, shooting each individual from multiple angles over and over again...it's a mighty chore just to get things down on the most basic level, let alone keep the thing feeling kinetic and fresh.So what's remarkable about \\\"12 Angry Men\\\" is how much of a spatial movie it is. Director Sidney Lumet, who has a background in theatre (a very static medium, hence, perhaps, the initial appeal of such a claustrophobic script), charts his jury's room with a fluid camera. Watch how gorgeous his mise-en-scene is, how choreographed each character's body movements are, how Lumet's camera traces each character, assigning them spaces within the room. It's an incredibly organised little movie, Lumet dancing us deftly throughout this tiny arena, only to then spew his victors back out into the real world with a series of magnificently expansive shots.Then there's the acting. Lumet has always been an actor's director, and here he populates his film with a wealth of wonderful character actors. But Fonda's the star of course. Dressed in an angelic white suit, he's exactly the kind of morally righteous everyman hero which made many of Jimmy Stewart's early roles so popular. With a mixture of \\\"aww shucks\\\", suave sexiness and quiet intelligence, Fonda's immediately endearing. Unfortunately, the motivations of those who oppose Fonda are at times very heavy handed (everyone but Fonda is a raging buffoon, a sneaky attempt to elevate him), each one deliberately positioned to be shot down. End result: a heroic tale of progressive compassion defeating reactionary prejudice, in which the saintly conqueror of bigotry is himself bullying, has a firm agenda and is being buffeted by emotionalism.10/10 \\u2013 More great courtroom movies: \\\"The Verdict\\\", \\\"Paths of Glory\\\", \\\"Compulsion\\\", \\\"Death on the Staircase\\\", \\\"The Man Who Shot Liberty Valance\\\", \\\"Capturing The Friedmans\\\", \\\"The Paper Chase\\\" and \\\"Murder on a Sunday Morning\\\". Lesser legal flicks: \\\"Inherit the Wind\\\", \\\"JFK\\\", \\\"Adam's Rib\\\", \\\"Anatomy of A Murder\\\", \\\"The Caine Mutiny\\\", \\\"Witness for the Prosecution\\\", \\\"Miracle on 34th Street\\\", \\\"My Cousin Vinny\\\", \\\"Anatomy of a Murder\\\". Worth multiple viewings.\"\n",
      "        ],\n",
      "        [\n",
      "            \"12 Oameni m\\u00e2nio\\u015fi\",\n",
      "            \"The only version to see.\",\n",
      "            \"31 January 2020\",\n",
      "            \"10\",\n",
      "            \"gcanfield-29727\",\n",
      "            \"In my opinion, the best movie ever made. Brilliant performances all around. A whole lot of dialogue, but you never get tired of listening. Lumet's first film-what an amazing talent. Henry Fonda and Lee J Cobb stand out, but all are excellent. There was a prior TV version, which is horrible. Lumet's version is the only one to see.\"\n",
      "        ],\n",
      "        [\n",
      "            \"12 Oameni m\\u00e2nio\\u015fi\",\n",
      "            \"Masterpiece!\",\n",
      "            \"24 April 2019\",\n",
      "            \"10\",\n",
      "            \"navidveradi\",\n",
      "            \"The only thing I can write as an average Joe who watches movies simply to be entertained or see a story being told, is that I watched 12 Men argue in a room for more than an hour and I couldn't look away from the screen. Simply a masterpiece!\"\n",
      "        ],\n",
      "        [\n",
      "            \"12 Oameni m\\u00e2nio\\u015fi\",\n",
      "            \"Good script, great dialogs and a set of actors who would be the envy of the world\",\n",
      "            \"1 September 2003\",\n",
      "            \"9\",\n",
      "            \"jomipira\",\n",
      "            \"This is one of those movies where everything could go wrong. The story is as simple as it can be: 12 men are jurors on a open and shut murder trial, but one man thinks that another persons life deserves at least some thought on the matter and votes not guilty. From this point on we have 12 actors and a closed room. This could be the most boring film ever made. Lumet however is a master of mise-en-scene and provides a tense movie that keeps you locked on from the word \\\"go\\\". The dialogs are great and supported by incredibly talented actors. Joel Schumacher in Phone Booth needed to see this movie and draw a few ideas on how to make a character built, dialog driven movie. A must see for everyone.\"\n",
      "        ],\n",
      "        [\n",
      "            \"12 Oameni m\\u00e2nio\\u015fi\",\n",
      "            \"I find this movie guilty of being a masterpiece.\",\n",
      "            \"6 August 2005\",\n",
      "            \"10\",\n",
      "            \"lee_eisenberg\",\n",
      "            \"Shot in real time, this story of a jury trying to decide whether a young man is innocent or guilty never lets the viewer's attention go. Henry Fonda plays Juror #8, who is convinced the entire time that the defendant is innocent, while everyone else has already called him guilty. Throughout the movie, we not only get to hear everyone's opinions on the matter, but also every possibility of the verdict. With \\\"12 Angry Men\\\", Sidney Lumet brought to the screen the same kind of \\\"closing in\\\" feeling that he brought to movies like \\\"Network\\\". In the end, the issue is not whether the defendant is innocent or guilty; the important point is the process by which the jurors reached their decision. This may be THE perfect movie.\"\n",
      "        ],\n",
      "        [\n",
      "            \"12 Oameni m\\u00e2nio\\u015fi\",\n",
      "            \"\\\"You can't send someone off to die with evidence like that\\\".\",\n",
      "            \"30 July 2011\",\n",
      "            \"9\",\n",
      "            \"classicsoncall\",\n",
      "            \"When I was a store manager for a regional supermarket chain, about thirty years or so ago, our team was presented a developmental seminar featuring \\\"12 Angry Men\\\". Breaking into work groups, our task was to watch the film, and at strategically paused moments, predict which of the jurors would be the next to change their verdict from guilty to not guilty. It was an exercise in analytical thinking and observation of human behavior, characteristics that a good manager needs in order to develop a work force toward a common goal. There was actually a group that got all the positions right from one through twelve, which astounded me. Watching today, I got stuck again right at the outset, figuring Jack Klugman's Juror #5 would be the first to be influenced by Henry Fonda's argument.The film is an extraordinary piece of ensemble acting, and if the players weren't that well known back in the day, they have certainly made themselves a name since. Almost all have passed on, but to see actors like Henry Fonda, Lee J. Cobb, E.G. Marshall, Martin Balsam, Ed Begley and Klugman all in one film is a veritable treat, even apart from the story. But it's the story itself that rivets one's attention to the screen, and the slow, methodical plodding Fonda brings to the table with convincing arguments even in the face of his own uncertainty about the case. With a surety that \\\"The facts are supposed to determine the case\\\", Fonda's character struggles to assure his fellow jurors that the life of an accused killer is worth the effort to consider reasonable doubt.Aside from Fonda, the two most galvanizing characters are portrayed by Lee J. Cobb and Ed Begley. Begley, Juror #10, who exhibits the most extreme traits of racism and bigotry, forces each of the jurors to confront their own prejudices in an uncomfortable scene where almost every other juror stands up and turns their back on him. Cobb, Juror #3, has a much more personal investment in the trial, harboring a failed relationship with his own son that colors his view of the world. The really interesting point regarding Fonda's character is that he accomplished his mission without ever raising his voice. I don't think I could have done that considering the stakes involved.It's a rare film that can anchor the viewer in one spot for an hour and a half and make time fly by with an intriguing story and realistic dialog. Rarer still is the ability to poke a finger at one's own pre-conceived notions of guilt or innocence, forcing the serious viewer to take a seat at the jury table and examine the facts from all sides before voting guilty or not guilty.\"\n",
      "        ],\n",
      "        [\n",
      "            \"12 Oameni m\\u00e2nio\\u015fi\",\n",
      "            \"The material is slightly forced for dramatic purposes but the delivery is perfect across the board\",\n",
      "            \"27 April 2008\",\n",
      "            null,\n",
      "            \"bob the moo\",\n",
      "            \"A young ethnic kid from a rough area is up on a murder charge and to the jury of twelve men, it all seems a fairly open and shut case. So all are surprised when the votes come back with one \\\"not guilty\\\" in the pack. Juror #8 maintains he holds a reasonable doubt, much to the frustration of the rest of the group. The stalemate forces a debate over the details of the case which sees each man questioning others and themselves for their motivations and decisions. The heat in the room and the passage of time sees tensions rising by the minute.I'm not a massive fan of the \\\"Movie You Must See\\\" podcast crew because they mostly tend to discuss the events in a film rather than really critiquing or reviewing it (although at times this \\\"mates in a pub\\\" approach is OK). Anyway, one of the advantages of having anyone pointing out \\\"films you should see\\\" is that it reminds you that you should these films. So it was for me as I listened to 12 Angry Men and realised that not only had I never reviewed it but that I had not actually watched it for many years. Of course mentally I knew it was a \\\"classic\\\" but did I really understand why it was? So when it came on television recently I watched it again with new eyes.The films moves right into the jury room and pretty much this room is all we have for the duration. Initially the script does really well to have the viewer side with the majority because in the discussions the evidence does seem very clear cut and #8's doubts seem so general and non-specific. This is a good way to start because it means the viewer also has to question and we are taken along the journey just like the men in the jury. Gradually we get into the detail and doubts are tweaked out \\u0096 not to the point of solving the crime because that is not what it is about but it is done in a way that is interesting and engaging. It is not perfect in this regards though because some of the jumps are big, some of the assumptions are stretching and some of the knowledge in the room is a little too convenient. However what weaknesses there are in the material are covered by the fact that the delivery is roundly quite brilliant.Lumet directions from within the room and makes great use of such a small space. It feels like it could be a play (not sure if it was or not) but Lumet prevents this just feeling like filmed theatre. The camera captures the room, sticks close to characters, moves around, in and out accordingly and it never feels stiff. This aids the sense of tension from the audience point of view as we are not just left watching the room so much as being in it. The ensemble cast are another big factor in this delivery as they all deliver. On the surface of it the characters could easily be labelled \\\"racist\\\", \\\"old\\\", \\\"na\\u00efve\\\", \\\"angry\\\" and so on but the actors don't let themselves be that basic and they also do a good job of pacing the building resentment and tension in the room to be convincing. Fonda maybe has \\\"top-billing\\\" but he does have the least showy role, leading those into his corner. Cobb and Begley have good turns as the anger of the room but everyone plays their parts very well. OK Balsam, Webber and Voskovec come out the least memorable of the lot but this is understandable when viewed beside such sterling turns from Fielder, Klugman, Warden, Sweeney and Marshall. There really isn't a weak link in the room.With modern cynical eyes it is perhaps totally hard to accept the film for its praise of the jury system and I do agree with the \\\"MYMS\\\" group when they made reference to the moment in H:LOTS which is essentially the bitter reverse of this film. However this slightly flag-waving stuff is covered by the delivery being as strong and as well paced as it is. Overall then this is an eminently watchable film and I can understand why it is so well regarded. The material and message may not be note-perfect but the delivery is brilliant across the board and it is one that I could easily return to again and again and still get pleasure out of how well it is all done.\"\n",
      "        ],\n",
      "        [\n",
      "            \"12 Oameni m\\u00e2nio\\u015fi\",\n",
      "            \"12 men in a room. Genius.\",\n",
      "            \"17 March 2019\",\n",
      "            \"10\",\n",
      "            \"ElJimbooo\",\n",
      "            \"In my opinion, 12 Angry Men is the greatest film that has ever been created. A perfect example of less is more, the simplicity of the plot, the setting of the one room, and the acting talent of the 12 main cast members is enough to conquer the dramatic genre, and ensure that it remains a timeless classic.Whether you are a fan of the older generation of filmmaking or not, I implore you to experience this acting masterclass for yourself. More current movies such as Resevoir Dogs, which is superb in itself, have borrowed elements from 12 Angry Men, but trust me when I say there is nothing quite like this beautifully crafted drama. Watch it.\"\n",
      "        ]\n",
      "    ]\n",
      "}\n"
     ]
    }
   ],
   "source": [
    "frames = []\n",
    "for link in links[0:5]:\n",
    "    reviews = parse_html(link)\n",
    "    df = create_reviews_df(reviews)\n",
    "    frames.append(df) \n",
    "final_df = pd.concat(frames, ignore_index=True)\n",
    "display(final_df)\n",
    "\n",
    "result = df.to_json(orient=\"split\")\n",
    "parsed = json.loads(result)\n",
    "print(json.dumps(parsed, indent=4))"
   ]
  },
  {
   "cell_type": "markdown",
   "metadata": {
    "id": "NtSpO-Ss6yF_"
   },
   "source": [
    "4. Pe o pagina cu recenzii putem gasi un numar mic de astfel de date. Butonul de \"Load more\" de la final, cand este apasat, produce un request care returneaza HTML-ul urmatoarelor recenzii. Folosind aceasta logica colectati automat pentru fiecare film un numar mai mare de recenzii."
   ]
  },
  {
   "cell_type": "code",
   "execution_count": null,
   "metadata": {
    "id": "aO3K690x7m4I"
   },
   "outputs": [],
   "source": []
  }
 ],
 "metadata": {
  "colab": {
   "provenance": []
  },
  "gpuClass": "standard",
  "kernelspec": {
   "display_name": "Python 3 (ipykernel)",
   "language": "python",
   "name": "python3"
  },
  "language_info": {
   "codemirror_mode": {
    "name": "ipython",
    "version": 3
   },
   "file_extension": ".py",
   "mimetype": "text/x-python",
   "name": "python",
   "nbconvert_exporter": "python",
   "pygments_lexer": "ipython3",
   "version": "3.9.13"
  }
 },
 "nbformat": 4,
 "nbformat_minor": 1
}
